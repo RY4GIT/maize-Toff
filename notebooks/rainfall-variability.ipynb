{
 "cells": [
  {
   "cell_type": "markdown",
   "metadata": {},
   "source": [
    "# Rainfall variability\n",
    "\n",
    "Code and text partially sourced from Ridge to Reef Chapter 2. Here are the pending to-dos:\n",
    "\n",
    "- [ ] Which 3-5 stations to use? Determine using robust, reproducible method.\n",
    "- [ ] Add the following to the metadata file: Start and end year for each station; number of missing data points; improve location accuracy for flagged stations\n",
    "- [ ] Figure out which alpha, lambda values are needed: by month? by year? or just average? Get these values for the 3-5 stations that we'll use for the paper.\n",
    "\n",
    "\n",
    "Last updated: 5 February 2020"
   ]
  },
  {
   "cell_type": "markdown",
   "metadata": {},
   "source": [
    "## 1. Import model"
   ]
  },
  {
   "cell_type": "code",
   "execution_count": 1,
   "metadata": {},
   "outputs": [],
   "source": [
    "# import packages and set working directory\n",
    "import numpy as np\n",
    "import matplotlib.pyplot as plt\n",
    "import os\n",
    "from math import exp\n",
    "import pandas as pd\n",
    "import sys\n",
    "\n",
    "# We need to add the module path to our system path so \n",
    "# so that our notebook can find our local objects and code:\n",
    "module_path = os.path.abspath(os.path.join('..'))\n",
    "if module_path not in sys.path:\n",
    "    sys.path.append(module_path)\n",
    "    \n",
    "# os.chdir(\"../\")\n",
    "\n",
    "# import objects\n",
    "from farm import Climate\n",
    "from farm import Soil\n",
    "from farm import Crop\n",
    "from farm import CropModel\n",
    "from farm.make_climate_parameters import make_climate_parameters"
   ]
  },
  {
   "cell_type": "code",
   "execution_count": 2,
   "metadata": {},
   "outputs": [
    {
     "name": "stdout",
     "output_type": "stream",
     "text": [
      "79 0\n",
      "80 1\n",
      "81 2\n",
      "82 3\n",
      "83 4\n",
      "84 5\n",
      "85 6\n",
      "86 7\n",
      "87 8\n",
      "88 9\n",
      "89 10\n",
      "90 11\n",
      "91 12\n",
      "92 13\n",
      "93 14\n",
      "94 15\n",
      "95 16\n",
      "96 17\n",
      "97 18\n",
      "98 19\n",
      "99 20\n",
      "100 21\n",
      "101 22\n",
      "102 23\n",
      "103 24\n",
      "104 25\n",
      "105 26\n",
      "106 27\n",
      "107 28\n",
      "108 29\n",
      "109 30\n",
      "110 31\n",
      "111 32\n",
      "112 33\n",
      "113 34\n",
      "114 35\n",
      "115 36\n",
      "116 37\n",
      "117 38\n",
      "118 39\n",
      "119 40\n",
      "120 41\n",
      "121 42\n",
      "122 43\n",
      "123 44\n",
      "124 45\n",
      "125 46\n",
      "126 47\n",
      "127 48\n",
      "128 49\n",
      "129 50\n",
      "130 51\n",
      "131 52\n",
      "132 53\n",
      "133 54\n",
      "134 55\n",
      "135 56\n",
      "136 57\n",
      "137 58\n",
      "138 59\n",
      "139 60\n",
      "140 61\n",
      "141 62\n",
      "142 63\n",
      "143 64\n",
      "144 65\n",
      "145 66\n",
      "146 67\n",
      "147 68\n",
      "148 69\n",
      "149 70\n",
      "150 71\n",
      "151 72\n",
      "152 73\n",
      "153 74\n",
      "154 75\n",
      "155 76\n",
      "156 77\n",
      "157 78\n",
      "158 79\n",
      "159 80\n",
      "160 81\n",
      "161 82\n",
      "162 83\n",
      "163 84\n",
      "164 85\n",
      "165 86\n",
      "166 87\n",
      "167 88\n",
      "168 89\n",
      "169 90\n",
      "170 91\n",
      "171 92\n",
      "172 93\n",
      "173 94\n",
      "174 95\n",
      "175 96\n",
      "176 97\n",
      "177 98\n",
      "178 99\n",
      "179 100\n",
      "180 101\n",
      "181 102\n",
      "182 103\n",
      "183 104\n",
      "184 105\n",
      "185 106\n",
      "186 107\n",
      "187 108\n",
      "188 109\n",
      "189 110\n",
      "190 111\n",
      "191 112\n",
      "192 113\n",
      "193 114\n",
      "194 115\n",
      "195 116\n",
      "196 117\n",
      "197 118\n",
      "198 119\n",
      "199 120\n",
      "200 121\n",
      "201 122\n",
      "202 123\n",
      "203 124\n",
      "204 125\n",
      "205 126\n",
      "206 127\n",
      "207 128\n",
      "208 129\n",
      "209 130\n",
      "210 131\n",
      "211 132\n",
      "212 133\n",
      "213 134\n",
      "214 135\n",
      "215 136\n",
      "216 137\n",
      "217 138\n",
      "218 139\n",
      "219 140\n",
      "220 141\n",
      "221 142\n",
      "222 143\n",
      "223 144\n",
      "224 145\n",
      "225 146\n",
      "226 147\n",
      "227 148\n",
      "228 149\n",
      "229 150\n",
      "230 151\n",
      "231 152\n",
      "232 153\n",
      "233 154\n",
      "234 155\n",
      "235 156\n",
      "236 157\n",
      "237 158\n",
      "238 159\n",
      "239 160\n",
      "240 161\n",
      "241 162\n",
      "242 163\n",
      "243 164\n",
      "244 165\n",
      "245 166\n",
      "246 167\n",
      "247 168\n",
      "248 169\n",
      "249 170\n",
      "250 171\n",
      "251 172\n",
      "252 173\n",
      "253 174\n",
      "254 175\n",
      "255 176\n",
      "256 177\n",
      "257 178\n",
      "258 179\n",
      "259 180\n",
      "260 181\n",
      "261 182\n",
      "262 183\n",
      "263 184\n",
      "264 185\n",
      "265 186\n",
      "266 187\n",
      "267 188\n",
      "268 189\n",
      "269 190\n",
      "270 191\n",
      "271 192\n",
      "272 193\n",
      "273 194\n",
      "274 195\n",
      "275 196\n",
      "276 197\n",
      "277 198\n",
      "278 199\n",
      "279 200\n",
      "280 201\n",
      "281 202\n",
      "282 203\n",
      "283 204\n",
      "284 205\n",
      "285 206\n",
      "286 207\n"
     ]
    },
    {
     "ename": "AttributeError",
     "evalue": "'CropModel' object has no attribute 'doy'",
     "output_type": "error",
     "traceback": [
      "\u001b[0;31m---------------------------------------------------------------------------\u001b[0m",
      "\u001b[0;31mAttributeError\u001b[0m                            Traceback (most recent call last)",
      "\u001b[0;32m<ipython-input-2-4274f29811e6>\u001b[0m in \u001b[0;36m<module>\u001b[0;34m\u001b[0m\n\u001b[1;32m      7\u001b[0m \u001b[0mmodel\u001b[0m \u001b[0;34m=\u001b[0m \u001b[0mCropModel\u001b[0m\u001b[0;34m(\u001b[0m\u001b[0mcrop\u001b[0m\u001b[0;34m=\u001b[0m\u001b[0mcrop\u001b[0m\u001b[0;34m,\u001b[0m\u001b[0msoil\u001b[0m\u001b[0;34m=\u001b[0m\u001b[0msoil\u001b[0m\u001b[0;34m,\u001b[0m\u001b[0mclimate\u001b[0m\u001b[0;34m=\u001b[0m\u001b[0mclimate\u001b[0m\u001b[0;34m)\u001b[0m\u001b[0;34m\u001b[0m\u001b[0;34m\u001b[0m\u001b[0m\n\u001b[1;32m      8\u001b[0m \u001b[0;34m\u001b[0m\u001b[0m\n\u001b[0;32m----> 9\u001b[0;31m \u001b[0mmodel\u001b[0m\u001b[0;34m.\u001b[0m\u001b[0mrun\u001b[0m\u001b[0;34m(\u001b[0m\u001b[0mplanting_date\u001b[0m\u001b[0;34m=\u001b[0m\u001b[0;36m100\u001b[0m\u001b[0;34m)\u001b[0m\u001b[0;34m\u001b[0m\u001b[0;34m\u001b[0m\u001b[0m\n\u001b[0m\u001b[1;32m     10\u001b[0m \u001b[0;34m\u001b[0m\u001b[0m\n\u001b[1;32m     11\u001b[0m \u001b[0mo\u001b[0m \u001b[0;34m=\u001b[0m \u001b[0mmodel\u001b[0m\u001b[0;34m.\u001b[0m\u001b[0moutput\u001b[0m\u001b[0;34m(\u001b[0m\u001b[0;34m)\u001b[0m\u001b[0;34m\u001b[0m\u001b[0;34m\u001b[0m\u001b[0m\n",
      "\u001b[0;32m~/Documents/dev/maize-Toff/farm/model.py\u001b[0m in \u001b[0;36mrun\u001b[0;34m(self, s0, planting_date, t_before, t_after)\u001b[0m\n\u001b[1;32m    149\u001b[0m             \u001b[0;32mtry\u001b[0m\u001b[0;34m:\u001b[0m\u001b[0;34m\u001b[0m\u001b[0;34m\u001b[0m\u001b[0m\n\u001b[1;32m    150\u001b[0m                 \u001b[0;31m# Determine the day of season.\u001b[0m\u001b[0;34m\u001b[0m\u001b[0;34m\u001b[0m\u001b[0;34m\u001b[0m\u001b[0m\n\u001b[0;32m--> 151\u001b[0;31m                 \u001b[0;32mif\u001b[0m \u001b[0mself\u001b[0m\u001b[0;34m.\u001b[0m\u001b[0mdoy\u001b[0m\u001b[0;34m[\u001b[0m\u001b[0mt\u001b[0m\u001b[0;34m]\u001b[0m \u001b[0;34m==\u001b[0m \u001b[0mself\u001b[0m\u001b[0;34m.\u001b[0m\u001b[0mplanting_date\u001b[0m\u001b[0;34m:\u001b[0m\u001b[0;34m\u001b[0m\u001b[0;34m\u001b[0m\u001b[0m\n\u001b[0m\u001b[1;32m    152\u001b[0m                     \u001b[0mplanted\u001b[0m \u001b[0;34m=\u001b[0m \u001b[0;32mTrue\u001b[0m\u001b[0;34m\u001b[0m\u001b[0;34m\u001b[0m\u001b[0m\n\u001b[1;32m    153\u001b[0m                 \u001b[0;32mif\u001b[0m \u001b[0mplanted\u001b[0m \u001b[0;34m==\u001b[0m \u001b[0;32mTrue\u001b[0m\u001b[0;34m:\u001b[0m\u001b[0;34m\u001b[0m\u001b[0;34m\u001b[0m\u001b[0m\n",
      "\u001b[0;31mAttributeError\u001b[0m: 'CropModel' object has no attribute 'doy'"
     ]
    }
   ],
   "source": [
    "alpha_r, lambda_r = make_climate_parameters()\n",
    "\n",
    "climate = Climate(alpha_r, lambda_r)\n",
    "soil = Soil('loam')\n",
    "crop = Crop(soil=soil)\n",
    "soil.set_nZr(crop)  \n",
    "model = CropModel(crop=crop,soil=soil,climate=climate)\n",
    "\n",
    "model.run(planting_date=100)\n",
    "\n",
    "o = model.output()\n",
    "o['dos'].plot()\n",
    "#model.output()"
   ]
  },
  {
   "cell_type": "markdown",
   "metadata": {},
   "source": [
    "## 2. Simulate rainfall totals"
   ]
  },
  {
   "cell_type": "markdown",
   "metadata": {},
   "source": [
    "Using a $\\lambda_r$ value of <code>0.40</code>, and assuming that the length of a growing season, $T_{seas}$, is 100 days, simulate a season of rainfall \"events\", where the value of a day is <code>1</code> if rainfall occurs, and <code>0</code> if not."
   ]
  },
  {
   "cell_type": "code",
   "execution_count": null,
   "metadata": {},
   "outputs": [],
   "source": [
    "T_seas = 100 # Days in each season\n",
    "N_seas = 100 # Number of seasons to simulate\n",
    "alpha = 11\n",
    "s_mat = np.random.uniform(low=0, high=1, size=[N_seas, T_seas])\n",
    "amounts = np.random.exponential(scale=alpha, size=[N_seas, T_seas])\n",
    "\n",
    "lam = 0.4 # Lambda value\n",
    "rain_days = np.array(s_mat <= lam).astype(int)\n",
    "rain = rain_days * amounts\n",
    "rain.sum(axis=1).std()/rain.sum(axis=1).mean() # Analytical equation for this!"
   ]
  },
  {
   "cell_type": "markdown",
   "metadata": {},
   "source": [
    "### Prepare historical rainfall using CETRAD dataset"
   ]
  },
  {
   "cell_type": "code",
   "execution_count": 9,
   "metadata": {},
   "outputs": [],
   "source": [
    "from datetime import datetime\n",
    "from dateutil.relativedelta import *\n",
    "\n",
    "df = pd.read_csv(\"../data/CETRAD/CETRAD_rainfall.csv\")  # Read in the raw csv data.\n",
    "\n",
    "# Step 1. Convert text strings into datetime objects.\n",
    "format = '%m/%d/%y' # Column RDate has data in M/D/YY\n",
    "df['Datetime']=pd.to_datetime(df['RDate'], format=format) # Create a new column of datetime objects using RDate.\n",
    "\n",
    "# 2. Step 2. Convert future dates inferred during the conversion back into 20th century dates.\n",
    "# Python is a future-looking programming language, and assumes that 1/1/34 is Jan 1, 2034.\n",
    "# We can fix this by finding all the dates in the future (dt > datetime.now()) and removing 100 years from\n",
    "# their value. This requires using the relativedelta function, which handles weird stuff like leap years.\n",
    "df['Datetime'] = df['Datetime'].map(lambda dt: dt+relativedelta(years=-100) if dt > datetime.now() else dt)\n",
    "\n",
    "# Step 3. Extract the Year and Month from the Datetime to make aggregation easier.\n",
    "df['Year'] = [dt.year for dt in df['Datetime']]\n",
    "df['Month'] = [dt.month for dt in df['Datetime']]\n",
    "\n",
    "# Step 4. Use the Datetime values as the index for this dataframe.\n",
    "df = df.set_index(pd.DatetimeIndex(df['Datetime']))  # Set the Datetime column as the dataframe index\n",
    "\n",
    "# Step 5.  Delete the old RDate column, which we no longer need. \n",
    "# We will keep the Datetime column, in case we need it later.\n",
    "df = df.drop(['RDate'], axis=1)"
   ]
  },
  {
   "cell_type": "code",
   "execution_count": 10,
   "metadata": {},
   "outputs": [
    {
     "name": "stdout",
     "output_type": "stream",
     "text": [
      "['ARCHERS POST', 'ARDENCAPLE FARM', 'CASTLE FOREST STN', 'CHOGORIA FOREST STN', 'CHUKA FOREST STN', 'COLCHECCIO', 'DOL DOL DAO', 'EL KARAMA', 'EMBORI FARM', 'EMBU MET STN', 'ENASOIT FARM', 'GATHIURU FOREST STN', 'HOMBE FOREST STN', 'IRANGI FOREST STN', 'ISIOLO DAO', 'JACOBSON FARM', 'JUNCTION (EWASO NAROK)', 'KABARU FOREST STN', 'KAGURU', 'KALALU (NRM)', 'KAMWAKI FARM', 'KARURI (NRM)', 'KINAMBA MOW', 'KISIMA FARM', 'LAMURIA MET STN', 'LARIAK FOREST STN', 'LOGILADO (NRM)', 'LOLDAIGA FARM', 'LOLDOTO FARM', 'LOLMARIK FARM', 'LORUKU FARM', 'MARALAL DC', 'MARIENE CRS', 'MATANYA (NRM)', 'MERU FOREST STN', 'MOGWONI RANCH', 'MPALA FARM', 'MUGIE RANCH', 'MUKENYA FARM', 'MUKOGODO (NRM)', 'MUNYAKA (NRM)', 'MURINGATO FOREST STN', 'MUTARA ADC FARM', 'MWEA IRRIGATION SCHEME', 'NANYUKI FOREST STN', 'NANYUKI KAF', 'NARO MORU FG POST', 'NARO MORU FOREST STN', 'NARO MORU GATE STN', 'NARO MORU MET STN', 'NDARAGWA FOREST STN', 'NGENIA (NRM)', 'NGENIA B', 'NICOLSON FARM', 'NYERI MOW', 'OL ARABEL FOREST STN', 'OL BOLOSAT FOREST STN', 'OL DONYO FARM', 'OL JOGI FARM', 'OL JORO OROK FTC', 'OL MYSOR FARM', 'OL PEJETA FARM', 'ONTULILI FOREST STN', 'PYRAMID OL JOGI', 'RAGATI FOREST STN', 'RUMURUTI (NRM)', 'RUMURUTI MOW', 'SATIMA FARM', 'SEGERA PLANTATIONS', 'SHAMATA', 'SIRAJI (NRM)', 'SIRIMA (NRM)', 'SOLIO RANCH', 'SOUTH MARMANET FOREST STN', 'SUGUROI ESTATE', 'TELEKI (MT KENYA)', 'TELESWANI (NRM)', 'THARUA FARM', 'TIMAU MARANIA', 'TRENCH FARM']\n"
     ]
    }
   ],
   "source": [
    "df.head()\n",
    "df.tail()\n",
    "station_list = [station for station in df.columns if station not in ['Year', 'Day', 'Month', 'Datetime']]\n",
    "print(station_list)"
   ]
  },
  {
   "cell_type": "markdown",
   "metadata": {},
   "source": [
    "### Step 1. Select stations for use\n",
    "For brevity in this document, stations were combined into one dataframe and annual rainfall totals were calculated in another csv which is brought back in here. The original objective is to select three representative stations of low, medium, and high total rainfall for the study region. And then calculate alphas, lambdas using those records."
   ]
  },
  {
   "cell_type": "code",
   "execution_count": null,
   "metadata": {},
   "outputs": [],
   "source": [
    "# Import cleaned, merged datasets\n",
    "AnnualRainfall = pd.read_csv(\"../data/CETRAD/AnnualRainfall.csv\")  # Read in the Annual Rainfall per station\n",
    "AnnualRainfall.head()"
   ]
  },
  {
   "cell_type": "code",
   "execution_count": null,
   "metadata": {},
   "outputs": [],
   "source": [
    "# Import metadata for the stations\n",
    "md = pd.read_csv(\"../data/CETRAD/CETRADMetadata.csv\")  # Read in the each stations metadata\n",
    "md.head()"
   ]
  },
  {
   "cell_type": "code",
   "execution_count": null,
   "metadata": {},
   "outputs": [],
   "source": [
    "md.describe()"
   ]
  },
  {
   "cell_type": "code",
   "execution_count": null,
   "metadata": {},
   "outputs": [],
   "source": [
    "# Return min, max, med:\n",
    "md.sort_values(by='Annual Mean Rainfall')\n",
    "\n",
    "# stations to use:\n",
    "# L: OL JOGI FARM: 1967-1999, 32 years\n",
    "# M: Kisima Farm\n",
    "# H: TIMAU MARANIA: 1951-2015, # 64 years"
   ]
  },
  {
   "cell_type": "markdown",
   "metadata": {},
   "source": [
    "### Step 2. Filter data\n",
    "\n",
    "TODO: Put the three locations in a list and loop through the following procedure to determine r2, etc."
   ]
  },
  {
   "cell_type": "code",
   "execution_count": 11,
   "metadata": {},
   "outputs": [
    {
     "data": {
      "text/html": [
       "<div>\n",
       "<style scoped>\n",
       "    .dataframe tbody tr th:only-of-type {\n",
       "        vertical-align: middle;\n",
       "    }\n",
       "\n",
       "    .dataframe tbody tr th {\n",
       "        vertical-align: top;\n",
       "    }\n",
       "\n",
       "    .dataframe thead th {\n",
       "        text-align: right;\n",
       "    }\n",
       "</style>\n",
       "<table border=\"1\" class=\"dataframe\">\n",
       "  <thead>\n",
       "    <tr style=\"text-align: right;\">\n",
       "      <th></th>\n",
       "      <th>OL JOGI FARM</th>\n",
       "      <th>Year</th>\n",
       "      <th>Month</th>\n",
       "      <th>Datetime</th>\n",
       "    </tr>\n",
       "    <tr>\n",
       "      <th>Datetime</th>\n",
       "      <th></th>\n",
       "      <th></th>\n",
       "      <th></th>\n",
       "      <th></th>\n",
       "    </tr>\n",
       "  </thead>\n",
       "  <tbody>\n",
       "    <tr>\n",
       "      <th>1934-01-01</th>\n",
       "      <td>NaN</td>\n",
       "      <td>1934</td>\n",
       "      <td>1</td>\n",
       "      <td>1934-01-01</td>\n",
       "    </tr>\n",
       "    <tr>\n",
       "      <th>1934-01-02</th>\n",
       "      <td>NaN</td>\n",
       "      <td>1934</td>\n",
       "      <td>1</td>\n",
       "      <td>1934-01-02</td>\n",
       "    </tr>\n",
       "    <tr>\n",
       "      <th>1934-01-03</th>\n",
       "      <td>NaN</td>\n",
       "      <td>1934</td>\n",
       "      <td>1</td>\n",
       "      <td>1934-01-03</td>\n",
       "    </tr>\n",
       "    <tr>\n",
       "      <th>1934-01-04</th>\n",
       "      <td>NaN</td>\n",
       "      <td>1934</td>\n",
       "      <td>1</td>\n",
       "      <td>1934-01-04</td>\n",
       "    </tr>\n",
       "    <tr>\n",
       "      <th>1934-01-05</th>\n",
       "      <td>NaN</td>\n",
       "      <td>1934</td>\n",
       "      <td>1</td>\n",
       "      <td>1934-01-05</td>\n",
       "    </tr>\n",
       "  </tbody>\n",
       "</table>\n",
       "</div>"
      ],
      "text/plain": [
       "            OL JOGI FARM  Year  Month   Datetime\n",
       "Datetime                                        \n",
       "1934-01-01           NaN  1934      1 1934-01-01\n",
       "1934-01-02           NaN  1934      1 1934-01-02\n",
       "1934-01-03           NaN  1934      1 1934-01-03\n",
       "1934-01-04           NaN  1934      1 1934-01-04\n",
       "1934-01-05           NaN  1934      1 1934-01-05"
      ]
     },
     "execution_count": 11,
     "metadata": {},
     "output_type": "execute_result"
    }
   ],
   "source": [
    "#station = 'ARDENCAPLE FARM' # 67 years of data\n",
    "#station = 'JACOBSON FARM'\n",
    "#station = 'EMBORI FARM'\n",
    "station = 'OL JOGI FARM'\n",
    "#station = 'TIMAU MARANIA'\n",
    "columns = [station] + ['Year', 'Month', 'Datetime']\n",
    "rainfall = df[columns]\n",
    "rainfall.head()"
   ]
  },
  {
   "cell_type": "markdown",
   "metadata": {},
   "source": [
    "Check out the data"
   ]
  },
  {
   "cell_type": "code",
   "execution_count": 12,
   "metadata": {},
   "outputs": [
    {
     "data": {
      "text/plain": [
       "<matplotlib.axes._subplots.AxesSubplot at 0x1134ab9a0>"
      ]
     },
     "execution_count": 12,
     "metadata": {},
     "output_type": "execute_result"
    },
    {
     "data": {
      "image/png": "[encoded data removed]",
      "text/plain": [
       "<Figure size 432x288 with 1 Axes>"
      ]
     },
     "metadata": {
      "needs_background": "light"
     },
     "output_type": "display_data"
    }
   ],
   "source": [
    "# Plot a histogram of rainfall values for days with rain.\n",
    "daily_rainfall = rainfall.loc[rainfall[station] > 0][station]\n",
    "daily_rainfall.plot.hist()"
   ]
  },
  {
   "cell_type": "markdown",
   "metadata": {},
   "source": [
    "This looks okay, but we need to check and see how well the values in `daily_rainfall` fit our assumption of an exponential distribution.\n",
    "\n",
    "### Step 3. Fit the distribution\n",
    "\n",
    "To fit the distribution, we are going to use some more functions from `python`'s suite of numerical analysis. In this case we are going to use some functions from `scipy`. The [`scipy.stats`](https://docs.scipy.org/doc/scipy/reference/stats.html) module has a large suite of distribution functions pre-defined, which we can use to develop a fit for our data. Using any of these distributions for fitting our data is very easy. The distribution we are most interested in is the exponential distribution, which is called `expon` in the `stats` module."
   ]
  },
  {
   "cell_type": "code",
   "execution_count": 14,
   "metadata": {},
   "outputs": [
    {
     "name": "stdout",
     "output_type": "stream",
     "text": [
      "(0.2, 9.355624327233585)\n"
     ]
    }
   ],
   "source": [
    "import scipy.stats as st\n",
    "\n",
    "distribution = st.expon\n",
    "data = daily_rainfall\n",
    "params = distribution.fit(data, loc=0) # Force the distribution to be built off of zero\n",
    "\n",
    "print(params)\n",
    "\n",
    "arg = params[:-2]\n",
    "loc = params[-2]\n",
    "scale = params[-1]"
   ]
  },
  {
   "cell_type": "markdown",
   "metadata": {},
   "source": [
    "### Step 4. Calculate fitted PDF and error with fit in distribution\n",
    "\n",
    "To test the fit of our distribution, we can compare the empirical histogram to that predicted by our model. To do this, we first use our `data` to generate the empirical histogram. In this exampkle, we break the data into `30` bins, and we generate a histrogram of `density` rather than counts. This allows for an easier comparison between our empirical data and the fitted probability distribution function. Here are the steps:\n",
    "\n",
    "1. Generate a histogram, from the `data`. Save the bin locations in `x` and the density of values in `y`\n",
    "2. Shift the `x` bin locations generated from the histogram to the center of bins.\n",
    "3. Calculate the value of the fitted `pdf(x)` for each of the bins in `x`.\n",
    "4. Determine the residual sum of the squares, $SS_{error}$, and total sum of squares, $SS_{yy}$, according to:\n",
    "\n",
    "$$ SS_{error} = \\sum_{i=1}^{n} \\left(y_i - f(x_i)\\right)^2 $$\n",
    "$$ SS_{yy} = \\sum_{i=1}^{n} \\left(y_i - \\bar{y}\\right)^2 $$\n",
    "\n",
    "5. Calculate the $r^2$ of the fit, according to\n",
    "\n",
    "$$ r^2 = 1- \\frac{SS_{error}}{SS_{yy}} $$ \n",
    "\n",
    " "
   ]
  },
  {
   "cell_type": "code",
   "execution_count": 15,
   "metadata": {},
   "outputs": [
    {
     "name": "stdout",
     "output_type": "stream",
     "text": [
      "0.978217870115316\n"
     ]
    }
   ],
   "source": [
    "# Step 1. Generate a density histogram of the data \n",
    "y, x = np.histogram(data, bins=30, density=True)\n",
    "\n",
    "# Step 2. Shift the x bin locations to the center of bins.\n",
    "x = (x + np.roll(x, -1))[:-1] / 2.0\n",
    "\n",
    "# Step 3. Calculate the values of pdx(x) for all x.\n",
    "pdf = distribution.pdf(x, loc=loc, scale=scale, *arg)\n",
    "\n",
    "# Step 4. Determine the residual and total sum of the squares.\n",
    "ss_error = np.sum(np.power(y - pdf, 2.0))\n",
    "ss_yy = np.sum(np.power(y - y.mean(), 2.0))\n",
    "\n",
    "r_2 = 1 - ( ss_error / ss_yy )\n",
    "print(r_2)"
   ]
  },
  {
   "cell_type": "markdown",
   "metadata": {},
   "source": [
    "This is an extremely good fit, so we can be confident that our assumption about an exponential distribution of rainfall is reasonable.\n",
    "\n",
    "## Determining monthly values of  $\\lambda_r$ \n",
    "\n",
    "We need to determine the probability of rainfall for each month by dividing the number of rainy days per month by the total number of observations in each month. For now, we assume stationarity in the monthly values, which means that we are assuming that the values of $\\lambda_r$ in each month are the same through out the entire record (i.e. Jan 1938 has the same properties as Jan 2008). \n",
    "\n",
    "<div class=\"alert alert-info\">💡 Test stationarity assumption </div>\n",
    "\n"
   ]
  },
  {
   "cell_type": "markdown",
   "metadata": {},
   "source": [
    "As a first step, let's get all the `rain_days` and all of the `observation_days` from the data on `OL JOGI FARM`. We will use method chaining to run a **groupby()** as we go."
   ]
  },
  {
   "cell_type": "code",
   "execution_count": 16,
   "metadata": {},
   "outputs": [
    {
     "data": {
      "text/html": [
       "<div>\n",
       "<style scoped>\n",
       "    .dataframe tbody tr th:only-of-type {\n",
       "        vertical-align: middle;\n",
       "    }\n",
       "\n",
       "    .dataframe tbody tr th {\n",
       "        vertical-align: top;\n",
       "    }\n",
       "\n",
       "    .dataframe thead th {\n",
       "        text-align: right;\n",
       "    }\n",
       "</style>\n",
       "<table border=\"1\" class=\"dataframe\">\n",
       "  <thead>\n",
       "    <tr style=\"text-align: right;\">\n",
       "      <th></th>\n",
       "      <th>OL JOGI FARM</th>\n",
       "      <th>Year</th>\n",
       "      <th>Month</th>\n",
       "      <th>Datetime</th>\n",
       "    </tr>\n",
       "    <tr>\n",
       "      <th>Datetime</th>\n",
       "      <th></th>\n",
       "      <th></th>\n",
       "      <th></th>\n",
       "      <th></th>\n",
       "    </tr>\n",
       "  </thead>\n",
       "  <tbody>\n",
       "    <tr>\n",
       "      <th>1967-03-01</th>\n",
       "      <td>3.8</td>\n",
       "      <td>1967</td>\n",
       "      <td>3</td>\n",
       "      <td>1967-03-01</td>\n",
       "    </tr>\n",
       "    <tr>\n",
       "      <th>1967-03-02</th>\n",
       "      <td>50.7</td>\n",
       "      <td>1967</td>\n",
       "      <td>3</td>\n",
       "      <td>1967-03-02</td>\n",
       "    </tr>\n",
       "    <tr>\n",
       "      <th>1967-03-03</th>\n",
       "      <td>7.6</td>\n",
       "      <td>1967</td>\n",
       "      <td>3</td>\n",
       "      <td>1967-03-03</td>\n",
       "    </tr>\n",
       "    <tr>\n",
       "      <th>1967-03-21</th>\n",
       "      <td>1.0</td>\n",
       "      <td>1967</td>\n",
       "      <td>3</td>\n",
       "      <td>1967-03-21</td>\n",
       "    </tr>\n",
       "    <tr>\n",
       "      <th>1967-03-30</th>\n",
       "      <td>34.7</td>\n",
       "      <td>1967</td>\n",
       "      <td>3</td>\n",
       "      <td>1967-03-30</td>\n",
       "    </tr>\n",
       "  </tbody>\n",
       "</table>\n",
       "</div>"
      ],
      "text/plain": [
       "            OL JOGI FARM  Year  Month   Datetime\n",
       "Datetime                                        \n",
       "1967-03-01           3.8  1967      3 1967-03-01\n",
       "1967-03-02          50.7  1967      3 1967-03-02\n",
       "1967-03-03           7.6  1967      3 1967-03-03\n",
       "1967-03-21           1.0  1967      3 1967-03-21\n",
       "1967-03-30          34.7  1967      3 1967-03-30"
      ]
     },
     "execution_count": 16,
     "metadata": {},
     "output_type": "execute_result"
    }
   ],
   "source": [
    "# First, find all the rows in the data where it rained and group by month.\n",
    "rain_days = rainfall.loc[rainfall[station] > 0]\n",
    "\n",
    "# Find all locations in the data where an observation was made.\n",
    "all_days = rainfall.loc[rainfall[station] >= 0]\n",
    "\n",
    "rain_days.head()"
   ]
  },
  {
   "cell_type": "code",
   "execution_count": 17,
   "metadata": {},
   "outputs": [
    {
     "data": {
      "text/plain": [
       "<matplotlib.axes._subplots.AxesSubplot at 0x11666fac0>"
      ]
     },
     "execution_count": 17,
     "metadata": {},
     "output_type": "execute_result"
    },
    {
     "data": {
      "image/png": "[encoded data removed]",
      "text/plain": [
       "<Figure size 432x288 with 1 Axes>"
      ]
     },
     "metadata": {
      "needs_background": "light"
     },
     "output_type": "display_data"
    }
   ],
   "source": [
    "lambda_by_month = (\n",
    "    rain_days.groupby('Month')[station].count() /\n",
    "    all_days.groupby('Month')[station].count()\n",
    "    )\n",
    "pd.DataFrame(lambda_by_month).plot.bar()"
   ]
  },
  {
   "cell_type": "code",
   "execution_count": 18,
   "metadata": {},
   "outputs": [
    {
     "data": {
      "text/plain": [
       "<matplotlib.axes._subplots.AxesSubplot at 0x1167c1f40>"
      ]
     },
     "execution_count": 18,
     "metadata": {},
     "output_type": "execute_result"
    },
    {
     "data": {
      "image/png": "[encoded data removed]",
      "text/plain": [
       "<Figure size 432x288 with 1 Axes>"
      ]
     },
     "metadata": {
      "needs_background": "light"
     },
     "output_type": "display_data"
    }
   ],
   "source": [
    "lambda_by_year = (\n",
    "    rain_days.groupby('Year')[station].count() /\n",
    "    all_days.groupby('Year')[station].count()\n",
    "    )\n",
    "pd.DataFrame(lambda_by_year).plot.bar()"
   ]
  },
  {
   "cell_type": "code",
   "execution_count": 19,
   "metadata": {},
   "outputs": [
    {
     "data": {
      "text/plain": [
       "<matplotlib.axes._subplots.AxesSubplot at 0x1168cfac0>"
      ]
     },
     "execution_count": 19,
     "metadata": {},
     "output_type": "execute_result"
    },
    {
     "data": {
      "image/png": "[encoded data removed]",
      "text/plain": [
       "<Figure size 432x288 with 1 Axes>"
      ]
     },
     "metadata": {
      "needs_background": "light"
     },
     "output_type": "display_data"
    }
   ],
   "source": [
    "alpha_by_month = rain_days.groupby('Month')[station].mean()\n",
    "pd.DataFrame(alpha_by_month).plot.bar()"
   ]
  },
  {
   "cell_type": "code",
   "execution_count": 83,
   "metadata": {},
   "outputs": [
    {
     "data": {
      "text/plain": [
       "245.95189013729302"
      ]
     },
     "execution_count": 83,
     "metadata": {},
     "output_type": "execute_result"
    }
   ],
   "source": [
    "climate = pd.DataFrame(alpha_by_month)\n",
    "climate = climate.rename(columns={'OL JOGI FARM': 'alpha_by_month'})\n",
    "climate['lambda_by_month'] = lambda_by_month\n",
    "climate['days'] = [31, 28, 31, 30, 31, 30, 31, 31, 30, 31, 30, 31]\n",
    "climate['monthly_rainfall'] = climate['lambda_by_month'] * climate['alpha_by_month'] * climate['days']\n",
    "\n",
    "\n",
    "climate_parameters = {\n",
    "     'alpha_r': climate['alpha_by_month'].to_list(),\n",
    "    'lambda_r': climate['lambda_by_month'].to_list(),\n",
    "    'doy_start': 1,\n",
    "    't_sim': 180,\n",
    "    'ET_max': 6.5\n",
    "}\n",
    "\n",
    "#dir(climate['alpha_by_month'])\n",
    "\n",
    "\n",
    "climate = Climate(climate_parameters)\n",
    "\n",
    "climate.rainfall.sum()"
   ]
  },
  {
   "cell_type": "code",
   "execution_count": 84,
   "metadata": {},
   "outputs": [
    {
     "ename": "SyntaxError",
     "evalue": "invalid syntax (make_climate.py, line 96)",
     "output_type": "error",
     "traceback": [
      "Traceback \u001b[0;36m(most recent call last)\u001b[0m:\n",
      "  File \u001b[1;32m\"/Users/kellycaylor/opt/anaconda3/envs/maize-Toff/lib/python3.8/site-packages/IPython/core/interactiveshell.py\"\u001b[0m, line \u001b[1;32m3319\u001b[0m, in \u001b[1;35mrun_code\u001b[0m\n    exec(code_obj, self.user_global_ns, self.user_ns)\n",
      "\u001b[0;36m  File \u001b[0;32m\"<ipython-input-84-6e6b817af27c>\"\u001b[0;36m, line \u001b[0;32m1\u001b[0;36m, in \u001b[0;35m<module>\u001b[0;36m\u001b[0m\n\u001b[0;31m    from farm.make_climate import make_climate\u001b[0m\n",
      "\u001b[0;36m  File \u001b[0;32m\"/Users/kellycaylor/Documents/dev/maize-Toff/farm/make_climate.py\"\u001b[0;36m, line \u001b[0;32m96\u001b[0m\n\u001b[0;31m    station=station,.\u001b[0m\n\u001b[0m                    ^\u001b[0m\n\u001b[0;31mSyntaxError\u001b[0m\u001b[0;31m:\u001b[0m invalid syntax\n"
     ]
    }
   ],
   "source": []
  },
  {
   "cell_type": "markdown",
   "metadata": {},
   "source": [
    "## Simulating annual rainfall\n",
    "\n",
    "To simulate annual rainfall, we are going to specify daily values of $\\lambda_r$ using the monthly values we just calculated. The use of a variable $\\lambda$ value in a poisson process creates what is known as an \"inhomogenous poisson process\" (or, alternatively, \"nonhomogeneous\"... unfortunately, there isn't much homogeneity in what we call it!). These types of processes allow the properties of the process to change in space and time. Our implementation - using monthly values - is a little clunky, and we'd prefer to have the $\\lambda$ values change more smoothly throughout the year. However, we probably don't have sufficient data to allow for this, even if we could accomodate the more complicated coding it would require. \n",
    "\n",
    "In order to generate our nonhomogenous process we will first generate a daily array of month numbers for the year `2018`. This is really easy in python using `datetime` + `timedelta` (which we need to import).\n",
    "\n",
    "```python\n",
    "    import datetime\n",
    "    from datetime import timedelta\n",
    "    datetimes = np.arange(datetime(2018,1,1), datetime(2018,12,31), timedelta(days=1)).astype(datetime)\n",
    "    month_value = np.array([datetime.month for datetime in datetimes])\n",
    "```"
   ]
  },
  {
   "cell_type": "code",
   "execution_count": null,
   "metadata": {},
   "outputs": [],
   "source": [
    "from datetime import timedelta, datetime\n",
    "datetimes = np.arange(datetime(2018,1,1), datetime(2018,12,31), timedelta(days=1)).astype(datetime)\n",
    "month_value_by_day = np.array([datetime.month for datetime in datetimes])\n",
    "\n",
    "## ToDo #1\n",
    "## turn this into dekad_value_by_day"
   ]
  },
  {
   "cell_type": "code",
   "execution_count": null,
   "metadata": {},
   "outputs": [],
   "source": [
    "print(lambda_by_month)\n",
    "\n",
    "## To-Do #1\n",
    "## turn this into lambda_by_dekad\n",
    "\n",
    "## To-Do #2\n",
    "## turn this into plot, and plot for each station \n",
    "lambda_by_month.plot(kind='bar')"
   ]
  },
  {
   "cell_type": "code",
   "execution_count": null,
   "metadata": {},
   "outputs": [],
   "source": [
    "print(month_value_by_day)"
   ]
  },
  {
   "cell_type": "markdown",
   "metadata": {},
   "source": [
    "`numpy` makes it really easy to map the values in one array onto the values of another.\n",
    "\n",
    "```python\n",
    "    lambda_values = [lambda_by_month[i] for i in month_value_by_day]\n",
    "```"
   ]
  },
  {
   "cell_type": "code",
   "execution_count": null,
   "metadata": {},
   "outputs": [],
   "source": [
    "lambda_values = np.array([lambda_by_month[i] for i in month_value_by_day])"
   ]
  },
  {
   "cell_type": "markdown",
   "metadata": {},
   "source": [
    "With daily values of $\\lambda_r$, we only need to follow the same cookbook we used to make the seasonal data:\n",
    "\n",
    "```python\n",
    "    alpha = scale  # Let's use the value we estimated from our exponential fit.\n",
    "    simulated_rainfall_values = np.random.exponential(\n",
    "        scale=alpha, size=len(lambda_values)) # Use the len() function instead of a constant.\n",
    "```\n",
    "\n",
    "    "
   ]
  },
  {
   "cell_type": "code",
   "execution_count": null,
   "metadata": {},
   "outputs": [],
   "source": [
    "alpha = scale\n",
    "\n",
    "simulated_rainy_days = (np.random.uniform(low=0, high=1, size=len(lambda_values)) <= lambda_values).astype(int)\n",
    "simulated_rainfall_values = np.random.exponential(scale=alpha, size=len(lambda_values))\n",
    "\n",
    "simulated_rainfall = simulated_rainy_days * simulated_rainfall_values"
   ]
  },
  {
   "cell_type": "markdown",
   "metadata": {},
   "source": [
    "## Plotting our simulated data\n",
    "\n",
    "We can easily plot our rainfall data using the `datetimes` object we already created as the basis of our x-axis."
   ]
  },
  {
   "cell_type": "code",
   "execution_count": null,
   "metadata": {},
   "outputs": [],
   "source": [
    "fig, ax = plt.subplots()\n",
    "\n",
    "ax.bar(datetimes, simulated_rainfall, align='center', alpha=0.5)"
   ]
  },
  {
   "cell_type": "markdown",
   "metadata": {},
   "source": [
    "<div class=\"alert alert-success\">✏️ <strong>DIY Coding</strong>: Play around with our simulation. Here are a couple of ideas:</div>\n",
    "\n",
    "1. Run 100 simulations of rainfall with our model for `JACOBSON FARM`. Compare the distribution of annual rainfall to the empirical distribution of annual rainfall.\n",
    "\n",
    "2. Run the model for the same number of years that are in the `JACOBSON FARM` record and compare the mean and standard deviations of annual rainfall between the simulation and the empirical data. How well do they match?\n",
    "\n",
    "2. Using the same simulations as in `2`, compare the mean and standard deviations of monthly rainfall between the simulation and the empirical data.\n",
    "\n",
    "3. We've made $\\lambda_r$ change every month, but we've used a constant $\\alpha$ value. Determine if the assumption of a constant $\\alpha$ is reasonable.\n",
    "\n",
    "4. Determine the model parameters for a different station, preferably one with much lower or higher rainfall. How do the values of $\\alpha$ and $\\lambda_r$ change between stations?\n",
    "\n",
    "5. Earlier I touched on the idea of non-stationarity in which the values of $\\lambda_r$ and/or $\\alpha$ may be changing over time. If you're up for it, see if you can come up with a way to investigate if our assumption of stationarity is valid.\n"
   ]
  }
 ],
 "metadata": {
  "kernelspec": {
   "display_name": "Python 3",
   "language": "python",
   "name": "python3"
  },
  "language_info": {
   "codemirror_mode": {
    "name": "ipython",
    "version": 3
   },
   "file_extension": ".py",
   "mimetype": "text/x-python",
   "name": "python",
   "nbconvert_exporter": "python",
   "pygments_lexer": "ipython3",
   "version": "3.8.1"
  }
 },
 "nbformat": 4,
 "nbformat_minor": 2
}
