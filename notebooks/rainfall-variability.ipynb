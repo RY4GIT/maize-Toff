{
 "cells": [
  {
   "cell_type": "markdown",
   "metadata": {},
   "source": [
    "# Rainfall variability\n",
    "\n",
    "Code and text partially sourced from Ridge to Reef Chapter 2. Here are the pending to-dos:\n",
    "\n",
    "- [ ] Which 3-5 stations to use? Determine using robust, reproducible method.\n",
    "- [ ] Add the following to the metadata file: Start and end year for each station; number of missing data points; improve location accuracy for flagged stations\n",
    "- [ ] Figure out which alpha, lambda values are needed: by month? by year? or just average? Get these values for the 3-5 stations that we'll use for the paper.\n",
    "\n",
    "\n",
    "Last updated: 5 February 2020"
   ]
  },
  {
   "cell_type": "markdown",
   "metadata": {},
   "source": [
    "## 1. Import model"
   ]
  },
  {
   "cell_type": "code",
   "execution_count": 1,
   "metadata": {},
   "outputs": [
    {
     "ename": "IndentationError",
     "evalue": "expected an indented block (make_climate_parameters.py, line 59)",
     "output_type": "error",
     "traceback": [
      "Traceback \u001b[0;36m(most recent call last)\u001b[0m:\n",
      "  File \u001b[1;32m\"/Users/charrua/miniconda3/envs/maize-Toff/lib/python3.7/site-packages/IPython/core/interactiveshell.py\"\u001b[0m, line \u001b[1;32m3326\u001b[0m, in \u001b[1;35mrun_code\u001b[0m\n    exec(code_obj, self.user_global_ns, self.user_ns)\n",
      "\u001b[0;36m  File \u001b[0;32m\"<ipython-input-1-3812230b9ded>\"\u001b[0;36m, line \u001b[0;32m22\u001b[0;36m, in \u001b[0;35m<module>\u001b[0;36m\u001b[0m\n\u001b[0;31m    from farm.make_climate_parameters import make_climate_parameters\u001b[0m\n",
      "\u001b[0;36m  File \u001b[0;32m\"/Users/charrua/Box Sync/waves/maize-Toff/farm/make_climate_parameters.py\"\u001b[0;36m, line \u001b[0;32m59\u001b[0m\n\u001b[0;31m    \"\"\"\u001b[0m\n\u001b[0m       \n^\u001b[0m\n\u001b[0;31mIndentationError\u001b[0m\u001b[0;31m:\u001b[0m expected an indented block\n"
     ]
    }
   ],
   "source": [
    "# import packages and set working directory\n",
    "import numpy as np\n",
    "import matplotlib.pyplot as plt\n",
    "import os\n",
    "from math import exp\n",
    "import pandas as pd\n",
    "import sys\n",
    "\n",
    "# We need to add the module path to our system path so \n",
    "# so that our notebook can find our local objects and code:\n",
    "module_path = os.path.abspath(os.path.join('..'))\n",
    "if module_path not in sys.path:\n",
    "    sys.path.append(module_path)\n",
    "    \n",
    "# os.chdir(\"../\")\n",
    "\n",
    "# import objects\n",
    "from farm import Climate\n",
    "from farm import Soil\n",
    "from farm import Crop\n",
    "from farm import CropModel\n",
    "from farm.make_climate_parameters import make_climate_parameters"
   ]
  },
  {
   "cell_type": "code",
   "execution_count": 4,
   "metadata": {},
   "outputs": [
    {
     "name": "stdout",
     "output_type": "stream",
     "text": [
      "0.978217870115316\n"
     ]
    },
    {
     "data": {
      "text/plain": [
       "<matplotlib.axes._subplots.AxesSubplot at 0x104a8c048>"
      ]
     },
     "execution_count": 4,
     "metadata": {},
     "output_type": "execute_result"
    },
    {
     "data": {
      "image/png": "[encoded data removed]",
      "text/plain": [
       "<Figure size 432x288 with 1 Axes>"
      ]
     },
     "metadata": {
      "needs_background": "light"
     },
     "output_type": "display_data"
    }
   ],
   "source": [
    "alpha_r, lambda_r = make_climate_parameters()\n",
    "\n",
    "climate = Climate(alpha_r, lambda_r)\n",
    "soil = Soil('loam')\n",
    "crop = Crop(soil=soil)\n",
    "soil.set_nZr(crop)  \n",
    "model = CropModel(crop=crop,soil=soil,climate=climate)\n",
    "\n",
    "model.run(planting_date=100)\n",
    "\n",
    "o = model.output()\n",
    "#o['dos'].plot()\n",
    "#model.output()\n",
    "o['s'].plot()"
   ]
  },
  {
   "cell_type": "markdown",
   "metadata": {},
   "source": [
    "## 2. Simulate rainfall totals"
   ]
  },
  {
   "cell_type": "markdown",
   "metadata": {},
   "source": [
    "Using a $\\lambda_r$ value of <code>0.40</code>, and assuming that the length of a growing season, $T_{seas}$, is 100 days, simulate a season of rainfall \"events\", where the value of a day is <code>1</code> if rainfall occurs, and <code>0</code> if not."
   ]
  },
  {
   "cell_type": "code",
   "execution_count": null,
   "metadata": {},
   "outputs": [],
   "source": [
    "T_seas = 100 # Days in each season\n",
    "N_seas = 100 # Number of seasons to simulate\n",
    "alpha = 11\n",
    "s_mat = np.random.uniform(low=0, high=1, size=[N_seas, T_seas])\n",
    "amounts = np.random.exponential(scale=alpha, size=[N_seas, T_seas])\n",
    "\n",
    "lam = 0.4 # Lambda value\n",
    "rain_days = np.array(s_mat <= lam).astype(int)\n",
    "rain = rain_days * amounts\n",
    "rain.sum(axis=1).std()/rain.sum(axis=1).mean() # Analytical equation for this!"
   ]
  },
  {
   "cell_type": "markdown",
   "metadata": {},
   "source": [
    "### Prepare historical rainfall using CETRAD dataset"
   ]
  },
  {
   "cell_type": "code",
   "execution_count": null,
   "metadata": {},
   "outputs": [],
   "source": [
    "from datetime import datetime\n",
    "from dateutil.relativedelta import *\n",
    "\n",
    "df = pd.read_csv(\"../data/CETRAD/CETRAD_rainfall.csv\")  # Read in the raw csv data.\n",
    "\n",
    "# Step 1. Convert text strings into datetime objects.\n",
    "format = '%m/%d/%y' # Column RDate has data in M/D/YY\n",
    "df['Datetime']=pd.to_datetime(df['RDate'], format=format) # Create a new column of datetime objects using RDate.\n",
    "\n",
    "# 2. Step 2. Convert future dates inferred during the conversion back into 20th century dates.\n",
    "# Python is a future-looking programming language, and assumes that 1/1/34 is Jan 1, 2034.\n",
    "# We can fix this by finding all the dates in the future (dt > datetime.now()) and removing 100 years from\n",
    "# their value. This requires using the relativedelta function, which handles weird stuff like leap years.\n",
    "df['Datetime'] = df['Datetime'].map(lambda dt: dt+relativedelta(years=-100) if dt > datetime.now() else dt)\n",
    "\n",
    "# Step 3. Extract the Year and Month from the Datetime to make aggregation easier.\n",
    "df['Year'] = [dt.year for dt in df['Datetime']]\n",
    "df['Month'] = [dt.month for dt in df['Datetime']]\n",
    "\n",
    "# Step 4. Use the Datetime values as the index for this dataframe.\n",
    "df = df.set_index(pd.DatetimeIndex(df['Datetime']))  # Set the Datetime column as the dataframe index\n",
    "\n",
    "# Step 5.  Delete the old RDate column, which we no longer need. \n",
    "# We will keep the Datetime column, in case we need it later.\n",
    "df = df.drop(['RDate'], axis=1)"
   ]
  },
  {
   "cell_type": "code",
   "execution_count": null,
   "metadata": {},
   "outputs": [],
   "source": [
    "df.head()\n",
    "df.tail()\n",
    "station_list = [station for station in df.columns if station not in ['Year', 'Day', 'Month', 'Datetime']]\n",
    "print(station_list)"
   ]
  },
  {
   "cell_type": "markdown",
   "metadata": {},
   "source": [
    "### Step 1. Select stations for use\n",
    "For brevity in this document, stations were combined into one dataframe and annual rainfall totals were calculated in another csv which is brought back in here. The original objective is to select three representative stations of low, medium, and high total rainfall for the study region. And then calculate alphas, lambdas using those records."
   ]
  },
  {
   "cell_type": "code",
   "execution_count": null,
   "metadata": {},
   "outputs": [],
   "source": [
    "# Import cleaned, merged datasets\n",
    "AnnualRainfall = pd.read_csv(\"../data/CETRAD/AnnualRainfall.csv\")  # Read in the Annual Rainfall per station\n",
    "AnnualRainfall.head()"
   ]
  },
  {
   "cell_type": "code",
   "execution_count": null,
   "metadata": {},
   "outputs": [],
   "source": [
    "# Import metadata for the stations\n",
    "md = pd.read_csv(\"../data/CETRAD/CETRADMetadata.csv\")  # Read in the each stations metadata\n",
    "md.head()"
   ]
  },
  {
   "cell_type": "code",
   "execution_count": null,
   "metadata": {},
   "outputs": [],
   "source": [
    "md.describe()"
   ]
  },
  {
   "cell_type": "code",
   "execution_count": null,
   "metadata": {},
   "outputs": [],
   "source": [
    "# Return min, max, med:\n",
    "md.sort_values(by='Annual Mean Rainfall')\n",
    "\n",
    "# stations to use:\n",
    "# L: OL JOGI FARM: 1967-1999, 32 years\n",
    "# M: Kisima Farm\n",
    "# H: TIMAU MARANIA: 1951-2015, # 64 years"
   ]
  },
  {
   "cell_type": "markdown",
   "metadata": {},
   "source": [
    "### Step 2. Filter data\n",
    "\n",
    "TODO: Put the three locations in a list and loop through the following procedure to determine r2, etc."
   ]
  },
  {
   "cell_type": "code",
   "execution_count": null,
   "metadata": {},
   "outputs": [],
   "source": [
    "#station = 'ARDENCAPLE FARM' # 67 years of data\n",
    "#station = 'JACOBSON FARM'\n",
    "#station = 'EMBORI FARM'\n",
    "station = 'OL JOGI FARM'\n",
    "#station = 'TIMAU MARANIA'\n",
    "columns = [station] + ['Year', 'Month', 'Datetime']\n",
    "rainfall = df[columns]\n",
    "rainfall.head()"
   ]
  },
  {
   "cell_type": "markdown",
   "metadata": {},
   "source": [
    "Check out the data"
   ]
  },
  {
   "cell_type": "code",
   "execution_count": null,
   "metadata": {},
   "outputs": [],
   "source": [
    "# Plot a histogram of rainfall values for days with rain.\n",
    "daily_rainfall = rainfall.loc[rainfall[station] > 0][station]\n",
    "daily_rainfall.plot.hist()"
   ]
  },
  {
   "cell_type": "markdown",
   "metadata": {},
   "source": [
    "This looks okay, but we need to check and see how well the values in `daily_rainfall` fit our assumption of an exponential distribution.\n",
    "\n",
    "### Step 3. Fit the distribution\n",
    "\n",
    "To fit the distribution, we are going to use some more functions from `python`'s suite of numerical analysis. In this case we are going to use some functions from `scipy`. The [`scipy.stats`](https://docs.scipy.org/doc/scipy/reference/stats.html) module has a large suite of distribution functions pre-defined, which we can use to develop a fit for our data. Using any of these distributions for fitting our data is very easy. The distribution we are most interested in is the exponential distribution, which is called `expon` in the `stats` module."
   ]
  },
  {
   "cell_type": "code",
   "execution_count": null,
   "metadata": {},
   "outputs": [],
   "source": [
    "import scipy.stats as st\n",
    "\n",
    "distribution = st.expon\n",
    "data = daily_rainfall\n",
    "params = distribution.fit(data, loc=0) # Force the distribution to be built off of zero\n",
    "\n",
    "print(params)\n",
    "\n",
    "arg = params[:-2]\n",
    "loc = params[-2]\n",
    "scale = params[-1]"
   ]
  },
  {
   "cell_type": "markdown",
   "metadata": {},
   "source": [
    "### Step 4. Calculate fitted PDF and error with fit in distribution\n",
    "\n",
    "To test the fit of our distribution, we can compare the empirical histogram to that predicted by our model. To do this, we first use our `data` to generate the empirical histogram. In this exampkle, we break the data into `30` bins, and we generate a histrogram of `density` rather than counts. This allows for an easier comparison between our empirical data and the fitted probability distribution function. Here are the steps:\n",
    "\n",
    "1. Generate a histogram, from the `data`. Save the bin locations in `x` and the density of values in `y`\n",
    "2. Shift the `x` bin locations generated from the histogram to the center of bins.\n",
    "3. Calculate the value of the fitted `pdf(x)` for each of the bins in `x`.\n",
    "4. Determine the residual sum of the squares, $SS_{error}$, and total sum of squares, $SS_{yy}$, according to:\n",
    "\n",
    "$$ SS_{error} = \\sum_{i=1}^{n} \\left(y_i - f(x_i)\\right)^2 $$\n",
    "$$ SS_{yy} = \\sum_{i=1}^{n} \\left(y_i - \\bar{y}\\right)^2 $$\n",
    "\n",
    "5. Calculate the $r^2$ of the fit, according to\n",
    "\n",
    "$$ r^2 = 1- \\frac{SS_{error}}{SS_{yy}} $$ \n",
    "\n",
    " "
   ]
  },
  {
   "cell_type": "code",
   "execution_count": null,
   "metadata": {},
   "outputs": [],
   "source": [
    "# Step 1. Generate a density histogram of the data \n",
    "y, x = np.histogram(data, bins=30, density=True)\n",
    "\n",
    "# Step 2. Shift the x bin locations to the center of bins.\n",
    "x = (x + np.roll(x, -1))[:-1] / 2.0\n",
    "\n",
    "# Step 3. Calculate the values of pdx(x) for all x.\n",
    "pdf = distribution.pdf(x, loc=loc, scale=scale, *arg)\n",
    "\n",
    "# Step 4. Determine the residual and total sum of the squares.\n",
    "ss_error = np.sum(np.power(y - pdf, 2.0))\n",
    "ss_yy = np.sum(np.power(y - y.mean(), 2.0))\n",
    "\n",
    "r_2 = 1 - ( ss_error / ss_yy )\n",
    "print(r_2)"
   ]
  },
  {
   "cell_type": "markdown",
   "metadata": {},
   "source": [
    "This is an extremely good fit, so we can be confident that our assumption about an exponential distribution of rainfall is reasonable.\n",
    "\n",
    "## Determining monthly values of  $\\lambda_r$ \n",
    "\n",
    "We need to determine the probability of rainfall for each month by dividing the number of rainy days per month by the total number of observations in each month. For now, we assume stationarity in the monthly values, which means that we are assuming that the values of $\\lambda_r$ in each month are the same through out the entire record (i.e. Jan 1938 has the same properties as Jan 2008). \n",
    "\n",
    "<div class=\"alert alert-info\">💡 Test stationarity assumption </div>\n",
    "\n"
   ]
  },
  {
   "cell_type": "markdown",
   "metadata": {},
   "source": [
    "As a first step, let's get all the `rain_days` and all of the `observation_days` from the data on `OL JOGI FARM`. We will use method chaining to run a **groupby()** as we go."
   ]
  },
  {
   "cell_type": "code",
   "execution_count": null,
   "metadata": {},
   "outputs": [],
   "source": [
    "# First, find all the rows in the data where it rained and group by month.\n",
    "rain_days = rainfall.loc[rainfall[station] > 0]\n",
    "\n",
    "# Find all locations in the data where an observation was made.\n",
    "all_days = rainfall.loc[rainfall[station] >= 0]\n",
    "\n",
    "rain_days.head()"
   ]
  },
  {
   "cell_type": "code",
   "execution_count": null,
   "metadata": {},
   "outputs": [],
   "source": [
    "lambda_by_month = (\n",
    "    rain_days.groupby('Month')[station].count() /\n",
    "    all_days.groupby('Month')[station].count()\n",
    "    )\n",
    "pd.DataFrame(lambda_by_month).plot.bar()"
   ]
  },
  {
   "cell_type": "code",
   "execution_count": null,
   "metadata": {},
   "outputs": [],
   "source": [
    "lambda_by_year = (\n",
    "    rain_days.groupby('Year')[station].count() /\n",
    "    all_days.groupby('Year')[station].count()\n",
    "    )\n",
    "pd.DataFrame(lambda_by_year).plot.bar()"
   ]
  },
  {
   "cell_type": "code",
   "execution_count": null,
   "metadata": {},
   "outputs": [],
   "source": [
    "alpha_by_month = rain_days.groupby('Month')[station].mean()\n",
    "pd.DataFrame(alpha_by_month).plot.bar()"
   ]
  },
  {
   "cell_type": "code",
   "execution_count": null,
   "metadata": {},
   "outputs": [],
   "source": [
    "climate = pd.DataFrame(alpha_by_month)\n",
    "climate = climate.rename(columns={'OL JOGI FARM': 'alpha_by_month'})\n",
    "climate['lambda_by_month'] = lambda_by_month\n",
    "climate['days'] = [31, 28, 31, 30, 31, 30, 31, 31, 30, 31, 30, 31]\n",
    "climate['monthly_rainfall'] = climate['lambda_by_month'] * climate['alpha_by_month'] * climate['days']\n",
    "\n",
    "\n",
    "climate_parameters = {\n",
    "     'alpha_r': climate['alpha_by_month'].to_list(),\n",
    "    'lambda_r': climate['lambda_by_month'].to_list(),\n",
    "    'doy_start': 1,\n",
    "    't_sim': 180,\n",
    "    'ET_max': 6.5\n",
    "}\n",
    "\n",
    "#dir(climate['alpha_by_month'])\n",
    "\n",
    "\n",
    "climate = Climate(climate_parameters)\n",
    "\n",
    "climate.rainfall.sum()"
   ]
  },
  {
   "cell_type": "code",
   "execution_count": null,
   "metadata": {},
   "outputs": [],
   "source": []
  },
  {
   "cell_type": "markdown",
   "metadata": {},
   "source": [
    "## Simulating annual rainfall\n",
    "\n",
    "To simulate annual rainfall, we are going to specify daily values of $\\lambda_r$ using the monthly values we just calculated. The use of a variable $\\lambda$ value in a poisson process creates what is known as an \"inhomogenous poisson process\" (or, alternatively, \"nonhomogeneous\"... unfortunately, there isn't much homogeneity in what we call it!). These types of processes allow the properties of the process to change in space and time. Our implementation - using monthly values - is a little clunky, and we'd prefer to have the $\\lambda$ values change more smoothly throughout the year. However, we probably don't have sufficient data to allow for this, even if we could accomodate the more complicated coding it would require. \n",
    "\n",
    "In order to generate our nonhomogenous process we will first generate a daily array of month numbers for the year `2018`. This is really easy in python using `datetime` + `timedelta` (which we need to import).\n",
    "\n",
    "```python\n",
    "    import datetime\n",
    "    from datetime import timedelta\n",
    "    datetimes = np.arange(datetime(2018,1,1), datetime(2018,12,31), timedelta(days=1)).astype(datetime)\n",
    "    month_value = np.array([datetime.month for datetime in datetimes])\n",
    "```"
   ]
  },
  {
   "cell_type": "code",
   "execution_count": null,
   "metadata": {},
   "outputs": [],
   "source": [
    "from datetime import timedelta, datetime\n",
    "datetimes = np.arange(datetime(2018,1,1), datetime(2018,12,31), timedelta(days=1)).astype(datetime)\n",
    "month_value_by_day = np.array([datetime.month for datetime in datetimes])\n",
    "\n",
    "## ToDo #1\n",
    "## turn this into dekad_value_by_day"
   ]
  },
  {
   "cell_type": "code",
   "execution_count": null,
   "metadata": {},
   "outputs": [],
   "source": [
    "print(lambda_by_month)\n",
    "\n",
    "## To-Do #1\n",
    "## turn this into lambda_by_dekad\n",
    "\n",
    "## To-Do #2\n",
    "## turn this into plot, and plot for each station \n",
    "lambda_by_month.plot(kind='bar')"
   ]
  },
  {
   "cell_type": "code",
   "execution_count": null,
   "metadata": {},
   "outputs": [],
   "source": [
    "print(month_value_by_day)"
   ]
  },
  {
   "cell_type": "markdown",
   "metadata": {},
   "source": [
    "`numpy` makes it really easy to map the values in one array onto the values of another.\n",
    "\n",
    "```python\n",
    "    lambda_values = [lambda_by_month[i] for i in month_value_by_day]\n",
    "```"
   ]
  },
  {
   "cell_type": "code",
   "execution_count": null,
   "metadata": {},
   "outputs": [],
   "source": [
    "lambda_values = np.array([lambda_by_month[i] for i in month_value_by_day])"
   ]
  },
  {
   "cell_type": "markdown",
   "metadata": {},
   "source": [
    "With daily values of $\\lambda_r$, we only need to follow the same cookbook we used to make the seasonal data:\n",
    "\n",
    "```python\n",
    "    alpha = scale  # Let's use the value we estimated from our exponential fit.\n",
    "    simulated_rainfall_values = np.random.exponential(\n",
    "        scale=alpha, size=len(lambda_values)) # Use the len() function instead of a constant.\n",
    "```\n",
    "\n",
    "    "
   ]
  },
  {
   "cell_type": "code",
   "execution_count": null,
   "metadata": {},
   "outputs": [],
   "source": [
    "alpha = scale\n",
    "\n",
    "simulated_rainy_days = (np.random.uniform(low=0, high=1, size=len(lambda_values)) <= lambda_values).astype(int)\n",
    "simulated_rainfall_values = np.random.exponential(scale=alpha, size=len(lambda_values))\n",
    "\n",
    "simulated_rainfall = simulated_rainy_days * simulated_rainfall_values"
   ]
  },
  {
   "cell_type": "markdown",
   "metadata": {},
   "source": [
    "## Plotting our simulated data\n",
    "\n",
    "We can easily plot our rainfall data using the `datetimes` object we already created as the basis of our x-axis."
   ]
  },
  {
   "cell_type": "code",
   "execution_count": null,
   "metadata": {},
   "outputs": [],
   "source": [
    "fig, ax = plt.subplots()\n",
    "\n",
    "ax.bar(datetimes, simulated_rainfall, align='center', alpha=0.5)"
   ]
  },
  {
   "cell_type": "markdown",
   "metadata": {},
   "source": [
    "<div class=\"alert alert-success\">✏️ <strong>DIY Coding</strong>: Play around with our simulation. Here are a couple of ideas:</div>\n",
    "\n",
    "1. Run 100 simulations of rainfall with our model for `JACOBSON FARM`. Compare the distribution of annual rainfall to the empirical distribution of annual rainfall.\n",
    "\n",
    "2. Run the model for the same number of years that are in the `JACOBSON FARM` record and compare the mean and standard deviations of annual rainfall between the simulation and the empirical data. How well do they match?\n",
    "\n",
    "2. Using the same simulations as in `2`, compare the mean and standard deviations of monthly rainfall between the simulation and the empirical data.\n",
    "\n",
    "3. We've made $\\lambda_r$ change every month, but we've used a constant $\\alpha$ value. Determine if the assumption of a constant $\\alpha$ is reasonable.\n",
    "\n",
    "4. Determine the model parameters for a different station, preferably one with much lower or higher rainfall. How do the values of $\\alpha$ and $\\lambda_r$ change between stations?\n",
    "\n",
    "5. Earlier I touched on the idea of non-stationarity in which the values of $\\lambda_r$ and/or $\\alpha$ may be changing over time. If you're up for it, see if you can come up with a way to investigate if our assumption of stationarity is valid.\n"
   ]
  }
 ],
 "metadata": {
  "kernelspec": {
   "display_name": "Python 3",
   "language": "python",
   "name": "python3"
  },
  "language_info": {
   "codemirror_mode": {
    "name": "ipython",
    "version": 3
   },
   "file_extension": ".py",
   "mimetype": "text/x-python",
   "name": "python",
   "nbconvert_exporter": "python",
   "pygments_lexer": "ipython3",
   "version": "3.7.3"
  }
 },
 "nbformat": 4,
 "nbformat_minor": 2
}
