{
 "cells": [
  {
   "cell_type": "markdown",
   "metadata": {},
   "source": [
    "# Kolmogorov Smirnov Two Sample Test\n",
    "\n",
    "We run a two-sided KS test to see if two datasets (i.e. two methods of generating stochastic rainfall) were drawn from the sample underlying distribution. We use a parametric and non-parametric approach to estimate rainfall:\n",
    "- Parametric: generate rainfall frome exponential distribution\n",
    "- Non-parametric: use empirical rainfall distribution to draw from a normal distribution (check)\n",
    "\n",
    "We use a KS test because it is non-parametric and distribution agnostic, and can be used to compare two samples of data. Our hypotheses are:\n",
    "- `H_0` (null hypothesis): Two samples (datasets) come from the same distribution.\n",
    "- `H_1` (altnerative hypothesis): Two samples are from different distributions. \n",
    "\n",
    "And then use the Test statistic, `D`, or level of significance, `alpha`, to determine the result. \n",
    "\n",
    "## Table of Contents\n",
    "Notebook is divided into three parts:\n",
    "1. Part 1: [Generate non-parametric rainfall](#part1)\n",
    "2. Part 2: [Import exponential rainfall data](#part2)\n",
    "3. Part 3: [Run KS Two Sample Test](#part3)"
   ]
  },
  {
   "cell_type": "code",
   "execution_count": 80,
   "metadata": {},
   "outputs": [],
   "source": [
    "# import packages, objects, set module path\n",
    "from math import exp\n",
    "import numpy as np\n",
    "import pandas as pd\n",
    "from numpy.random import exponential, uniform\n",
    "from dateutil.relativedelta import *\n",
    "import scipy.stats as st\n",
    "from datetime import timedelta, datetime\n",
    "import os\n",
    "import sys\n",
    "import glob\n",
    "import matplotlib.pyplot as plt\n",
    "\n",
    "module_path = os.path.abspath(os.path.join('..'))\n",
    "if module_path not in sys.path:\n",
    "    sys.path.append(module_path)\n",
    "\n",
    "from farm import Climate\n",
    "from farm.climate import make_climate_parameters"
   ]
  },
  {
   "cell_type": "markdown",
   "metadata": {},
   "source": [
    "## Get non-parametric estimation of rainfall  <a class=\"anchor\" id=\"part1\"></a>\n",
    "\n",
    "Use code from `make_climate_parameters` function to import rainfall."
   ]
  },
  {
   "cell_type": "code",
   "execution_count": 81,
   "metadata": {},
   "outputs": [],
   "source": [
    "station='OL JOGI FARM'\n",
    "data_file=\"../data/CETRAD/CETRAD_rainfall.csv\"\n",
    "year_min=30\n",
    "interval='dekad'\n",
    "\n",
    "# Prepare the CETRAD dataset.\n",
    "df = pd.read_csv(data_file)  # Read in the raw csv data.\n",
    "\n",
    "# Step 1. Convert text strings into datetime objects.\n",
    "format = '%m/%d/%y' # Column RDate has data in M/D/YY\n",
    "df['Datetime']=pd.to_datetime(df['RDate'], format=format) # Create a new column of datetime objects using RDate.\n",
    "\n",
    "# 2. Step 2. Convert future dates inferred during the conversion back into 20th century dates.\n",
    "# Python is a future-looking programming language, and assumes that 1/1/34 is Jan 1, 2034.\n",
    "# We can fix this by finding all the dates in the future (dt > datetime.now()) and removing 100 years from\n",
    "# their value. This requires using the relativedelta function, which handles weird stuff like leap years.\n",
    "df['Datetime'] = df['Datetime'].map(lambda dt: dt+relativedelta(years=-100) if dt > datetime.now() else dt)\n",
    "\n",
    "# Step 3. Extract the Year and Month from the Datetime to make aggregation easier.\n",
    "df['Year'] = [dt.year for dt in df['Datetime']]\n",
    "df['Month'] = [dt.month for dt in df['Datetime']]\n",
    "df['Week'] = [dt.week for dt in df['Datetime']]\n",
    "df['Dekad'] = df['Datetime'].dt.dayofyear//10+1\n",
    "\n",
    "n_years = len(df['Year'].unique())\n",
    "\n",
    "# Step 4. Use the Datetime values as the index for this dataframe.\n",
    "df = df.set_index(pd.DatetimeIndex(df['Datetime']))  # Set the Datetime column as the dataframe index\n",
    "\n",
    "# Step 5.  Delete the old RDate column, which we no longer need. \n",
    "# We will keep the Datetime column, in case we need it later.\n",
    "df = df.drop(['RDate'], axis=1)\n",
    "\n",
    "columns = [station] + ['Year', 'Month', 'Week', 'Dekad', 'Datetime']\n",
    "rainfall = df[columns]"
   ]
  },
  {
   "cell_type": "markdown",
   "metadata": {},
   "source": [
    "### Test code for generating rainfall using non-parametric approach\n",
    "\n",
    "These are the steps:\n",
    "1. Step 1: Sort X {x_0....x_n} from small to large\n",
    "2. Step 2: Draw random number, u, from uniform distribution {0,1}\n",
    "3. Step 3: Get sample: X [u*len(x)] and round to an integer\n",
    "4. Step 4: Locate that rainfall sample by index\n",
    "5. Step 5: Generate 365 integer numbers \n",
    "6. Step 6: Get rainfall for those integer numbers\n",
    "7. Step 7: Don't want it to rain all of the time, only set rainfall days based on lambda"
   ]
  },
  {
   "cell_type": "code",
   "execution_count": 92,
   "metadata": {},
   "outputs": [
    {
     "name": "stdout",
     "output_type": "stream",
     "text": [
      "number of rainfall events, len(x): 1858\n"
     ]
    }
   ],
   "source": [
    "# Step 1: Sort X {x_0....x_n} from small to large\n",
    "rain_days = rainfall.loc[rainfall['OL JOGI FARM'] > 0]\n",
    "x = pd.DataFrame(rain_days['OL JOGI FARM']).sort_values(by='OL JOGI FARM').values.tolist()\n",
    "x = pd.DataFrame(x); print('number of rainfall events, len(x):',len(x))"
   ]
  },
  {
   "cell_type": "code",
   "execution_count": 109,
   "metadata": {},
   "outputs": [
    {
     "data": {
      "text/plain": [
       "78.4"
      ]
     },
     "execution_count": 109,
     "metadata": {},
     "output_type": "execute_result"
    }
   ],
   "source": [
    "x[0].max()\n",
    "#x[0].min()"
   ]
  },
  {
   "cell_type": "code",
   "execution_count": 4,
   "metadata": {},
   "outputs": [
    {
     "name": "stdout",
     "output_type": "stream",
     "text": [
      "random number, u: 0.41602425704355606\n"
     ]
    }
   ],
   "source": [
    "# Step 2: Draw random number, u, from uniform distribution {0,1}\n",
    "u = np.random.uniform(low=0.0, high=1.0, size=None); print('random number, u:',u)"
   ]
  },
  {
   "cell_type": "code",
   "execution_count": 5,
   "metadata": {},
   "outputs": [
    {
     "name": "stdout",
     "output_type": "stream",
     "text": [
      "index for sample, ix: 772\n"
     ]
    }
   ],
   "source": [
    "# Step 3: Get sample: X [u*len(x)] and round to an integer\n",
    "ix = int(u*len(x)); print('index for sample, ix:',ix)"
   ]
  },
  {
   "cell_type": "code",
   "execution_count": 6,
   "metadata": {},
   "outputs": [
    {
     "data": {
      "text/plain": [
       "5.0"
      ]
     },
     "execution_count": 6,
     "metadata": {},
     "output_type": "execute_result"
    }
   ],
   "source": [
    "# Step 4: Locate that rainfall sample by index\n",
    "x.iloc[ix,0] # row ix, column 0"
   ]
  },
  {
   "cell_type": "code",
   "execution_count": 7,
   "metadata": {},
   "outputs": [],
   "source": [
    "# Step 5: Generate 365 integer numbers \n",
    "data = []\n",
    "\n",
    "for i in np.arange(1,366):\n",
    "    u = np.random.uniform(low=0.0, high=1.0, size=None)\n",
    "    ix = int(u*len(x))\n",
    "    x.iloc[ix,0] \n",
    "    data.append(ix)\n",
    "\n",
    "# Step 6: Get rainfall for those integer numbers\n",
    "rf = x.iloc[data]\n",
    "\n",
    "# Step 7: Don't want it to rain all of the time\n",
    "t_sim=365\n",
    "\n",
    "# Force doy to be in [1,365]:\n",
    "doy_start=1\n",
    "doys = np.arange(doy_start, doy_start + t_sim)\n",
    "while (doys - 365 > 0).any() == True:\n",
    "        doys = doys - 365 * ((doys - 365) > 0)\n",
    "#amounts = [exponential(scale=s0_climate.alpha_r[doy-1], size=1)[0] for doy in doys]\n",
    "amounts= rf[0].to_list()\n",
    "\n",
    "s0_climate = Climate(data_file=data_file, station=station, interval=interval)"
   ]
  },
  {
   "cell_type": "markdown",
   "metadata": {},
   "source": [
    "**Everything above this code is old:** Okay to use the same lambdas as before, but changing alphas"
   ]
  },
  {
   "cell_type": "code",
   "execution_count": 9,
   "metadata": {},
   "outputs": [
    {
     "name": "stdout",
     "output_type": "stream",
     "text": [
      "there are 365  days of rainfall\n",
      "total annual rainfall for one simulation is:  652.8\n"
     ]
    }
   ],
   "source": [
    "rain_days = [(uniform(low=0, high=1, size=1) <= s0_climate.lambda_r[doy-1] ).astype(int) for doy in doys]\n",
    "final = np.multiply(amounts, [v[0] for v in rain_days])\n",
    "print('there are',len(final),' days of rainfall')\n",
    "print('total annual rainfall for one simulation is: ',final.sum())"
   ]
  },
  {
   "cell_type": "markdown",
   "metadata": {},
   "source": [
    "### Generate rainfall for 10,000 seasons\n",
    "\n",
    "Only need the code starting here."
   ]
  },
  {
   "cell_type": "code",
   "execution_count": 96,
   "metadata": {},
   "outputs": [],
   "source": [
    "# Step 1: Sort X {x_0....x_n} from small to large\n",
    "rain_days = rainfall.loc[rainfall['OL JOGI FARM'] > 0]\n",
    "x = pd.DataFrame(rain_days['OL JOGI FARM']).sort_values(by='OL JOGI FARM').values.tolist()\n",
    "x = pd.DataFrame(x); #print('number of rainfall events, len(x):',len(x))\n",
    "\n",
    "# Note, if we want to run this for certain months of the year and not the full calendar year, then\n",
    "# need to change both the lambdas that are running and the x values\n",
    "\n",
    "no_rain = len(x)-1\n",
    "lambdas = s0_climate.lambda_r\n",
    "n_lambdas = len(lambdas)\n",
    "nsims = 10000\n",
    "pvals = np.random.uniform(low=0.0, high=1.0, size=nsims*n_lambdas)\n",
    "data = np.round(np.random.uniform(low=0.0, high=1.0, size=nsims*n_lambdas)*no_rain)\n",
    "lambda_list = np.array(([lambdas]*nsims)).flatten()\n",
    "amounts = x.iloc[data]\n",
    "rf = (pvals<lambda_list).astype(int)*amounts[0]         \n",
    "final_rf = rf[rf != 0].values\n",
    "         \n"
   ]
  },
  {
   "cell_type": "code",
   "execution_count": 106,
   "metadata": {},
   "outputs": [
    {
     "data": {
      "text/html": [
       "<div>\n",
       "<style scoped>\n",
       "    .dataframe tbody tr th:only-of-type {\n",
       "        vertical-align: middle;\n",
       "    }\n",
       "\n",
       "    .dataframe tbody tr th {\n",
       "        vertical-align: top;\n",
       "    }\n",
       "\n",
       "    .dataframe thead th {\n",
       "        text-align: right;\n",
       "    }\n",
       "</style>\n",
       "<table border=\"1\" class=\"dataframe\">\n",
       "  <thead>\n",
       "    <tr style=\"text-align: right;\">\n",
       "      <th></th>\n",
       "      <th>0</th>\n",
       "    </tr>\n",
       "  </thead>\n",
       "  <tbody>\n",
       "    <tr>\n",
       "      <th>597</th>\n",
       "      <td>3.8</td>\n",
       "    </tr>\n",
       "    <tr>\n",
       "      <th>1199</th>\n",
       "      <td>9.4</td>\n",
       "    </tr>\n",
       "    <tr>\n",
       "      <th>472</th>\n",
       "      <td>3.0</td>\n",
       "    </tr>\n",
       "    <tr>\n",
       "      <th>1704</th>\n",
       "      <td>25.0</td>\n",
       "    </tr>\n",
       "    <tr>\n",
       "      <th>1383</th>\n",
       "      <td>12.6</td>\n",
       "    </tr>\n",
       "    <tr>\n",
       "      <th>...</th>\n",
       "      <td>...</td>\n",
       "    </tr>\n",
       "    <tr>\n",
       "      <th>484</th>\n",
       "      <td>3.0</td>\n",
       "    </tr>\n",
       "    <tr>\n",
       "      <th>1430</th>\n",
       "      <td>13.0</td>\n",
       "    </tr>\n",
       "    <tr>\n",
       "      <th>721</th>\n",
       "      <td>4.5</td>\n",
       "    </tr>\n",
       "    <tr>\n",
       "      <th>410</th>\n",
       "      <td>2.6</td>\n",
       "    </tr>\n",
       "    <tr>\n",
       "      <th>1667</th>\n",
       "      <td>22.8</td>\n",
       "    </tr>\n",
       "  </tbody>\n",
       "</table>\n",
       "<p>3650000 rows × 1 columns</p>\n",
       "</div>"
      ],
      "text/plain": [
       "         0\n",
       "597    3.8\n",
       "1199   9.4\n",
       "472    3.0\n",
       "1704  25.0\n",
       "1383  12.6\n",
       "...    ...\n",
       "484    3.0\n",
       "1430  13.0\n",
       "721    4.5\n",
       "410    2.6\n",
       "1667  22.8\n",
       "\n",
       "[3650000 rows x 1 columns]"
      ]
     },
     "execution_count": 106,
     "metadata": {},
     "output_type": "execute_result"
    }
   ],
   "source": [
    "x.iloc[data]\n"
   ]
  },
  {
   "cell_type": "code",
   "execution_count": 19,
   "metadata": {},
   "outputs": [
    {
     "data": {
      "text/plain": [
       "584417"
      ]
     },
     "execution_count": 19,
     "metadata": {},
     "output_type": "execute_result"
    }
   ],
   "source": [
    "final_rf\n",
    "onp = final_rf\n",
    "len(onp)"
   ]
  },
  {
   "cell_type": "markdown",
   "metadata": {},
   "source": [
    "## Grab rainfall (exponential) from simulations <a class=\"anchor\" id=\"part2\"></a>\n",
    "\n",
    "Need to create alternative simulations that have 365 days worth of data. Might be worth doing this in this notebook even."
   ]
  },
  {
   "cell_type": "code",
   "execution_count": 18,
   "metadata": {},
   "outputs": [
    {
     "data": {
      "text/html": [
       "<div>\n",
       "<style scoped>\n",
       "    .dataframe tbody tr th:only-of-type {\n",
       "        vertical-align: middle;\n",
       "    }\n",
       "\n",
       "    .dataframe tbody tr th {\n",
       "        vertical-align: top;\n",
       "    }\n",
       "\n",
       "    .dataframe thead th {\n",
       "        text-align: right;\n",
       "    }\n",
       "</style>\n",
       "<table border=\"1\" class=\"dataframe\">\n",
       "  <thead>\n",
       "    <tr style=\"text-align: right;\">\n",
       "      <th></th>\n",
       "      <th>kc</th>\n",
       "      <th>LAI</th>\n",
       "      <th>stress</th>\n",
       "      <th>R</th>\n",
       "      <th>s</th>\n",
       "      <th>E</th>\n",
       "      <th>ET</th>\n",
       "      <th>T</th>\n",
       "      <th>L</th>\n",
       "      <th>dsdt</th>\n",
       "      <th>dos</th>\n",
       "      <th>doy</th>\n",
       "    </tr>\n",
       "  </thead>\n",
       "  <tbody>\n",
       "    <tr>\n",
       "      <th>0</th>\n",
       "      <td>0.300000</td>\n",
       "      <td>0.750000</td>\n",
       "      <td>1.000000</td>\n",
       "      <td>0.0</td>\n",
       "      <td>0.524511</td>\n",
       "      <td>0.341708</td>\n",
       "      <td>0.341708</td>\n",
       "      <td>0.000000</td>\n",
       "      <td>0.0</td>\n",
       "      <td>-0.341708</td>\n",
       "      <td>1.0</td>\n",
       "      <td>1</td>\n",
       "    </tr>\n",
       "    <tr>\n",
       "      <th>1</th>\n",
       "      <td>0.300000</td>\n",
       "      <td>0.750000</td>\n",
       "      <td>1.000000</td>\n",
       "      <td>0.0</td>\n",
       "      <td>0.522716</td>\n",
       "      <td>0.332944</td>\n",
       "      <td>0.332944</td>\n",
       "      <td>0.000000</td>\n",
       "      <td>0.0</td>\n",
       "      <td>-0.332944</td>\n",
       "      <td>2.0</td>\n",
       "      <td>2</td>\n",
       "    </tr>\n",
       "    <tr>\n",
       "      <th>2</th>\n",
       "      <td>0.300000</td>\n",
       "      <td>0.750000</td>\n",
       "      <td>1.000000</td>\n",
       "      <td>0.0</td>\n",
       "      <td>0.520968</td>\n",
       "      <td>0.324478</td>\n",
       "      <td>0.324478</td>\n",
       "      <td>0.000000</td>\n",
       "      <td>0.0</td>\n",
       "      <td>-0.324478</td>\n",
       "      <td>3.0</td>\n",
       "      <td>3</td>\n",
       "    </tr>\n",
       "    <tr>\n",
       "      <th>3</th>\n",
       "      <td>0.300000</td>\n",
       "      <td>0.750000</td>\n",
       "      <td>1.000000</td>\n",
       "      <td>0.0</td>\n",
       "      <td>0.519264</td>\n",
       "      <td>0.316298</td>\n",
       "      <td>0.316298</td>\n",
       "      <td>0.000000</td>\n",
       "      <td>0.0</td>\n",
       "      <td>-0.316298</td>\n",
       "      <td>4.0</td>\n",
       "      <td>4</td>\n",
       "    </tr>\n",
       "    <tr>\n",
       "      <th>4</th>\n",
       "      <td>0.300000</td>\n",
       "      <td>0.750000</td>\n",
       "      <td>1.000000</td>\n",
       "      <td>0.0</td>\n",
       "      <td>0.517602</td>\n",
       "      <td>0.308391</td>\n",
       "      <td>0.308391</td>\n",
       "      <td>0.000000</td>\n",
       "      <td>0.0</td>\n",
       "      <td>-0.308391</td>\n",
       "      <td>5.0</td>\n",
       "      <td>5</td>\n",
       "    </tr>\n",
       "    <tr>\n",
       "      <th>...</th>\n",
       "      <td>...</td>\n",
       "      <td>...</td>\n",
       "      <td>...</td>\n",
       "      <td>...</td>\n",
       "      <td>...</td>\n",
       "      <td>...</td>\n",
       "      <td>...</td>\n",
       "      <td>...</td>\n",
       "      <td>...</td>\n",
       "      <td>...</td>\n",
       "      <td>...</td>\n",
       "      <td>...</td>\n",
       "    </tr>\n",
       "    <tr>\n",
       "      <th>360</th>\n",
       "      <td>0.627397</td>\n",
       "      <td>2.578767</td>\n",
       "      <td>0.967618</td>\n",
       "      <td>0.0</td>\n",
       "      <td>0.534081</td>\n",
       "      <td>0.156178</td>\n",
       "      <td>0.223533</td>\n",
       "      <td>0.067355</td>\n",
       "      <td>0.0</td>\n",
       "      <td>-0.223533</td>\n",
       "      <td>361.0</td>\n",
       "      <td>361</td>\n",
       "    </tr>\n",
       "    <tr>\n",
       "      <th>361</th>\n",
       "      <td>0.620548</td>\n",
       "      <td>2.561644</td>\n",
       "      <td>0.976878</td>\n",
       "      <td>0.0</td>\n",
       "      <td>0.532907</td>\n",
       "      <td>0.155096</td>\n",
       "      <td>0.202756</td>\n",
       "      <td>0.047660</td>\n",
       "      <td>0.0</td>\n",
       "      <td>-0.202756</td>\n",
       "      <td>362.0</td>\n",
       "      <td>362</td>\n",
       "    </tr>\n",
       "    <tr>\n",
       "      <th>362</th>\n",
       "      <td>0.613699</td>\n",
       "      <td>2.544521</td>\n",
       "      <td>0.985317</td>\n",
       "      <td>0.0</td>\n",
       "      <td>0.531842</td>\n",
       "      <td>0.154221</td>\n",
       "      <td>0.184221</td>\n",
       "      <td>0.030000</td>\n",
       "      <td>0.0</td>\n",
       "      <td>-0.184221</td>\n",
       "      <td>363.0</td>\n",
       "      <td>363</td>\n",
       "    </tr>\n",
       "    <tr>\n",
       "      <th>363</th>\n",
       "      <td>0.606849</td>\n",
       "      <td>2.527397</td>\n",
       "      <td>0.993015</td>\n",
       "      <td>0.0</td>\n",
       "      <td>0.530875</td>\n",
       "      <td>0.153533</td>\n",
       "      <td>0.167681</td>\n",
       "      <td>0.014148</td>\n",
       "      <td>0.0</td>\n",
       "      <td>-0.167681</td>\n",
       "      <td>364.0</td>\n",
       "      <td>364</td>\n",
       "    </tr>\n",
       "    <tr>\n",
       "      <th>364</th>\n",
       "      <td>0.600000</td>\n",
       "      <td>2.510274</td>\n",
       "      <td>1.000000</td>\n",
       "      <td>0.0</td>\n",
       "      <td>0.529994</td>\n",
       "      <td>0.153012</td>\n",
       "      <td>0.153012</td>\n",
       "      <td>0.000000</td>\n",
       "      <td>0.0</td>\n",
       "      <td>-0.153012</td>\n",
       "      <td>365.0</td>\n",
       "      <td>365</td>\n",
       "    </tr>\n",
       "  </tbody>\n",
       "</table>\n",
       "<p>365 rows × 12 columns</p>\n",
       "</div>"
      ],
      "text/plain": [
       "           kc       LAI    stress    R         s         E        ET  \\\n",
       "0    0.300000  0.750000  1.000000  0.0  0.524511  0.341708  0.341708   \n",
       "1    0.300000  0.750000  1.000000  0.0  0.522716  0.332944  0.332944   \n",
       "2    0.300000  0.750000  1.000000  0.0  0.520968  0.324478  0.324478   \n",
       "3    0.300000  0.750000  1.000000  0.0  0.519264  0.316298  0.316298   \n",
       "4    0.300000  0.750000  1.000000  0.0  0.517602  0.308391  0.308391   \n",
       "..        ...       ...       ...  ...       ...       ...       ...   \n",
       "360  0.627397  2.578767  0.967618  0.0  0.534081  0.156178  0.223533   \n",
       "361  0.620548  2.561644  0.976878  0.0  0.532907  0.155096  0.202756   \n",
       "362  0.613699  2.544521  0.985317  0.0  0.531842  0.154221  0.184221   \n",
       "363  0.606849  2.527397  0.993015  0.0  0.530875  0.153533  0.167681   \n",
       "364  0.600000  2.510274  1.000000  0.0  0.529994  0.153012  0.153012   \n",
       "\n",
       "            T    L      dsdt    dos  doy  \n",
       "0    0.000000  0.0 -0.341708    1.0    1  \n",
       "1    0.000000  0.0 -0.332944    2.0    2  \n",
       "2    0.000000  0.0 -0.324478    3.0    3  \n",
       "3    0.000000  0.0 -0.316298    4.0    4  \n",
       "4    0.000000  0.0 -0.308391    5.0    5  \n",
       "..        ...  ...       ...    ...  ...  \n",
       "360  0.067355  0.0 -0.223533  361.0  361  \n",
       "361  0.047660  0.0 -0.202756  362.0  362  \n",
       "362  0.030000  0.0 -0.184221  363.0  363  \n",
       "363  0.014148  0.0 -0.167681  364.0  364  \n",
       "364  0.000000  0.0 -0.153012  365.0  365  \n",
       "\n",
       "[365 rows x 12 columns]"
      ]
     },
     "execution_count": 18,
     "metadata": {},
     "output_type": "execute_result"
    }
   ],
   "source": [
    "# Import in the data\n",
    "n_sim = 10000\n",
    "no_sims = np.arange(1,n_sim)\n",
    "\n",
    "# reimport \n",
    "files = glob.glob('../output/final/full_year/*.csv')\n",
    "output = []\n",
    "for f, n in zip(files, no_sims):\n",
    "    f_ = pd.read_csv(f).drop('Unnamed: 0',axis=1)\n",
    "    output.append(f_)\n",
    "\n",
    "output[99]"
   ]
  },
  {
   "cell_type": "markdown",
   "metadata": {},
   "source": [
    "The output is time series with all of the variables (kc, LAI, etc.. ). We want just the rainfall."
   ]
  },
  {
   "cell_type": "code",
   "execution_count": 20,
   "metadata": {},
   "outputs": [
    {
     "data": {
      "text/plain": [
       "array([10.91254449,  1.59265707, 21.30735537, ..., 32.03959481,\n",
       "       11.92591019,  0.27519889])"
      ]
     },
     "execution_count": 20,
     "metadata": {},
     "output_type": "execute_result"
    }
   ],
   "source": [
    "output_rf = np.array([df['R'] for df in output])\n",
    "output_p = pd.DataFrame.from_records(output_rf)\n",
    "output_p\n",
    "op = np.array(pd.melt(output_p)['value'])\n",
    "op\n",
    "op = op[op != 0]\n",
    "op"
   ]
  },
  {
   "cell_type": "markdown",
   "metadata": {},
   "source": [
    "What's the difference in length between the two datasets?"
   ]
  },
  {
   "cell_type": "code",
   "execution_count": 21,
   "metadata": {},
   "outputs": [
    {
     "name": "stdout",
     "output_type": "stream",
     "text": [
      "584102 584417\n"
     ]
    }
   ],
   "source": [
    "print(len(op), len(onp))"
   ]
  },
  {
   "cell_type": "markdown",
   "metadata": {},
   "source": [
    "## Do KS test  <a class=\"anchor\" id=\"part3\"></a>\n",
    "\n",
    "For the KS two sample test, we assume two empirical distributions and then take the difference between the two. The beauty in this test lies the fact that we do not need to know or make any assumptions about the underlying distributions. \n",
    "\n",
    "Notes and code from here: [KS for Two Samples](https://towardsdatascience.com/when-to-use-the-kolmogorov-smirnov-test-dd0b2c8a8f61)\n",
    "\n",
    "In order to compare the two datasets, we need to do the following:\n",
    "1. Order each sample\n",
    "2. Cat into one sorted array\n",
    "3. Compute the observed CDFs of the two samples\n",
    "4. Compute the maximum absolute different, `D_n`\n",
    "5. Compare against `D_crit`"
   ]
  },
  {
   "cell_type": "code",
   "execution_count": 22,
   "metadata": {},
   "outputs": [],
   "source": [
    "# Kelly's method\n",
    "\n",
    "def cdf(values):\n",
    "    sorted_values=np.sort(values)\n",
    "    unique_values=np.unique(sorted_values)\n",
    "    cdf_np=[]\n",
    "    num_obs = len(sorted_values)\n",
    "    for i,value in enumerate(unique_values):\n",
    "        cdf_np.append(np.argmax(value==sorted_values)/num_obs)\n",
    "    return unique_values, cdf_np"
   ]
  },
  {
   "cell_type": "code",
   "execution_count": 57,
   "metadata": {},
   "outputs": [
    {
     "data": {
      "text/plain": [
       "6.867551567232391e-06"
      ]
     },
     "execution_count": 57,
     "metadata": {},
     "output_type": "execute_result"
    }
   ],
   "source": [
    "min(onp)\n",
    "min(op) # that is a small number; what is going on\n"
   ]
  },
  {
   "cell_type": "code",
   "execution_count": 66,
   "metadata": {},
   "outputs": [
    {
     "data": {
      "text/plain": [
       "0.1"
      ]
     },
     "execution_count": 66,
     "metadata": {},
     "output_type": "execute_result"
    }
   ],
   "source": [
    "op\n",
    "\n",
    "# should I round \n",
    "op2 = np.round(op, decimals=1)\n",
    "#xa # first decimal place\n",
    "min(op2)\n",
    "\n",
    "# Now remove anything less than 0.2\n",
    "op2\n",
    "\n",
    "op3 = op2[op2 != 0]\n",
    "min(op3)"
   ]
  },
  {
   "cell_type": "code",
   "execution_count": 68,
   "metadata": {},
   "outputs": [
    {
     "data": {
      "text/plain": [
       "0.1"
      ]
     },
     "execution_count": 68,
     "metadata": {},
     "output_type": "execute_result"
    }
   ],
   "source": [
    "# sort samples from non-parametric method (sample a)\n",
    "samp_a = np.sort(onp); samp_a\n",
    "\n",
    "# sort samples from original method, exponential (sample b)\n",
    "samp_b = np.sort(op); samp_b\n",
    "samp_b = np.sort(op3); samp_b\n",
    "min(samp_b)"
   ]
  },
  {
   "cell_type": "code",
   "execution_count": 69,
   "metadata": {},
   "outputs": [
    {
     "data": {
      "text/plain": [
       "584102"
      ]
     },
     "execution_count": 69,
     "metadata": {},
     "output_type": "execute_result"
    }
   ],
   "source": [
    "onp\n",
    "xb\n",
    "len(xa)\n",
    "len(xb)\n",
    "len(ya)\n",
    "len(yb)"
   ]
  },
  {
   "cell_type": "code",
   "execution_count": 70,
   "metadata": {},
   "outputs": [],
   "source": [
    "xa, ya = cdf(samp_a)\n",
    "xb, yb = cdf(samp_b)"
   ]
  },
  {
   "cell_type": "code",
   "execution_count": 111,
   "metadata": {},
   "outputs": [
    {
     "data": {
      "text/plain": [
       "Text(0.5, 1.0, 'KS Goodness of Fit for two methods of simulating rainfall')"
      ]
     },
     "execution_count": 111,
     "metadata": {},
     "output_type": "execute_result"
    },
    {
     "data": {
      "image/png": "[encoded data removed]",
      "text/plain": [
       "<Figure size 432x288 with 1 Axes>"
      ]
     },
     "metadata": {
      "needs_background": "light"
     },
     "output_type": "display_data"
    }
   ],
   "source": [
    "plt.plot(xb, yb, label='Exponential data', alpha=0.5)\n",
    "\n",
    "plt.plot(xa, ya, label='Non-parametric data', alpha=0.5)\n",
    "\n",
    "# Make a prettier graph\n",
    "plt.xlabel('Rainfall (mm)')\n",
    "plt.ylabel('F(x)')\n",
    "\n",
    "plt.legend()\n",
    "plt.title('KS Goodness of Fit for two methods of simulating rainfall')\n",
    "#plt.xlim(0,80)\n",
    "\n",
    "# why is the largest storm size for the np only 25 mm?"
   ]
  },
  {
   "cell_type": "code",
   "execution_count": 107,
   "metadata": {},
   "outputs": [
    {
     "name": "stdout",
     "output_type": "stream",
     "text": [
      "163.5 0.1\n",
      "78.4 0.2\n"
     ]
    }
   ],
   "source": [
    "print(max(xb),min(xb))\n",
    "print(max(xa),min(xa))"
   ]
  },
  {
   "cell_type": "code",
   "execution_count": 74,
   "metadata": {},
   "outputs": [
    {
     "data": {
      "text/plain": [
       "Ks_2sampResult(statistic=0.08114160189164289, pvalue=0.0)"
      ]
     },
     "execution_count": 74,
     "metadata": {},
     "output_type": "execute_result"
    }
   ],
   "source": [
    "# Run the statistics\n",
    "\n",
    "# first argument is the dataset, the second is the second dataset\n",
    "st.ks_2samp(op, onp)"
   ]
  },
  {
   "cell_type": "code",
   "execution_count": 75,
   "metadata": {},
   "outputs": [
    {
     "data": {
      "text/plain": [
       "Ks_2sampResult(statistic=0.07144400768769443, pvalue=0.0)"
      ]
     },
     "execution_count": 75,
     "metadata": {},
     "output_type": "execute_result"
    }
   ],
   "source": [
    "# is there a difference between sorted and not sorted\n",
    "\n",
    "st.ks_2samp(samp_a, samp_b)"
   ]
  },
  {
   "cell_type": "code",
   "execution_count": null,
   "metadata": {},
   "outputs": [],
   "source": []
  },
  {
   "cell_type": "code",
   "execution_count": 51,
   "metadata": {},
   "outputs": [],
   "source": [
    "# Previous method for doing this\n",
    "\n",
    "# sort samples from non-parametric method (sample a)\n",
    "samp_a = np.sort(onp); samp_a\n",
    "\n",
    "# sort samples from original method, exponential (sample b)\n",
    "samp_b = np.sort(op); samp_b\n",
    "\n",
    "#concatenate and sort\n",
    "samp_conc = np.sort(np.concatenate((onp, op)))\n",
    "#print(\"samp_conc:\\n{}\".format(samp_conc))\n",
    "\n",
    "#cdf of sample a\n",
    "samp_a_cdf = [np.round(st.percentileofscore(samp_a, value)/100, 1) for value in samp_a]\n",
    "#print('samp_a_cdf:\\n{}'.format(samp_a_cdf))\n",
    "#print(20*'-')\n",
    "\n",
    "#cdf of sample b\n",
    "samp_b_cdf = [np.round(st.percentileofscore(samp_b, value)/100, 1) for value in samp_b]\n",
    "#print('samp_b_cdf:\\n{}'.format(samp_b_cdf))\n",
    "#print(20*'-')\n",
    "\n",
    "#compute absolute difference\n",
    "samp_diff = np.abs(np.subtract(samp_a_cdf, samp_b_cdf))\n",
    "#print('samp_diff:\\n{}'.format(samp_diff))"
   ]
  },
  {
   "cell_type": "code",
   "execution_count": 39,
   "metadata": {},
   "outputs": [
    {
     "data": {
      "text/plain": [
       "[<matplotlib.lines.Line2D at 0x7f9832373e20>]"
      ]
     },
     "execution_count": 39,
     "metadata": {},
     "output_type": "execute_result"
    },
    {
     "data": {
      "image/png": "[encoded data removed]",
      "text/plain": [
       "<Figure size 432x288 with 1 Axes>"
      ]
     },
     "metadata": {
      "needs_background": "light"
     },
     "output_type": "display_data"
    }
   ],
   "source": [
    "# using numpy's solution\n",
    "\n",
    "plt.plot(np.cumsum(samp_a))\n",
    "plt.plot(np.cumsum(samp_b))"
   ]
  },
  {
   "cell_type": "markdown",
   "metadata": {},
   "source": [
    "Run the statistics on it. Two-sided KS test: [ks_2samp method](https://docs.scipy.org/doc/scipy/reference/generated/scipy.stats.ks_2samp.html#scipy.stats.ks_2samp) in scipy.\n",
    "\n",
    "Additional info from: https://sites.google.com/a/ucsc.edu/krumholz/teaching-and-courses/ast119_w15/class-10"
   ]
  },
  {
   "cell_type": "code",
   "execution_count": 52,
   "metadata": {},
   "outputs": [
    {
     "data": {
      "text/plain": [
       "Ks_2sampResult(statistic=0.0134777777777777, pvalue=1.2614345355116722e-14)"
      ]
     },
     "execution_count": 52,
     "metadata": {},
     "output_type": "execute_result"
    }
   ],
   "source": [
    "# first argument is the dataset, the second is the second dataset\n",
    "st.ks_2samp(op, onp)"
   ]
  },
  {
   "cell_type": "markdown",
   "metadata": {},
   "source": [
    "The `ks_2samp` method returns a tuple: first is D, maximum difference between the CDF of the input data and the model CDF. The second is the p-value, i.e. the probability that if the data was actually drawn from the proposed CDF, then the resulting value of D would have been as/larger than the one we measured\n",
    "\n",
    "E.g., D = 0.0305, p-value 0.3, then 30% of the time we would expect a value of D as large as the one actually got even if the data had been drawn from the proposed distribution. There cannot reject the hypothesis that the data were drawn from the proposed distribution\n",
    "\n",
    "**In this case**, we can reject the null hypothesis since the p-value is well below 1%. Therefore the two datasets come from different distributions. I.e., it is probable that the two distributions are different. \n",
    "\n",
    "There are two options for interpreting the result: 1. Use p-level as level of significant where p < 0.01 is highly significant or 2. Use statistic value given by python and compare it to the [KS-test critical value table](https://sparky.rice.edu//astr360/kstest.pdf) according to sample size. When statistic value is greater than the critical value, then the two distributions are different."
   ]
  },
  {
   "cell_type": "code",
   "execution_count": 62,
   "metadata": {},
   "outputs": [
    {
     "data": {
      "text/plain": [
       "Text(0.5, 1.0, 'KS Goodness of Fit for two methods of simulating rainfall')"
      ]
     },
     "execution_count": 62,
     "metadata": {},
     "output_type": "execute_result"
    },
    {
     "name": "stderr",
     "output_type": "stream",
     "text": [
      "/opt/anaconda3/envs/maize-Toff/lib/python3.8/site-packages/IPython/core/pylabtools.py:132: UserWarning: Creating legend with loc=\"best\" can be slow with large amounts of data.\n",
      "  fig.canvas.print_figure(bytes_io, **kw)\n"
     ]
    },
    {
     "data": {
      "image/png": "[encoded data removed]",
      "text/plain": [
       "<Figure size 432x288 with 1 Axes>"
      ]
     },
     "metadata": {
      "needs_background": "light"
     },
     "output_type": "display_data"
    }
   ],
   "source": [
    "# Let's visualize this in a figure\n",
    "\n",
    "x3 = np.linspace(0, max(samp_conc), len(samp_a))\n",
    "plt.plot(x3, samp_a_cdf, label='Non-parametric data', alpha=0.5)\n",
    "plt.plot(x3, samp_b_cdf, label='Exponential data', alpha=0.5)\n",
    "plt.xlabel('x')\n",
    "plt.ylabel('F(x)')\n",
    "\n",
    "plt.legend()\n",
    "plt.title('KS Goodness of Fit for two methods of simulating rainfall')"
   ]
  },
  {
   "cell_type": "code",
   "execution_count": null,
   "metadata": {},
   "outputs": [],
   "source": []
  },
  {
   "cell_type": "code",
   "execution_count": null,
   "metadata": {},
   "outputs": [],
   "source": [
    "## Old code\n",
    "# First, find all the rows in the data where it rained and group by month.\n",
    "rain_days = rainfall.loc[rainfall[station] > 0]\n",
    "\n",
    "# Find all locations in the data where an observation was made.\n",
    "all_days = rainfall.loc[rainfall[station] >= 0] \n",
    "\n",
    "# Find just the rainfall amounts on days that it rained.\n",
    "data = rainfall.loc[rainfall[station] > 0][station]\n",
    "\n",
    "# Fit the daily rainfall amounts to an exponential distribution.\n",
    "#check_exponential(data)\n",
    "\n",
    "if interval == 'month':\n",
    "    # Determine the Monthly values of alpha and lambda from the station data:\n",
    "    lambda_values = (\n",
    "        rain_days.groupby('Month')[station].count() /\n",
    "        all_days.groupby('Month')[station].count()\n",
    "    )\n",
    "    alpha_values = rain_days.groupby('Month')[station].mean()\n",
    "elif interval == 'dekad':\n",
    "    lambda_values = (\n",
    "        rain_days.groupby('Dekad')[station].count() / \n",
    "        all_days.groupby('Dekad')[station].count()\n",
    "    )\n",
    "    alpha_values = rain_days.groupby('Dekad')[station].mean()\n",
    "else:\n",
    "    raise(NotImplementedError)"
   ]
  },
  {
   "cell_type": "code",
   "execution_count": 143,
   "metadata": {},
   "outputs": [],
   "source": [
    "\n",
    "#for z in np.arange(0,10000):\n",
    "    # Step 1: Generate 365 integer numbers \n",
    "#    data = np.round(np.random.uniform(low=0.0, high=1.0, size=365)*no_rain)\n",
    "\n",
    "    # Step 2: Get rainfall for those integer numbers\n",
    " #   amounts = x.iloc[data]\n",
    "    # Step 3: Don't want it to rain all of the time\n",
    "#    rainfall = (pvals<lambdas).astype(int)*amounts[0]\n",
    "#    rainfall = rainfall[rainfall != 0]\n",
    "#    final_rf.append(rainfall)\n",
    "\n",
    "nsim = 10\n",
    "\n",
    "data = np.round(np.random.uniform(low=0.0, high=1.0, size=[nsim,365])*no_rain)\n",
    "x_array = np.array(x)\n",
    "\n",
    "# Step 2: Get rainfall for those integer numbers\n",
    "#amounts = x.iloc[data]\n",
    "# Step 3: Don't want it to rain all of the time\n",
    "#rainfall = (pvals<lambdas).astype(int)*amounts[0]\n",
    "#rainfall = rainfall[rainfall != 0]\n",
    "\n",
    "#print(rainfall.values)#final_rf.append(final)"
   ]
  },
  {
   "cell_type": "code",
   "execution_count": 150,
   "metadata": {},
   "outputs": [
    {
     "data": {
      "text/plain": [
       "array([[[ 0.2],\n",
       "        [ 0.2],\n",
       "        [ 0.2],\n",
       "        ...,\n",
       "        [70. ],\n",
       "        [78.4],\n",
       "        [78.4]]])"
      ]
     },
     "execution_count": 150,
     "metadata": {},
     "output_type": "execute_result"
    }
   ],
   "source": [
    "np.repeat(x_array, 2, axis=1)"
   ]
  },
  {
   "cell_type": "code",
   "execution_count": 121,
   "metadata": {},
   "outputs": [],
   "source": [
    "type(final_rf) # list of lists\n",
    "output_np = pd.DataFrame.from_records(final_rf) # get all the data as a dataframe where the row is the simulation and the column is the day number\n",
    "\n"
   ]
  },
  {
   "cell_type": "code",
   "execution_count": 175,
   "metadata": {
    "scrolled": false
   },
   "outputs": [],
   "source": [
    "#final_rf"
   ]
  },
  {
   "cell_type": "code",
   "execution_count": 123,
   "metadata": {},
   "outputs": [
    {
     "name": "stdout",
     "output_type": "stream",
     "text": [
      "10000\n"
     ]
    },
    {
     "data": {
      "text/plain": [
       "840000"
      ]
     },
     "execution_count": 123,
     "metadata": {},
     "output_type": "execute_result"
    }
   ],
   "source": [
    "len(op)\n",
    "print(len(output_np))\n",
    "onp = pd.melt(output_np)['value'].tolist()\n",
    "len(onp)"
   ]
  },
  {
   "cell_type": "code",
   "execution_count": 124,
   "metadata": {},
   "outputs": [
    {
     "data": {
      "text/plain": [
       "341354"
      ]
     },
     "execution_count": 124,
     "metadata": {},
     "output_type": "execute_result"
    }
   ],
   "source": [
    "len(op)"
   ]
  },
  {
   "cell_type": "markdown",
   "metadata": {},
   "source": [
    "Datasets `output_np` and `output_p` are not the same format, so let's get those to talk to each other."
   ]
  },
  {
   "cell_type": "code",
   "execution_count": 28,
   "metadata": {},
   "outputs": [],
   "source": [
    "output_np = output_np.drop(0) # want this to be the same length as output_p\n",
    "output_np = output_np.iloc[:, 60:240] # want only days 60 to 240"
   ]
  },
  {
   "cell_type": "markdown",
   "metadata": {},
   "source": [
    "It takes too long to run the KS test with 10,000 seasons, so let's just grab the first 1000."
   ]
  },
  {
   "cell_type": "code",
   "execution_count": 31,
   "metadata": {},
   "outputs": [],
   "source": [
    "# want only first 1000 rows\n",
    "output_np = output_np.iloc[0:1000:,]\n",
    "output_p = output_p.iloc[0:1000:,]"
   ]
  },
  {
   "cell_type": "markdown",
   "metadata": {},
   "source": [
    "Get the actual rainfall values."
   ]
  },
  {
   "cell_type": "code",
   "execution_count": 34,
   "metadata": {},
   "outputs": [],
   "source": [
    "op = pd.melt(output_p)['value'].tolist()\n",
    "onp = pd.melt(output_np)['value'].tolist()"
   ]
  },
  {
   "cell_type": "code",
   "execution_count": 78,
   "metadata": {},
   "outputs": [
    {
     "data": {
      "text/plain": [
       "0.0"
      ]
     },
     "execution_count": 78,
     "metadata": {},
     "output_type": "execute_result"
    }
   ],
   "source": [
    "op[op != 0]"
   ]
  },
  {
   "cell_type": "markdown",
   "metadata": {},
   "source": [
    "Now the two datasets are the same length:"
   ]
  },
  {
   "cell_type": "code",
   "execution_count": 35,
   "metadata": {},
   "outputs": [
    {
     "name": "stdout",
     "output_type": "stream",
     "text": [
      "180000 180000\n"
     ]
    }
   ],
   "source": [
    "print(len(op), len(onp))"
   ]
  }
 ],
 "metadata": {
  "kernelspec": {
   "display_name": "Python 3",
   "language": "python",
   "name": "python3"
  },
  "language_info": {
   "codemirror_mode": {
    "name": "ipython",
    "version": 3
   },
   "file_extension": ".py",
   "mimetype": "text/x-python",
   "name": "python",
   "nbconvert_exporter": "python",
   "pygments_lexer": "ipython3",
   "version": "3.8.2"
  }
 },
 "nbformat": 4,
 "nbformat_minor": 4
}
