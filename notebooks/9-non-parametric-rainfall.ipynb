{
 "cells": [
  {
   "cell_type": "markdown",
   "metadata": {},
   "source": [
    "# Kolmogorov Smirnov Two Sample Test\n",
    "\n",
    "We run a two-sided KS test to see if two datasets (i.e. two methods of generating stochastic rainfall) were drawn from the sample underlying distribution. We use a parametric and non-parametric approach to estimate rainfall:\n",
    "- Parametric: generate rainfall frome exponential distribution\n",
    "- Non-parametric: use empirical rainfall distribution to draw from a normal distribution (check)\n",
    "\n",
    "We use a KS test because it is non-parametric and distribution agnostic, and can be used to compare two samples of data. Our hypotheses are:\n",
    "- `H_0` (null hypothesis): Two samples (datasets) come from the same distribution.\n",
    "- `H_1` (altnerative hypothesis): Two samples are from different distributions. \n",
    "\n",
    "And then use the Test statistic, `D`, or level of significance, `alpha`, to determine the result. \n",
    "\n",
    "## Table of Contents\n",
    "Notebook is divided into three parts:\n",
    "1. Part 1: [Generate non-parametric rainfall](#part1)\n",
    "2. Part 2: [Import exponential rainfall data](#part2)\n",
    "3. Part 3: [Run KS Two Sample Test](#part3)"
   ]
  },
  {
   "cell_type": "code",
   "execution_count": 23,
   "metadata": {},
   "outputs": [],
   "source": [
    "# import packages, objects, set module path\n",
    "from math import exp\n",
    "import numpy as np\n",
    "import pandas as pd\n",
    "from numpy.random import exponential, uniform\n",
    "from dateutil.relativedelta import *\n",
    "import scipy.stats as st\n",
    "from datetime import timedelta, datetime\n",
    "import os\n",
    "import sys\n",
    "import glob\n",
    "import matplotlib.pyplot as plt\n",
    "\n",
    "module_path = os.path.abspath(os.path.join('..'))\n",
    "if module_path not in sys.path:\n",
    "    sys.path.append(module_path)\n",
    "\n",
    "from farm import Climate\n",
    "from farm.climate import make_climate_parameters"
   ]
  },
  {
   "cell_type": "markdown",
   "metadata": {},
   "source": [
    "## Get non-parametric estimation of rainfall  <a class=\"anchor\" id=\"part1\"></a>\n",
    "\n",
    "Use code from `make_climate_parameters` function to import rainfall."
   ]
  },
  {
   "cell_type": "code",
   "execution_count": 24,
   "metadata": {},
   "outputs": [],
   "source": [
    "station='OL JOGI FARM'\n",
    "data_file=\"../data/CETRAD/CETRAD_rainfall.csv\"\n",
    "year_min=30\n",
    "interval='dekad'\n",
    "\n",
    "# Prepare the CETRAD dataset.\n",
    "df = pd.read_csv(data_file)  # Read in the raw csv data.\n",
    "\n",
    "# Step 1. Convert text strings into datetime objects.\n",
    "format = '%m/%d/%y' # Column RDate has data in M/D/YY\n",
    "df['Datetime']=pd.to_datetime(df['RDate'], format=format) # Create a new column of datetime objects using RDate.\n",
    "\n",
    "# 2. Step 2. Convert future dates inferred during the conversion back into 20th century dates.\n",
    "# Python is a future-looking programming language, and assumes that 1/1/34 is Jan 1, 2034.\n",
    "# We can fix this by finding all the dates in the future (dt > datetime.now()) and removing 100 years from\n",
    "# their value. This requires using the relativedelta function, which handles weird stuff like leap years.\n",
    "df['Datetime'] = df['Datetime'].map(lambda dt: dt+relativedelta(years=-100) if dt > datetime.now() else dt)\n",
    "\n",
    "# Step 3. Extract the Year and Month from the Datetime to make aggregation easier.\n",
    "df['Year'] = [dt.year for dt in df['Datetime']]\n",
    "df['Month'] = [dt.month for dt in df['Datetime']]\n",
    "df['Week'] = [dt.week for dt in df['Datetime']]\n",
    "df['Dekad'] = df['Datetime'].dt.dayofyear//10+1\n",
    "\n",
    "n_years = len(df['Year'].unique())\n",
    "\n",
    "# Step 4. Use the Datetime values as the index for this dataframe.\n",
    "df = df.set_index(pd.DatetimeIndex(df['Datetime']))  # Set the Datetime column as the dataframe index\n",
    "\n",
    "# Step 5.  Delete the old RDate column, which we no longer need. \n",
    "# We will keep the Datetime column, in case we need it later.\n",
    "df = df.drop(['RDate'], axis=1)\n",
    "\n",
    "columns = [station] + ['Year', 'Month', 'Week', 'Dekad', 'Datetime']\n",
    "rainfall = df[columns]"
   ]
  },
  {
   "cell_type": "code",
   "execution_count": 26,
   "metadata": {},
   "outputs": [
    {
     "data": {
      "text/html": [
       "<div>\n",
       "<style scoped>\n",
       "    .dataframe tbody tr th:only-of-type {\n",
       "        vertical-align: middle;\n",
       "    }\n",
       "\n",
       "    .dataframe tbody tr th {\n",
       "        vertical-align: top;\n",
       "    }\n",
       "\n",
       "    .dataframe thead th {\n",
       "        text-align: right;\n",
       "    }\n",
       "</style>\n",
       "<table border=\"1\" class=\"dataframe\">\n",
       "  <thead>\n",
       "    <tr style=\"text-align: right;\">\n",
       "      <th></th>\n",
       "      <th>OL JOGI FARM</th>\n",
       "      <th>Year</th>\n",
       "      <th>Month</th>\n",
       "      <th>Week</th>\n",
       "      <th>Dekad</th>\n",
       "      <th>Datetime</th>\n",
       "    </tr>\n",
       "    <tr>\n",
       "      <th>Datetime</th>\n",
       "      <th></th>\n",
       "      <th></th>\n",
       "      <th></th>\n",
       "      <th></th>\n",
       "      <th></th>\n",
       "      <th></th>\n",
       "    </tr>\n",
       "  </thead>\n",
       "  <tbody>\n",
       "    <tr>\n",
       "      <th>1934-01-01</th>\n",
       "      <td>NaN</td>\n",
       "      <td>1934</td>\n",
       "      <td>1</td>\n",
       "      <td>1</td>\n",
       "      <td>1</td>\n",
       "      <td>1934-01-01</td>\n",
       "    </tr>\n",
       "    <tr>\n",
       "      <th>1934-01-02</th>\n",
       "      <td>NaN</td>\n",
       "      <td>1934</td>\n",
       "      <td>1</td>\n",
       "      <td>1</td>\n",
       "      <td>1</td>\n",
       "      <td>1934-01-02</td>\n",
       "    </tr>\n",
       "    <tr>\n",
       "      <th>1934-01-03</th>\n",
       "      <td>NaN</td>\n",
       "      <td>1934</td>\n",
       "      <td>1</td>\n",
       "      <td>1</td>\n",
       "      <td>1</td>\n",
       "      <td>1934-01-03</td>\n",
       "    </tr>\n",
       "    <tr>\n",
       "      <th>1934-01-04</th>\n",
       "      <td>NaN</td>\n",
       "      <td>1934</td>\n",
       "      <td>1</td>\n",
       "      <td>1</td>\n",
       "      <td>1</td>\n",
       "      <td>1934-01-04</td>\n",
       "    </tr>\n",
       "    <tr>\n",
       "      <th>1934-01-05</th>\n",
       "      <td>NaN</td>\n",
       "      <td>1934</td>\n",
       "      <td>1</td>\n",
       "      <td>1</td>\n",
       "      <td>1</td>\n",
       "      <td>1934-01-05</td>\n",
       "    </tr>\n",
       "    <tr>\n",
       "      <th>...</th>\n",
       "      <td>...</td>\n",
       "      <td>...</td>\n",
       "      <td>...</td>\n",
       "      <td>...</td>\n",
       "      <td>...</td>\n",
       "      <td>...</td>\n",
       "    </tr>\n",
       "    <tr>\n",
       "      <th>2016-11-27</th>\n",
       "      <td>NaN</td>\n",
       "      <td>2016</td>\n",
       "      <td>11</td>\n",
       "      <td>47</td>\n",
       "      <td>34</td>\n",
       "      <td>2016-11-27</td>\n",
       "    </tr>\n",
       "    <tr>\n",
       "      <th>2016-11-28</th>\n",
       "      <td>NaN</td>\n",
       "      <td>2016</td>\n",
       "      <td>11</td>\n",
       "      <td>48</td>\n",
       "      <td>34</td>\n",
       "      <td>2016-11-28</td>\n",
       "    </tr>\n",
       "    <tr>\n",
       "      <th>2016-11-29</th>\n",
       "      <td>NaN</td>\n",
       "      <td>2016</td>\n",
       "      <td>11</td>\n",
       "      <td>48</td>\n",
       "      <td>34</td>\n",
       "      <td>2016-11-29</td>\n",
       "    </tr>\n",
       "    <tr>\n",
       "      <th>2016-11-30</th>\n",
       "      <td>NaN</td>\n",
       "      <td>2016</td>\n",
       "      <td>11</td>\n",
       "      <td>48</td>\n",
       "      <td>34</td>\n",
       "      <td>2016-11-30</td>\n",
       "    </tr>\n",
       "    <tr>\n",
       "      <th>2016-12-01</th>\n",
       "      <td>NaN</td>\n",
       "      <td>2016</td>\n",
       "      <td>12</td>\n",
       "      <td>48</td>\n",
       "      <td>34</td>\n",
       "      <td>2016-12-01</td>\n",
       "    </tr>\n",
       "  </tbody>\n",
       "</table>\n",
       "<p>30286 rows × 6 columns</p>\n",
       "</div>"
      ],
      "text/plain": [
       "            OL JOGI FARM  Year  Month  Week  Dekad   Datetime\n",
       "Datetime                                                     \n",
       "1934-01-01           NaN  1934      1     1      1 1934-01-01\n",
       "1934-01-02           NaN  1934      1     1      1 1934-01-02\n",
       "1934-01-03           NaN  1934      1     1      1 1934-01-03\n",
       "1934-01-04           NaN  1934      1     1      1 1934-01-04\n",
       "1934-01-05           NaN  1934      1     1      1 1934-01-05\n",
       "...                  ...   ...    ...   ...    ...        ...\n",
       "2016-11-27           NaN  2016     11    47     34 2016-11-27\n",
       "2016-11-28           NaN  2016     11    48     34 2016-11-28\n",
       "2016-11-29           NaN  2016     11    48     34 2016-11-29\n",
       "2016-11-30           NaN  2016     11    48     34 2016-11-30\n",
       "2016-12-01           NaN  2016     12    48     34 2016-12-01\n",
       "\n",
       "[30286 rows x 6 columns]"
      ]
     },
     "execution_count": 26,
     "metadata": {},
     "output_type": "execute_result"
    }
   ],
   "source": [
    "rainfall"
   ]
  },
  {
   "cell_type": "markdown",
   "metadata": {},
   "source": [
    "### Test code for generating rainfall using non-parametric approach\n",
    "\n",
    "These are the steps:\n",
    "1. Step 1: Sort X {x_0....x_n} from small to large\n",
    "2. Step 2: Draw random number, u, from uniform distribution {0,1}\n",
    "3. Step 3: Get sample: X [u*len(x)] and round to an integer\n",
    "4. Step 4: Locate that rainfall sample by index\n",
    "5. Step 5: Generate 365 integer numbers \n",
    "6. Step 6: Get rainfall for those integer numbers\n",
    "7. Step 7: Don't want it to rain all of the time, only set rainfall days based on lambda"
   ]
  },
  {
   "cell_type": "markdown",
   "metadata": {},
   "source": [
    "### Generate rainfall for 10,000 seasons\n",
    "\n",
    "Rather than using the steps above and a for-loop we can run what's below much more quickly."
   ]
  },
  {
   "cell_type": "code",
   "execution_count": 27,
   "metadata": {},
   "outputs": [],
   "source": [
    "# Step 1: Sort X {x_0....x_n} from small to large\n",
    "rain_days = rainfall.loc[rainfall['OL JOGI FARM'] > 0]\n",
    "x = pd.DataFrame(rain_days['OL JOGI FARM']).sort_values(by='OL JOGI FARM').values.tolist()\n",
    "x = pd.DataFrame(x)\n",
    "\n",
    "# Note, if we want to run this for certain months of the year and not the full calendar year, then\n",
    "# need to change both the lambdas that are running and the x values\n",
    "\n",
    "no_rain = len(x)-1\n",
    "lambdas = s0_climate.lambda_r\n",
    "n_lambdas = len(lambdas)\n",
    "nsims = 10000\n",
    "pvals = np.random.uniform(low=0.0, high=1.0, size=nsims*n_lambdas)\n",
    "data = np.round(np.random.uniform(low=0.0, high=1.0, size=nsims*n_lambdas)*no_rain)\n",
    "lambda_list = np.array(([lambdas]*nsims)).flatten()\n",
    "amounts = x.iloc[data]\n",
    "rf = (pvals<lambda_list).astype(int)*amounts[0]         \n",
    "final_rf = rf[rf != 0].values"
   ]
  },
  {
   "cell_type": "code",
   "execution_count": 28,
   "metadata": {},
   "outputs": [
    {
     "name": "stdout",
     "output_type": "stream",
     "text": [
      "how many values using the non-parametric approach for generating rainfall 583639\n"
     ]
    }
   ],
   "source": [
    "# all of the rainfall data\n",
    "x.iloc[data]\n",
    "\n",
    "# rainfall data excluding zeroes\n",
    "final_rf\n",
    "onp = final_rf\n",
    "print('how many values using the non-parametric approach for generating rainfall', len(onp))"
   ]
  },
  {
   "cell_type": "markdown",
   "metadata": {},
   "source": [
    "## Grab rainfall (exponential) from simulations <a class=\"anchor\" id=\"part2\"></a>\n",
    "\n",
    "Need to create alternative simulations that have 365 days worth of data. Might be worth doing this in this notebook even."
   ]
  },
  {
   "cell_type": "code",
   "execution_count": 29,
   "metadata": {},
   "outputs": [
    {
     "data": {
      "text/plain": [
       "10000"
      ]
     },
     "execution_count": 29,
     "metadata": {},
     "output_type": "execute_result"
    }
   ],
   "source": [
    "# Import in the data\n",
    "n_sim = 10000\n",
    "no_sims = np.arange(0,n_sim)\n",
    "\n",
    "files = glob.glob('../output/final/full_year/*.csv')\n",
    "output = []\n",
    "for f, n in zip(files, no_sims):\n",
    "    f_ = pd.read_csv(f).drop('Unnamed: 0',axis=1)\n",
    "    output.append(f_)\n",
    "\n",
    "output[99]\n",
    "len(output) # Check that there are 10,000 seasons"
   ]
  },
  {
   "cell_type": "markdown",
   "metadata": {},
   "source": [
    "The output is time series with all of the variables (kc, LAI, etc.. ). We want just the rainfall.\n",
    "\n",
    "**Assumption**: Rounding the parametric data here. It provides the same result as not rounding, but runs much faster."
   ]
  },
  {
   "cell_type": "code",
   "execution_count": 30,
   "metadata": {},
   "outputs": [],
   "source": [
    "output_rf = np.array([df['R'] for df in output])\n",
    "output_p = pd.DataFrame.from_records(output_rf)\n",
    "#op_notrounded = np.array(pd.melt(output_p)['value'])\n",
    "op = np.round(np.array(pd.melt(output_p)['value']), decimals=1) # let's round to the first decimal place\n",
    "op = op[op != 0]\n",
    "#op_notrounded = op_notrounded[op_notrounded != 0]"
   ]
  },
  {
   "cell_type": "markdown",
   "metadata": {},
   "source": [
    "What's the difference in length between the two datasets?"
   ]
  },
  {
   "cell_type": "code",
   "execution_count": 31,
   "metadata": {},
   "outputs": [
    {
     "name": "stdout",
     "output_type": "stream",
     "text": [
      "580391 583639\n"
     ]
    }
   ],
   "source": [
    "print(len(op), len(onp)) #, len(op_notrounded))"
   ]
  },
  {
   "cell_type": "markdown",
   "metadata": {},
   "source": [
    "## Do KS test  <a class=\"anchor\" id=\"part3\"></a>\n",
    "\n",
    "For the KS two sample test, we assume two empirical distributions and then take the difference between the two. The beauty in this test lies the fact that we do not need to know or make any assumptions about the underlying distributions. \n",
    "\n",
    "Notes and code from here: [KS for Two Samples](https://towardsdatascience.com/when-to-use-the-kolmogorov-smirnov-test-dd0b2c8a8f61)\n",
    "\n",
    "In order to compare the two datasets, we need to do the following:\n",
    "1. Order each sample\n",
    "2. Cat into one sorted array\n",
    "3. Compute the observed CDFs of the two samples\n",
    "4. Compute the maximum absolute difference, `D_n`\n",
    "5. Compare against `D_crit`"
   ]
  },
  {
   "cell_type": "code",
   "execution_count": 32,
   "metadata": {},
   "outputs": [],
   "source": [
    "# Kelly's method\n",
    "\n",
    "def cdf(values):\n",
    "    \"\"\" Defines function to compute cumulative distribution function.\n",
    "        Input one sample of data. Returns the unique values and cdf.\n",
    "    \"\"\"\n",
    "    sorted_values=np.sort(values)\n",
    "    unique_values=np.unique(sorted_values)\n",
    "    cdf_np=[]\n",
    "    num_obs = len(sorted_values)\n",
    "    for i,value in enumerate(unique_values):\n",
    "        cdf_np.append(np.argmax(value==sorted_values)/num_obs)\n",
    "    return unique_values, cdf_np"
   ]
  },
  {
   "cell_type": "code",
   "execution_count": 33,
   "metadata": {},
   "outputs": [
    {
     "name": "stdout",
     "output_type": "stream",
     "text": [
      "0.2 0.1\n",
      "78.4 144.4\n"
     ]
    }
   ],
   "source": [
    "print(min(onp), min(op)) # smallest numbers look okay\n",
    "print(max(onp), max(op)) # largest numbers are very different"
   ]
  },
  {
   "cell_type": "code",
   "execution_count": 34,
   "metadata": {},
   "outputs": [
    {
     "data": {
      "text/plain": [
       "array([1.000e-01, 1.000e-01, 1.000e-01, ..., 1.408e+02, 1.421e+02,\n",
       "       1.444e+02])"
      ]
     },
     "execution_count": 34,
     "metadata": {},
     "output_type": "execute_result"
    }
   ],
   "source": [
    "# sort samples from non-parametric method (sample a)\n",
    "samp_onp = np.sort(onp); samp_onp\n",
    "\n",
    "# sort samples from original method, exponential (sample b)\n",
    "#samp_op_nr = np.sort(op_notrounded)\n",
    "samp_op = np.sort(op); samp_op"
   ]
  },
  {
   "cell_type": "code",
   "execution_count": 35,
   "metadata": {},
   "outputs": [],
   "source": [
    "x_onp, y_onp = cdf(samp_onp)\n",
    "x_op, y_op = cdf(samp_op)"
   ]
  },
  {
   "cell_type": "code",
   "execution_count": 36,
   "metadata": {},
   "outputs": [
    {
     "data": {
      "image/png": "[encoded data removed]",
      "text/plain": [
       "<Figure size 432x288 with 1 Axes>"
      ]
     },
     "metadata": {
      "needs_background": "light"
     },
     "output_type": "display_data"
    }
   ],
   "source": [
    "plt.plot(x_op, y_op, label='Exponential data', alpha=0.5)\n",
    "plt.plot(x_onp, y_onp, label='Non-parametric data', alpha=0.5)\n",
    "\n",
    "plt.xlabel('Rainfall (mm)')\n",
    "plt.ylabel('F(x)')\n",
    "\n",
    "plt.legend()\n",
    "plt.title('CDFs for two methods of simulating rainfall')\n",
    "plt.xlim(0,80)\n",
    "plt.savefig('cdfs.png', dpi=600)"
   ]
  },
  {
   "cell_type": "code",
   "execution_count": null,
   "metadata": {},
   "outputs": [],
   "source": []
  },
  {
   "cell_type": "markdown",
   "metadata": {},
   "source": [
    "Run the statistics on it. Two-sided KS test: [ks_2samp method](https://docs.scipy.org/doc/scipy/reference/generated/scipy.stats.ks_2samp.html#scipy.stats.ks_2samp) in scipy.\n",
    "\n",
    "Additional info from: https://sites.google.com/a/ucsc.edu/krumholz/teaching-and-courses/ast119_w15/class-10"
   ]
  },
  {
   "cell_type": "markdown",
   "metadata": {},
   "source": [
    "The `ks_2samp` method returns a tuple: first is D, maximum difference between the CDF of the input data and the model CDF. The second is the p-value, i.e. the probability that if the data was actually drawn from the proposed CDF, then the resulting value of D would have been as/larger than the one we measured\n",
    "\n",
    "E.g., D = 0.0305, p-value 0.3, then 30% of the time we would expect a value of D as large as the one actually got even if the data had been drawn from the proposed distribution. There cannot reject the hypothesis that the data were drawn from the proposed distribution\n",
    "\n",
    "**In this case**, we can reject the null hypothesis since the p-value is well below 1%. Therefore the two datasets come from different distributions. I.e., it is probable that the two distributions are different. \n",
    "\n",
    "There are two options for interpreting the result: 1. Use p-level as level of significant where p < 0.01 is highly significant or 2. Use statistic value given by python and compare it to the [KS-test critical value table](https://sparky.rice.edu//astr360/kstest.pdf) according to sample size. When statistic value is greater than the critical value, then the two distributions are different."
   ]
  },
  {
   "cell_type": "code",
   "execution_count": 21,
   "metadata": {},
   "outputs": [
    {
     "data": {
      "text/plain": [
       "Ks_2sampResult(statistic=0.07036848657981756, pvalue=0.0)"
      ]
     },
     "execution_count": 21,
     "metadata": {},
     "output_type": "execute_result"
    }
   ],
   "source": [
    "# Run the statistics\n",
    "\n",
    "# first argument is the dataset, the second is the second dataset\n",
    "st.ks_2samp(op, onp)"
   ]
  },
  {
   "cell_type": "code",
   "execution_count": 22,
   "metadata": {},
   "outputs": [
    {
     "name": "stdout",
     "output_type": "stream",
     "text": [
      "0.002519897559309453\n"
     ]
    }
   ],
   "source": [
    "# What is the D_crit value for the two sample sizes\n",
    "n1 = len(op)\n",
    "n2 = len(onp)\n",
    "\n",
    "# Use alpha = 0.05\n",
    "alpha = 0.05\n",
    "c_alpha = 1.36\n",
    "\n",
    "D_crit = c_alpha*np.sqrt((n1+n2)/(n1*n2))\n",
    "\n",
    "print(D_crit)"
   ]
  },
  {
   "cell_type": "markdown",
   "metadata": {},
   "source": [
    "The statistics value (~0.07) is greater than the critical value (0.002) so the two distributions are different."
   ]
  },
  {
   "cell_type": "markdown",
   "metadata": {},
   "source": [
    "## Take-aways from this work:\n",
    "- when sample sizes are sufficiently large there are small effect sizes and thus very small p-values. P-values can't answer the question \"are these distributions similar.\" For the KS test any small difference in distributions will be significant at large sample sizes. See discussion [here](https://stats.stackexchange.com/questions/349618/ks-test-always-significant), [here](https://stats.stackexchange.com/questions/2516/are-large-data-sets-inappropriate-for-hypothesis-testing), and [here](https://stats.stackexchange.com/questions/125750/sample-size-too-large).\n",
    "\n",
    "- so, instead we have to ask: what are we trying to get out of this analysis? What is the magnitude of difference between the two distributions?\n",
    "- what we're seeing is that the data from the simulations (fit to an exponential distribution) overestimates small rainfall events (between 0-5mm) compared to the non-parametric approach. And underestimates rainfall events between 5-20mm compared to non-parametric approach. For rainfall events between 20-25mm, the simulations data overestimates these events. The two methods perform similarly for events greater than 30mm.\n",
    "\n",
    "- could consider plotting a P-P plot as mentioned [here](https://stats.stackexchange.com/questions/406940/why-does-the-ks-test-function-give-a-p-value-of-0-for-these-two-samples) or a QQ plot, see [here](https://stats.stackexchange.com/questions/74434/kolmogorov-smirnov-test-strange-output)."
   ]
  },
  {
   "cell_type": "markdown",
   "metadata": {},
   "source": [
    "## Old code:"
   ]
  },
  {
   "cell_type": "code",
   "execution_count": null,
   "metadata": {},
   "outputs": [],
   "source": []
  },
  {
   "cell_type": "code",
   "execution_count": 4,
   "metadata": {},
   "outputs": [
    {
     "name": "stdout",
     "output_type": "stream",
     "text": [
      "number of rainfall events, len(x): 1858\n"
     ]
    }
   ],
   "source": [
    "# Step 1: Sort X {x_0....x_n} from small to large\n",
    "rain_days = rainfall.loc[rainfall['OL JOGI FARM'] > 0]\n",
    "x = pd.DataFrame(rain_days['OL JOGI FARM']).sort_values(by='OL JOGI FARM').values.tolist()\n",
    "x = pd.DataFrame(x); print('number of rainfall events, len(x):',len(x))"
   ]
  },
  {
   "cell_type": "code",
   "execution_count": 5,
   "metadata": {},
   "outputs": [
    {
     "data": {
      "text/plain": [
       "78.4"
      ]
     },
     "execution_count": 5,
     "metadata": {},
     "output_type": "execute_result"
    }
   ],
   "source": [
    "x[0].max()\n",
    "#x[0].min()"
   ]
  },
  {
   "cell_type": "code",
   "execution_count": 6,
   "metadata": {},
   "outputs": [
    {
     "name": "stdout",
     "output_type": "stream",
     "text": [
      "random number, u: 0.9123453334661172\n"
     ]
    }
   ],
   "source": [
    "# Step 2: Draw random number, u, from uniform distribution {0,1}\n",
    "u = np.random.uniform(low=0.0, high=1.0, size=None); print('random number, u:',u)"
   ]
  },
  {
   "cell_type": "code",
   "execution_count": 7,
   "metadata": {},
   "outputs": [
    {
     "name": "stdout",
     "output_type": "stream",
     "text": [
      "index for sample, ix: 1695\n"
     ]
    }
   ],
   "source": [
    "# Step 3: Get sample: X [u*len(x)] and round to an integer\n",
    "ix = int(u*len(x)); print('index for sample, ix:',ix)"
   ]
  },
  {
   "cell_type": "code",
   "execution_count": 8,
   "metadata": {},
   "outputs": [
    {
     "data": {
      "text/plain": [
       "24.9"
      ]
     },
     "execution_count": 8,
     "metadata": {},
     "output_type": "execute_result"
    }
   ],
   "source": [
    "# Step 4: Locate that rainfall sample by index\n",
    "x.iloc[ix,0] # row ix, column 0"
   ]
  },
  {
   "cell_type": "code",
   "execution_count": 9,
   "metadata": {},
   "outputs": [],
   "source": [
    "# Step 5: Generate 365 integer numbers \n",
    "data = []\n",
    "\n",
    "for i in np.arange(1,366):\n",
    "    u = np.random.uniform(low=0.0, high=1.0, size=None)\n",
    "    ix = int(u*len(x))\n",
    "    x.iloc[ix,0] \n",
    "    data.append(ix)\n",
    "\n",
    "# Step 6: Get rainfall for those integer numbers\n",
    "rf = x.iloc[data]\n",
    "\n",
    "# Step 7: Don't want it to rain all of the time\n",
    "t_sim=365\n",
    "\n",
    "# Force doy to be in [1,365]:\n",
    "doy_start=1\n",
    "doys = np.arange(doy_start, doy_start + t_sim)\n",
    "while (doys - 365 > 0).any() == True:\n",
    "        doys = doys - 365 * ((doys - 365) > 0)\n",
    "#amounts = [exponential(scale=s0_climate.alpha_r[doy-1], size=1)[0] for doy in doys]\n",
    "amounts= rf[0].to_list()\n",
    "\n",
    "s0_climate = Climate(data_file=data_file, station=station, interval=interval)"
   ]
  },
  {
   "cell_type": "code",
   "execution_count": 10,
   "metadata": {},
   "outputs": [
    {
     "name": "stdout",
     "output_type": "stream",
     "text": [
      "there are 365  days of rainfall\n",
      "total annual rainfall for one simulation is:  606.7\n"
     ]
    }
   ],
   "source": [
    "rain_days = [(uniform(low=0, high=1, size=1) <= s0_climate.lambda_r[doy-1] ).astype(int) for doy in doys]\n",
    "final = np.multiply(amounts, [v[0] for v in rain_days])\n",
    "print('there are',len(final),' days of rainfall')\n",
    "print('total annual rainfall for one simulation is: ',final.sum())"
   ]
  }
 ],
 "metadata": {
  "kernelspec": {
   "display_name": "Python 3",
   "language": "python",
   "name": "python3"
  },
  "language_info": {
   "codemirror_mode": {
    "name": "ipython",
    "version": 3
   },
   "file_extension": ".py",
   "mimetype": "text/x-python",
   "name": "python",
   "nbconvert_exporter": "python",
   "pygments_lexer": "ipython3",
   "version": "3.8.6"
  }
 },
 "nbformat": 4,
 "nbformat_minor": 4
}
