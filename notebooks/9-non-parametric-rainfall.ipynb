{
 "cells": [
  {
   "cell_type": "markdown",
   "metadata": {},
   "source": [
    "# Kolmogorov Smirnov Two Sample Test\n",
    "\n",
    "We run a two-sided KS test to see if two datasets (i.e. two methods of generating stochastic rainfall) were drawn from the sample underlying distribution. We use a parametric and non-parametric approach to estimate rainfall:\n",
    "- Parametric: generate rainfall frome exponential distribution\n",
    "- Non-parametric: use empirical rainfall distribution to draw from a normal distribution (check)\n",
    "\n",
    "We use a KS test because it is non-parametric and distribution agnostic, and can be used to compare two samples of data. Our hypotheses are:\n",
    "- `H_0` (null hypothesis): Two samples (datasets) come from the same distribution.\n",
    "- `H_1` (altnerative hypothesis): Two samples are from different distributions. \n",
    "\n",
    "And then use the Test statistic, `D`, or level of significance, `alpha`, to determine the result. \n",
    "\n",
    "## Table of Contents\n",
    "Notebook is divided into three parts:\n",
    "1. Part 1: [Generate non-parametric rainfall](#part1)\n",
    "2. Part 2: [Import exponential rainfall data](#part2)\n",
    "3. Part 3: [Run KS Two Sample Test](#part3)"
   ]
  },
  {
   "cell_type": "code",
   "execution_count": 32,
   "metadata": {},
   "outputs": [],
   "source": [
    "# import packages, objects, set module path\n",
    "from math import exp\n",
    "import numpy as np\n",
    "import pandas as pd\n",
    "from numpy.random import exponential, uniform\n",
    "from dateutil.relativedelta import *\n",
    "import scipy.stats as st\n",
    "from datetime import timedelta, datetime\n",
    "import os\n",
    "import sys\n",
    "import glob\n",
    "import matplotlib.pyplot as plt\n",
    "\n",
    "module_path = os.path.abspath(os.path.join('..'))\n",
    "if module_path not in sys.path:\n",
    "    sys.path.append(module_path)\n",
    "\n",
    "from farm import Climate\n",
    "from farm.climate import make_climate_parameters"
   ]
  },
  {
   "cell_type": "markdown",
   "metadata": {},
   "source": [
    "## Get non-parametric estimation of rainfall  <a class=\"anchor\" id=\"part1\"></a>\n",
    "\n",
    "Use code from `make_climate_parameters` function to import rainfall."
   ]
  },
  {
   "cell_type": "code",
   "execution_count": 34,
   "metadata": {},
   "outputs": [],
   "source": [
    "station='OL JOGI FARM'\n",
    "data_file=\"../data/CETRAD/CETRAD_rainfall.csv\"\n",
    "year_min=30\n",
    "interval='dekad'\n",
    "\n",
    "# Prepare the CETRAD dataset.\n",
    "df = pd.read_csv(data_file)  # Read in the raw csv data.\n",
    "\n",
    "# Step 1. Convert text strings into datetime objects.\n",
    "format = '%m/%d/%y' # Column RDate has data in M/D/YY\n",
    "df['Datetime']=pd.to_datetime(df['RDate'], format=format) # Create a new column of datetime objects using RDate.\n",
    "\n",
    "# 2. Step 2. Convert future dates inferred during the conversion back into 20th century dates.\n",
    "# Python is a future-looking programming language, and assumes that 1/1/34 is Jan 1, 2034.\n",
    "# We can fix this by finding all the dates in the future (dt > datetime.now()) and removing 100 years from\n",
    "# their value. This requires using the relativedelta function, which handles weird stuff like leap years.\n",
    "df['Datetime'] = df['Datetime'].map(lambda dt: dt+relativedelta(years=-100) if dt > datetime.now() else dt)\n",
    "\n",
    "# Step 3. Extract the Year and Month from the Datetime to make aggregation easier.\n",
    "df['Year'] = [dt.year for dt in df['Datetime']]\n",
    "df['Month'] = [dt.month for dt in df['Datetime']]\n",
    "df['Week'] = [dt.week for dt in df['Datetime']]\n",
    "df['Dekad'] = df['Datetime'].dt.dayofyear//10+1\n",
    "\n",
    "n_years = len(df['Year'].unique())\n",
    "\n",
    "# Step 4. Use the Datetime values as the index for this dataframe.\n",
    "df = df.set_index(pd.DatetimeIndex(df['Datetime']))  # Set the Datetime column as the dataframe index\n",
    "\n",
    "# Step 5.  Delete the old RDate column, which we no longer need. \n",
    "# We will keep the Datetime column, in case we need it later.\n",
    "df = df.drop(['RDate'], axis=1)\n",
    "\n",
    "columns = [station] + ['Year', 'Month', 'Week', 'Dekad', 'Datetime']\n",
    "rainfall = df[columns]\n",
    "\n",
    "# First, find all the rows in the data where it rained and group by month.\n",
    "rain_days = rainfall.loc[rainfall[station] > 0]\n",
    "\n",
    "# Find all locations in the data where an observation was made.\n",
    "all_days = rainfall.loc[rainfall[station] >= 0] \n",
    "\n",
    "# Find just the rainfall amounts on days that it rained.\n",
    "data = rainfall.loc[rainfall[station] > 0][station]\n",
    "\n",
    "# Fit the daily rainfall amounts to an exponential distribution.\n",
    "#check_exponential(data)\n",
    "\n",
    "if interval == 'month':\n",
    "    # Determine the Monthly values of alpha and lambda from the station data:\n",
    "    lambda_values = (\n",
    "        rain_days.groupby('Month')[station].count() /\n",
    "        all_days.groupby('Month')[station].count()\n",
    "    )\n",
    "    alpha_values = rain_days.groupby('Month')[station].mean()\n",
    "elif interval == 'dekad':\n",
    "    lambda_values = (\n",
    "        rain_days.groupby('Dekad')[station].count() / \n",
    "        all_days.groupby('Dekad')[station].count()\n",
    "    )\n",
    "    alpha_values = rain_days.groupby('Dekad')[station].mean()\n",
    "else:\n",
    "    raise(NotImplementedError)"
   ]
  },
  {
   "cell_type": "markdown",
   "metadata": {},
   "source": [
    "### Test code for generating rainfall using non-parametric approach"
   ]
  },
  {
   "cell_type": "code",
   "execution_count": 35,
   "metadata": {},
   "outputs": [
    {
     "name": "stdout",
     "output_type": "stream",
     "text": [
      "number of rainfall events, len(x): 1858\n"
     ]
    }
   ],
   "source": [
    "# Step 1: Sort X {x_0....x_n} from small to large\n",
    "rain_days = rainfall.loc[rainfall['OL JOGI FARM'] > 0]\n",
    "x = pd.DataFrame(rain_days['OL JOGI FARM']).sort_values(by='OL JOGI FARM').values.tolist()\n",
    "x = pd.DataFrame(x); print('number of rainfall events, len(x):',len(x))"
   ]
  },
  {
   "cell_type": "code",
   "execution_count": 36,
   "metadata": {},
   "outputs": [
    {
     "name": "stdout",
     "output_type": "stream",
     "text": [
      "random number, u: 0.20600474550244285\n"
     ]
    }
   ],
   "source": [
    "# Step 2: Draw random number, u, from uniform distribution {0,1}\n",
    "u = np.random.uniform(low=0.0, high=1.0, size=None); print('random number, u:',u)"
   ]
  },
  {
   "cell_type": "code",
   "execution_count": 37,
   "metadata": {},
   "outputs": [
    {
     "name": "stdout",
     "output_type": "stream",
     "text": [
      "index for sample, ix: 382\n"
     ]
    }
   ],
   "source": [
    "# Step 3: Get sample: X [u*len(x)] and round to an integer\n",
    "ix = int(u*len(x)); print('index for sample, ix:',ix)"
   ]
  },
  {
   "cell_type": "code",
   "execution_count": 38,
   "metadata": {},
   "outputs": [
    {
     "data": {
      "text/plain": [
       "2.5"
      ]
     },
     "execution_count": 38,
     "metadata": {},
     "output_type": "execute_result"
    }
   ],
   "source": [
    "# Step 4: Locate that rainfall sample by index\n",
    "x.iloc[ix,0] # row ix, column 0"
   ]
  },
  {
   "cell_type": "code",
   "execution_count": null,
   "metadata": {},
   "outputs": [],
   "source": [
    "# Step 5: Generate 365 integer numbers \n",
    "data = []\n",
    "\n",
    "for i in np.arange(1,366):\n",
    "    u = np.random.uniform(low=0.0, high=1.0, size=None)\n",
    "    ix = int(u*len(x))\n",
    "    x.iloc[ix,0] \n",
    "    data.append(ix)\n",
    "\n",
    "# Step 6: Get rainfall for those integer numbers\n",
    "rf = x.iloc[data]\n",
    "\n",
    "# Step 7: Don't want it to rain all of the time\n",
    "t_sim=365\n",
    "\n",
    "# Force doy to be in [1,365]:\n",
    "doy_start=1\n",
    "doys = np.arange(doy_start, doy_start + t_sim)\n",
    "while (doys - 365 > 0).any() == True:\n",
    "        doys = doys - 365 * ((doys - 365) > 0)\n",
    "#amounts = [exponential(scale=s0_climate.alpha_r[doy-1], size=1)[0] for doy in doys]\n",
    "amounts= rf[0].to_list()\n",
    "\n",
    "s0_climate = Climate(data_file=data_file, station=station, interval=interval)"
   ]
  },
  {
   "cell_type": "markdown",
   "metadata": {},
   "source": [
    "Check this part with Kelly: Okay to use the same lambdas as before, but changing alphas"
   ]
  },
  {
   "cell_type": "code",
   "execution_count": 48,
   "metadata": {},
   "outputs": [
    {
     "data": {
      "text/plain": [
       "535.9"
      ]
     },
     "execution_count": 48,
     "metadata": {},
     "output_type": "execute_result"
    }
   ],
   "source": [
    "rain_days = [(uniform(low=0, high=1, size=1) <= s0_climate.lambda_r[doy-1] ).astype(int) for doy in doys]\n",
    "final = np.multiply(amounts, [v[0] for v in rain_days])\n",
    "len(final)\n",
    "final.sum()"
   ]
  },
  {
   "cell_type": "markdown",
   "metadata": {},
   "source": [
    "### Generate rainfall for 10,000 seasons"
   ]
  },
  {
   "cell_type": "code",
   "execution_count": 9,
   "metadata": {},
   "outputs": [],
   "source": [
    "final_rf = []\n",
    "\n",
    "for z in np.arange(0,10000):\n",
    "\n",
    "    # Step 1: Sort X {x_0....x_n} from small to large\n",
    "    rain_days = rainfall.loc[rainfall['OL JOGI FARM'] > 0]\n",
    "    x = pd.DataFrame(rain_days['OL JOGI FARM']).sort_values(by='OL JOGI FARM').values.tolist()\n",
    "    x = pd.DataFrame(x); #print('number of rainfall events, len(x):',len(x))\n",
    "\n",
    "    # Step 2: Draw random number, u, from uniform distribution {0,1}\n",
    "    u = np.random.uniform(low=0.0, high=1.0, size=None); #print('random number, u:',u)\n",
    "\n",
    "    # Step 3: Get sample: X [u*len(x)] and round to an integer\n",
    "    ix = int(u*len(x)); #print('index for sample, ix:',ix)\n",
    "\n",
    "    # Step 4: Locate that rainfall sample by index\n",
    "    x.iloc[ix,0] # row ix, column 0\n",
    "\n",
    "    # Step 5: Generate 365 integer numbers \n",
    "    data = []\n",
    "\n",
    "    for i in np.arange(1,366):\n",
    "        u = np.random.uniform(low=0.0, high=1.0, size=None)\n",
    "        ix = int(u*len(x))\n",
    "        x.iloc[ix,0] \n",
    "        data.append(ix)\n",
    "\n",
    "    # Step 6: Get rainfall for those integer numbers\n",
    "    rf = x.iloc[data]\n",
    "\n",
    "    # Step 7: Don't want it to rain all of the time\n",
    "    t_sim=365\n",
    "\n",
    "    doy_start=1\n",
    "    while (doys - 365 > 0).any() == True:\n",
    "            doys = doys - 365 * ((doys - 365) > 0)\n",
    "    #amounts = [exponential(scale=s0_climate.alpha_r[doy-1], size=1)[0] for doy in doys]\n",
    "    amounts= rf[0].to_list()\n",
    "\n",
    "    rain_days = [(uniform(low=0, high=1, size=1) <= s0_climate.lambda_r[doy-1] ).astype(int) for doy in doys]\n",
    "    final = np.multiply(amounts, [v[0] for v in rain_days])\n",
    "    #len(final)\n",
    "    #final.sum()\n",
    "    final_rf.append(final)\n",
    "    "
   ]
  },
  {
   "cell_type": "code",
   "execution_count": 49,
   "metadata": {},
   "outputs": [
    {
     "data": {
      "text/plain": [
       "array([ 0. ,  0. ,  0. ,  0. ,  0. ,  0. ,  0. ,  0. ,  0. ,  0. ,  0. ,\n",
       "        0. , 14. ,  0. ,  0. ,  4. ,  0. ,  0. ,  0. , 12. ,  0. ,  0. ,\n",
       "        0. ,  0. ,  0. ,  0. ,  0. ,  0. ,  0. ,  0. ,  0. ,  0. ,  0. ,\n",
       "        0. ,  0. ,  0. ,  0. ,  0. ,  0. ,  0. ,  0. , 10. ,  0. ,  0. ,\n",
       "        0. ,  0. ,  0. ,  0. ,  0. ,  0. ,  0. ,  0. ,  0. ,  0. ,  0. ,\n",
       "        0. ,  0. ,  0. ,  0. ,  0. ,  0. ,  3. ,  0. ,  0. ,  0. , 17.5,\n",
       "        0. ,  0. ,  0. ,  0. ,  0. ,  0. ,  0. ,  0. ,  0. ,  0. ,  0. ,\n",
       "        0. ,  0. ,  0. ,  2.5,  0. ,  0. ,  0. ,  0. ,  5.5,  0. ,  0. ,\n",
       "        0. ,  0. ,  0. ,  0. ,  0. ,  0. ,  0. ,  0. ,  0. , 16.5,  0. ,\n",
       "        0. ,  0. ,  0. ,  0. , 13. ,  0. ,  6.3,  1. ,  0. ,  1. ,  1.8,\n",
       "        0. ,  0. ,  0. ,  0. ,  0. ,  0. ,  0. ,  4. , 14.2,  0. ,  0. ,\n",
       "        0. , 29.4,  0. ,  8.1,  0. ,  0. ,  0. ,  4. ,  0. ,  0. ,  0. ,\n",
       "        6. , 16. ,  7. , 10.1,  0. , 13. ,  0. ,  0. ,  0. ,  0. ,  0. ,\n",
       "        0. ,  0. ,  0. ,  0. ,  0. ,  0. ,  0. ,  4.3,  0. ,  0. ,  4.3,\n",
       "        0. ,  0. ,  0. , 27. ,  0. , 12.6,  0. ,  0. ,  0. ,  0. ,  0. ,\n",
       "        0. ,  0. ,  0. ,  0. ,  0. ,  0. ,  0. ,  0. ,  6. ,  0. ,  0. ,\n",
       "        0. ,  0. ,  0. ,  0. ,  0. ,  0. ,  7. ,  0. ,  0. ,  0. ,  0. ,\n",
       "       13.2,  0. ,  0. ,  0. ,  0. ,  0. ,  0. ,  0. ,  0. ,  0. ,  0. ,\n",
       "        0. ,  0. , 13. ,  6.5,  0. ,  0. ,  0. ,  0. ,  0. ,  6. ,  0. ,\n",
       "       34. ,  0. ,  0. ,  0. ,  0. ,  0. ,  0. ,  0. ,  0. ,  0. ,  0. ,\n",
       "        0. ,  0. ,  0. ,  0. ,  0. ,  7.7,  0. ,  0. ,  0. ,  0. ,  0. ,\n",
       "        0. ,  0. ,  0. ,  0. ,  0. ,  0. ,  0. ,  0. ,  0. ,  0. ,  0. ,\n",
       "        0. ,  7.6,  0. ,  0. ,  0. ,  0. ,  0. ,  0. ,  0. ,  0. ,  0. ,\n",
       "        0. ,  0. ,  0. ,  0. ,  2.5,  0. ,  0. ,  0. ,  0. ,  0. ,  2. ,\n",
       "        0. ,  0. ,  0. ,  0. ,  0. ,  0. ,  0. ,  0. ,  0. ,  0. ,  0. ,\n",
       "        0. ,  0. ,  0. ,  0. ,  0. ,  0. ,  0. ,  0. ,  0. ,  0. ,  0. ,\n",
       "        0. , 10. ,  0. ,  0. ,  0. ,  0. ,  0. ,  0. ,  2.5,  7.6,  0.7,\n",
       "        0. ,  0. ,  0. ,  0. ,  0. , 23.8,  0. ,  0. , 12.1,  2.7,  0. ,\n",
       "        0. , 14.7,  0. ,  0. ,  0. ,  2. ,  9.6,  0. ,  0. ,  0. ,  0. ,\n",
       "       12.6,  0. ,  1. ,  0. ,  6.6,  5. ,  0. , 25.3, 16. ,  0. ,  5. ,\n",
       "        0. ,  0. ,  0. ,  0. ,  0. ,  0. ,  0. ,  0. ,  0. ,  0. ,  0. ,\n",
       "        0. ,  0. ,  0. ,  0. ,  0. ,  0. ,  0. ,  0. ,  0. ,  0. ,  0. ,\n",
       "        0. ,  0. ,  0. ,  0. ,  0. ,  0. ,  0. ,  0. ,  0. ,  0. ,  0. ,\n",
       "        0. ,  0. ])"
      ]
     },
     "execution_count": 49,
     "metadata": {},
     "output_type": "execute_result"
    }
   ],
   "source": [
    "# Let's check out rainfall from a random season\n",
    "final_rf[101]"
   ]
  },
  {
   "cell_type": "code",
   "execution_count": 75,
   "metadata": {},
   "outputs": [],
   "source": [
    "type(final_rf) # list of lists\n",
    "output_np = pd.DataFrame.from_records(final_rf) # get all the data as a dataframe where the row is the simulation and the column is the day number"
   ]
  },
  {
   "cell_type": "markdown",
   "metadata": {},
   "source": [
    "## Grab rainfall (exponential) from simulations <a class=\"anchor\" id=\"part2\"></a>"
   ]
  },
  {
   "cell_type": "code",
   "execution_count": 70,
   "metadata": {},
   "outputs": [],
   "source": [
    "# Import in the data\n",
    "n_sim = 10000\n",
    "no_sims = np.arange(1,n_sim)\n",
    "\n",
    "# reimport \n",
    "files = glob.glob('../output/final/*.csv')\n",
    "output = []\n",
    "for f, n in zip(files, no_sims):\n",
    "    f_ = pd.read_csv(f).drop('Unnamed: 0',axis=1)\n",
    "    output.append(f_)\n",
    "\n",
    "#output[99]"
   ]
  },
  {
   "cell_type": "markdown",
   "metadata": {},
   "source": [
    "The output is time series with all of the variables (kc, LAI, etc.. ). We want just the rainfall."
   ]
  },
  {
   "cell_type": "code",
   "execution_count": 76,
   "metadata": {},
   "outputs": [],
   "source": [
    "output_rf = [df['R'] for df in output]\n",
    "output_p = pd.DataFrame.from_records(output_rf)"
   ]
  },
  {
   "cell_type": "markdown",
   "metadata": {},
   "source": [
    "Datasets `output_np` and `output_p` are not the same format, so let's get those to talk to each other."
   ]
  },
  {
   "cell_type": "code",
   "execution_count": 77,
   "metadata": {},
   "outputs": [],
   "source": [
    "output_np = output_np.drop(0) # want this to be the same length as output_p\n",
    "output_np = output_np.iloc[:, 60:240] # want only days 60 to 240"
   ]
  },
  {
   "cell_type": "markdown",
   "metadata": {},
   "source": [
    "It takes too long to run the KS test with 10,000 seasons, so let's just grab the first 1000."
   ]
  },
  {
   "cell_type": "code",
   "execution_count": 78,
   "metadata": {},
   "outputs": [],
   "source": [
    "# want only first 1000 rows\n",
    "output_np = output_np.iloc[0:1000:,]\n",
    "output_p = output_p.iloc[0:1000:,]"
   ]
  },
  {
   "cell_type": "markdown",
   "metadata": {},
   "source": [
    "Get the actual rainfall values."
   ]
  },
  {
   "cell_type": "code",
   "execution_count": 79,
   "metadata": {},
   "outputs": [],
   "source": [
    "op = pd.melt(output_p)['value'].tolist()\n",
    "onp = pd.melt(output_np)['value'].tolist()"
   ]
  },
  {
   "cell_type": "markdown",
   "metadata": {},
   "source": [
    "Now the two datasets are the same length:"
   ]
  },
  {
   "cell_type": "code",
   "execution_count": 81,
   "metadata": {},
   "outputs": [
    {
     "name": "stdout",
     "output_type": "stream",
     "text": [
      "180000 180000\n"
     ]
    }
   ],
   "source": [
    "print(len(op), len(onp))"
   ]
  },
  {
   "cell_type": "markdown",
   "metadata": {},
   "source": [
    "## Do KS test  <a class=\"anchor\" id=\"part3\"></a>\n",
    "\n",
    "For the KS two sample test, we assume two empirical distributions and then take the difference between the two. The beauty in this test lies the fact that we do not need to know or make any assumptions about the underlying distributions. \n",
    "\n",
    "Notes and code from here: [KS for Two Samples](https://towardsdatascience.com/when-to-use-the-kolmogorov-smirnov-test-dd0b2c8a8f61)\n",
    "\n",
    "In order to compare the two datasets, we need to do the following:\n",
    "1. Order each sample\n",
    "2. Cat into one sorted array\n",
    "3. Compute the observed CDFs of the two samples\n",
    "4. Compute the maximum absolute different, `D_n`\n",
    "5. Compare against `D_crit`"
   ]
  },
  {
   "cell_type": "code",
   "execution_count": 82,
   "metadata": {},
   "outputs": [],
   "source": [
    "# Second method for doing this\n",
    "\n",
    "# sort samples from non-parametric method (sample a)\n",
    "samp_a = np.sort(onp); samp_a\n",
    "\n",
    "# sort samples from original method, exponential (sample b)\n",
    "samp_b = np.sort(op); samp_b\n",
    "\n",
    "#concatenate and sort\n",
    "samp_conc = np.sort(np.concatenate((onp, op)))\n",
    "#print(\"samp_conc:\\n{}\".format(samp_conc))\n",
    "\n",
    "#cdf of sample a\n",
    "samp_a_cdf = [np.round(st.percentileofscore(samp_a, value)/100, 1) for value in samp_conc]\n",
    "#print('samp_a_cdf:\\n{}'.format(samp_a_cdf))\n",
    "#print(20*'-')\n",
    "\n",
    "#cdf of sample b\n",
    "samp_b_cdf = [np.round(st.percentileofscore(samp_b, value)/100, 1) for value in samp_conc]\n",
    "#print('samp_b_cdf:\\n{}'.format(samp_b_cdf))\n",
    "#print(20*'-')\n",
    "\n",
    "#compute absolute difference\n",
    "samp_diff = np.abs(np.subtract(samp_a_cdf, samp_b_cdf))\n",
    "#print('samp_diff:\\n{}'.format(samp_diff))"
   ]
  },
  {
   "cell_type": "markdown",
   "metadata": {},
   "source": [
    "Run the statistics on it. Two-sided KS test: [ks_2samp method](https://docs.scipy.org/doc/scipy/reference/generated/scipy.stats.ks_2samp.html#scipy.stats.ks_2samp) in scipy.\n",
    "\n",
    "Additional info from: https://sites.google.com/a/ucsc.edu/krumholz/teaching-and-courses/ast119_w15/class-10"
   ]
  },
  {
   "cell_type": "code",
   "execution_count": 88,
   "metadata": {},
   "outputs": [
    {
     "data": {
      "text/plain": [
       "Ks_2sampResult(statistic=0.014522222222222214, pvalue=6.527375005960466e-17)"
      ]
     },
     "execution_count": 88,
     "metadata": {},
     "output_type": "execute_result"
    }
   ],
   "source": [
    "# first argument is the dataset, the second is the second dataset\n",
    "st.ks_2samp(op, onp)"
   ]
  },
  {
   "cell_type": "markdown",
   "metadata": {},
   "source": [
    "The `ks_2samp` method returns a tuple: first is D, maximum difference between the CDF of the input data and the model CDF. The second is the p-value, i.e. the probability that if the data was actually drawn from the proposed CDF, then the resulting value of D would have been as/larger than the one we measured\n",
    "\n",
    "E.g., D = 0.0305, p-value 0.3, then 30% of the time we would expect a value of D as large as the one actually got even if the data had been drawn from the proposed distribution. There cannot reject the hypothesis that the data were drawn from the proposed distribution\n",
    "\n",
    "**In this case**, we can reject the null hypothesis since the p-value is well below 1%. Therefore the two datasets come from different distributions. I.e., it is probable that the two distributions are different. \n",
    "\n",
    "There are two options for interpreting the result: 1. Use p-level as level of significant where p < 0.01 is highly significant or 2. Use statistic value given by python and compare it to the [KS-test critical value table](https://sparky.rice.edu//astr360/kstest.pdf) according to sample size. When statistic value is greater than the critical value, then the two distributions are different."
   ]
  },
  {
   "cell_type": "code",
   "execution_count": 90,
   "metadata": {},
   "outputs": [
    {
     "data": {
      "text/plain": [
       "Text(0.5, 1.0, 'KS Goodness of Fit for two methods of simulating rainfall')"
      ]
     },
     "execution_count": 90,
     "metadata": {},
     "output_type": "execute_result"
    },
    {
     "name": "stderr",
     "output_type": "stream",
     "text": [
      "/opt/anaconda3/envs/maize-Toff/lib/python3.8/site-packages/IPython/core/pylabtools.py:132: UserWarning: Creating legend with loc=\"best\" can be slow with large amounts of data.\n",
      "  fig.canvas.print_figure(bytes_io, **kw)\n"
     ]
    },
    {
     "data": {
      "image/png": "[encoded data removed]",
      "text/plain": [
       "<Figure size 432x288 with 1 Axes>"
      ]
     },
     "metadata": {},
     "output_type": "display_data"
    }
   ],
   "source": [
    "# Let's visualize this in a figure\n",
    "\n",
    "x3 = np.linspace(1, 2, 360000)\n",
    "plt.plot(x3, samp_a_cdf, label='Non-parametric data', alpha=0.5)\n",
    "plt.plot(x3, samp_b_cdf, label='Exponential data', alpha=0.5)\n",
    "plt.xlabel('x')\n",
    "plt.ylabel('F(x)')\n",
    "\n",
    "plt.legend()\n",
    "plt.title('KS Goodness of Fit for two methods of simulating rainfall')"
   ]
  }
 ],
 "metadata": {
  "kernelspec": {
   "display_name": "Python 3",
   "language": "python",
   "name": "python3"
  },
  "language_info": {
   "codemirror_mode": {
    "name": "ipython",
    "version": 3
   },
   "file_extension": ".py",
   "mimetype": "text/x-python",
   "name": "python",
   "nbconvert_exporter": "python",
   "pygments_lexer": "ipython3",
   "version": "3.8.2"
  }
 },
 "nbformat": 4,
 "nbformat_minor": 4
}
