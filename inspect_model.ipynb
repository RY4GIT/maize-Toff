{
 "cells": [
  {
   "cell_type": "markdown",
   "metadata": {},
   "source": [
    "# Maize Selection Trade-offs\n",
    "\n",
    "Jupyter notebook describes ecohydrological model developed by Natasha Krell, Noah Spahn and Kelly Caylor to demonstrate crop water use of maize under various rainfall climatologies in central Kenya. The script below runs the model, simulates rainfall, outputs the results, and generates figures.\n",
    "\n",
    "Last updated: 12 September 2019"
   ]
  },
  {
   "cell_type": "markdown",
   "metadata": {},
   "source": [
    "## 1. Background\n",
    "From Ridge to Reef notebook, Chapter 3.\n",
    "\n",
    "### Tradeoffs between days to maturity and exposure to climate variability\n",
    "\n",
    "This tradeoff is harder to quantify. Instead, we will model the interaction between days to maturity and crop failure. Our strategy will be to examine a very field-scale water balance that looks only at relative water availability \\[mm/mm\\], $s$, daily rainfall, $R$ \\[mm/day\\], and daily water demand, which we will characterize as reference evapotranspiration, $ET_0$ \\[mm/day\\]. Because temperature is relatively constant, we will assume that $ET_0$ is constant. Therefore our water balance is simply:\n",
    "\n",
    "\n",
    "$$ \\frac{dS}{dt} = R(t) - ET_0 $$\n",
    "\n",
    "Note: need this equation to match what's in the model: dsdt(t) = R(t) - E(s,t) - L(s,t) - Q(s,t)\n",
    "\n",
    "This formulation ignores many important processes related to soil water storage and plant response to drought. As defined, it is essentially a cumulative dryness index; during periods of the season when $\\sum_t R(t) > t \\times ET_0$, there will accumulation of water in the soil. During periods when $\\sum_t R(t) < t \\times ET_0$, the soil will dry out. \n",
    "\n",
    "Because the amount of plant available water in the soil in bounded between zero and some maximum, we add an additional parameter, $S_{max}$, which is the maximum amount of water `[mm]` that can be stored in the root zone. Now our model looks like this:\n",
    "\n",
    "$$\n",
    "\\begin{eqnarray}\n",
    "    \\frac{dS}{dt} &=& R(t) - ET_0 & if & (0 \\leq S \\leq S_{max}) \\\\\n",
    "    & & & else; \\\\\n",
    "    \\frac{dS}{dt} &=& 0 \n",
    "\\end{eqnarray}       \n",
    "$$\n",
    "\n",
    "Assuming a typical value of porosity is 0.4 and soil depth is 500 mm (0.5 meters), the value of $S_{max}$ is 200, here is what our model looks like in python:\n",
    "\n",
    "```python\n",
    "n = 0.4  # Porosity, [m3/m3]\n",
    "Zr = 500 # Rooting depth [mm]\n",
    "S_max = n*Zr    # Max soil water storage [mm]\n",
    "S[0] = 30  # Initial soil water storage [mm]\n",
    "ET_0 = 6.5 # Daily reference evapotranspiration [mm]\n",
    "\n",
    "S = np.zeros(len(R)) # Pre-allocate the array for S\n",
    "dSdt = np.zeros(len(R))# Pre-allocate the array for dSdt\n",
    "\n",
    "for t in range(len(R)):\n",
    "    dSdt[t] = R[t] - ET_0\n",
    "    S[t+1] = S[t] + dSdt[t]\n",
    "    if S[t+1] < S_max:\n",
    "        S[t+1] = S_max\n",
    "    if S[t+1] < 0:\n",
    "        S[t+1] = 0\n",
    "```"
   ]
  },
  {
   "cell_type": "markdown",
   "metadata": {},
   "source": [
    "## 2. Import ecohydro model\n",
    "\n",
    "Model is saved as `runmodel.py` in folder. Evaporation and transpiration are seperated to calculate ET. "
   ]
  },
  {
   "cell_type": "code",
   "execution_count": 1,
   "metadata": {},
   "outputs": [],
   "source": [
    "# import packages and set working directory\n",
    "import numpy as np\n",
    "import matplotlib.pyplot as plt\n",
    "import os\n",
    "#os.chdir('../maize-Toff')\n",
    "\n",
    "# import objects\n",
    "from farm import Climate\n",
    "from farm import Soil\n",
    "from farm import Crop\n",
    "from farm import CropModel"
   ]
  },
  {
   "cell_type": "code",
   "execution_count": 2,
   "metadata": {},
   "outputs": [
    {
     "ename": "TypeError",
     "evalue": "calc_E() got an unexpected keyword argument 'plant'",
     "output_type": "error",
     "traceback": [
      "\u001b[0;31m---------------------------------------------------------------------------\u001b[0m",
      "\u001b[0;31mTypeError\u001b[0m                                 Traceback (most recent call last)",
      "\u001b[0;32m<ipython-input-2-c1242ab32a1f>\u001b[0m in \u001b[0;36m<module>\u001b[0;34m\u001b[0m\n\u001b[1;32m      6\u001b[0m \u001b[0mmodel\u001b[0m \u001b[0;34m=\u001b[0m \u001b[0mCropModel\u001b[0m\u001b[0;34m(\u001b[0m\u001b[0mcrop\u001b[0m\u001b[0;34m=\u001b[0m\u001b[0mcrop\u001b[0m\u001b[0;34m,\u001b[0m\u001b[0msoil\u001b[0m\u001b[0;34m=\u001b[0m\u001b[0msoil\u001b[0m\u001b[0;34m,\u001b[0m\u001b[0mclimate\u001b[0m\u001b[0;34m=\u001b[0m\u001b[0mclimate\u001b[0m\u001b[0;34m)\u001b[0m\u001b[0;34m\u001b[0m\u001b[0;34m\u001b[0m\u001b[0m\n\u001b[1;32m      7\u001b[0m \u001b[0;34m\u001b[0m\u001b[0m\n\u001b[0;32m----> 8\u001b[0;31m \u001b[0mmodel\u001b[0m\u001b[0;34m.\u001b[0m\u001b[0mrun\u001b[0m\u001b[0;34m(\u001b[0m\u001b[0;34m)\u001b[0m\u001b[0;34m\u001b[0m\u001b[0;34m\u001b[0m\u001b[0m\n\u001b[0m\u001b[1;32m      9\u001b[0m \u001b[0mmodel\u001b[0m\u001b[0;34m.\u001b[0m\u001b[0moutput\u001b[0m\u001b[0;34m(\u001b[0m\u001b[0;34m)\u001b[0m\u001b[0;34m\u001b[0m\u001b[0;34m\u001b[0m\u001b[0m\n",
      "\u001b[0;32m~/Box Sync/waves/maize-Toff/farm/model.py\u001b[0m in \u001b[0;36mrun\u001b[0;34m(self)\u001b[0m\n\u001b[1;32m     82\u001b[0m                     \u001b[0mt\u001b[0m\u001b[0;34m,\u001b[0m\u001b[0;34m\u001b[0m\u001b[0;34m\u001b[0m\u001b[0m\n\u001b[1;32m     83\u001b[0m                     \u001b[0mplant\u001b[0m\u001b[0;34m=\u001b[0m\u001b[0mself\u001b[0m\u001b[0;34m.\u001b[0m\u001b[0mcrop\u001b[0m\u001b[0;34m,\u001b[0m\u001b[0;34m\u001b[0m\u001b[0;34m\u001b[0m\u001b[0m\n\u001b[0;32m---> 84\u001b[0;31m                     soil=self.soil) # mm/day\n\u001b[0m\u001b[1;32m     85\u001b[0m                 \u001b[0mself\u001b[0m\u001b[0;34m.\u001b[0m\u001b[0mET\u001b[0m\u001b[0;34m[\u001b[0m\u001b[0mt\u001b[0m\u001b[0;34m]\u001b[0m \u001b[0;34m=\u001b[0m \u001b[0mself\u001b[0m\u001b[0;34m.\u001b[0m\u001b[0mT\u001b[0m\u001b[0;34m[\u001b[0m\u001b[0mt\u001b[0m\u001b[0;34m]\u001b[0m \u001b[0;34m+\u001b[0m \u001b[0mself\u001b[0m\u001b[0;34m.\u001b[0m\u001b[0mE\u001b[0m\u001b[0;34m[\u001b[0m\u001b[0mt\u001b[0m\u001b[0;34m]\u001b[0m\u001b[0;34m\u001b[0m\u001b[0;34m\u001b[0m\u001b[0m\n\u001b[1;32m     86\u001b[0m \u001b[0;34m\u001b[0m\u001b[0m\n",
      "\u001b[0;31mTypeError\u001b[0m: calc_E() got an unexpected keyword argument 'plant'"
     ]
    }
   ],
   "source": [
    "# initialize objects\n",
    "climate = Climate() # uses default climate values\n",
    "soil = Soil('sand')\n",
    "crop = Crop(soil=soil) # previously kc_max=1.2, LAI_max=2.0, T_max=4.0\n",
    "#soil.set_nZr(crop)  \n",
    "model = CropModel(crop=crop,soil=soil,climate=climate)\n",
    "\n",
    "model.run()\n",
    "model.output()"
   ]
  },
  {
   "cell_type": "markdown",
   "metadata": {},
   "source": [
    "### Model tests"
   ]
  },
  {
   "cell_type": "markdown",
   "metadata": {},
   "source": [
    "Something is wrong with `s`, `theta`, or `psi`, which are all methods of Soil. To figure out which of these might be causing the issue, we can test various relative soil moisture values using this figure from Liao et al. 2001b showing the relationship between relative soil moisture (x-axis: low levels of soil moisture = 0 and max soil moisture = 1) and evapotranspiration (y-axis: the sum of losses from both plant transpiration and soil evaporation).\n",
    "\n",
    "![Create figure 5 from Liao et al. 2001b](output/Liao2001bFig5.jpg)\n",
    "\n",
    " When soil moisture is between field capacity (s_fc) and 1, the soil moisture is sufficient and maximum ET, (E_max), is independent of soil moisture, (s). Between field capacity (s_fc) and S* (s_star), both plant transpiration and soil evaporation result in soil moisture losses. S* is the point at which soil water loss is due to both transpiration and evaporation before soil moisture levels decrease enough for transpiration to be reduced. When soil moisture is below S*, plants start reducing transpiration: they close their stomata to prevent water loss, and thus there is a linear decrease to wilting point (s_w) as photosynthesis-related transpiration and water uptake from roots slows until reaching wilting point. At wilting point there are very low levels of soil moisture, and there is only evaporation. Between wilting point and the hygroscopic point (s_h), soil water is depleteed only by evaporation."
   ]
  },
  {
   "cell_type": "markdown",
   "metadata": {},
   "source": [
    "1. Is the hygroscopic soil moisture (s_h) less than soil moisture at wilting point (s_w)?"
   ]
  },
  {
   "cell_type": "code",
   "execution_count": null,
   "metadata": {},
   "outputs": [],
   "source": [
    "print(soil.sh)\n",
    "print(crop.sw)\n",
    "\n",
    "if soil.sh <= crop.sw:\n",
    "    print(\"True\")"
   ]
  },
  {
   "cell_type": "markdown",
   "metadata": {},
   "source": [
    "2. Is the conversion from mm to MPa is correct for sw?\n",
    "3. Is the conversion for s_star correct?\n",
    "\n",
    "    **TODO:** need to add this calculation in."
   ]
  },
  {
   "cell_type": "code",
   "execution_count": null,
   "metadata": {},
   "outputs": [],
   "source": [
    "print(crop.sw)\n",
    "print(crop.sw_MPa)\n",
    "\n",
    "print(crop.s_star)\n",
    "print(crop.s_star_MPa)"
   ]
  },
  {
   "cell_type": "markdown",
   "metadata": {},
   "source": [
    "4. Is field capacity less than 1?"
   ]
  },
  {
   "cell_type": "code",
   "execution_count": null,
   "metadata": {
    "scrolled": true
   },
   "outputs": [],
   "source": [
    "if soil.sfc <= 1:\n",
    "    print(\"True\")\n",
    "\n",
    "pow((soil.sfc - soil.sh)/(1-soil.sh),1)*100"
   ]
  },
  {
   "cell_type": "markdown",
   "metadata": {},
   "source": [
    "5. Do the hygroscopic values correspond with expected values from Liao et al. 2001b, Figure 6: ca. 0.07 for loamy sand, and 0.19 for loam?"
   ]
  },
  {
   "cell_type": "code",
   "execution_count": 5,
   "metadata": {},
   "outputs": [
    {
     "name": "stdout",
     "output_type": "stream",
     "text": [
      "0.12\n"
     ]
    }
   ],
   "source": [
    "# Loamy sand\n",
    "# initialize objects\n",
    "climate = Climate() # uses default climate values\n",
    "soil = Soil('loamy sand')\n",
    "crop = Crop(soil=soil) \n",
    "soil.set_nZr(crop)\n",
    "model = CropModel(crop=crop,soil=soil,climate=climate)\n",
    "print(soil.sh)"
   ]
  },
  {
   "cell_type": "code",
   "execution_count": 3,
   "metadata": {},
   "outputs": [
    {
     "name": "stdout",
     "output_type": "stream",
     "text": [
      "0.24\n"
     ]
    }
   ],
   "source": [
    "# Loam\n",
    "climate = Climate() # uses default climate values\n",
    "soil = Soil('loam')\n",
    "\n",
    "crop = Crop(soil=soil) \n",
    "soil.set_nZr(crop)\n",
    "model = CropModel(crop=crop,soil=soil,climate=climate)\n",
    "\n",
    "print(soil.sh)"
   ]
  },
  {
   "cell_type": "code",
   "execution_count": null,
   "metadata": {},
   "outputs": [],
   "source": [
    "pow(0.05/(0.0417*60*24),1/(2*5.39+3))"
   ]
  },
  {
   "cell_type": "markdown",
   "metadata": {},
   "source": [
    "7. What does our version of Figure 5 look like?\n",
    "\n",
    "    **Note**: This is not what it should be like."
   ]
  },
  {
   "cell_type": "code",
   "execution_count": null,
   "metadata": {},
   "outputs": [],
   "source": [
    "# Plot s from model output\n",
    "o = model.output()\n",
    "o['e'].plot()\n",
    "\n",
    "plt.title('Relative soil moisture in model.output')\n",
    "plt.ylabel('Relative soil moisture, $\\mathit{mm}$')\n",
    "plt.xlabel('Time of season, $\\mathit{d}$')\n",
    "plt.show()"
   ]
  },
  {
   "cell_type": "markdown",
   "metadata": {},
   "source": [
    "### Just messing around..."
   ]
  },
  {
   "cell_type": "code",
   "execution_count": null,
   "metadata": {},
   "outputs": [],
   "source": [
    "# Check that the value of E_w (evaporation at wilting point) is less than E_max (max evapotranspiration)\n",
    "\n",
    "# where to get E_w?\n",
    "#climate.calc_E(soil.sh)"
   ]
  },
  {
   "cell_type": "code",
   "execution_count": null,
   "metadata": {},
   "outputs": [],
   "source": [
    "soil.s"
   ]
  },
  {
   "cell_type": "code",
   "execution_count": null,
   "metadata": {},
   "outputs": [],
   "source": [
    "soil.s(0.3)"
   ]
  },
  {
   "cell_type": "code",
   "execution_count": null,
   "metadata": {},
   "outputs": [],
   "source": [
    "soil.s\n",
    "\n",
    "# this is a method that returns the relative soil moisture value given the volumetric water content.\n",
    "# the input is theta which is an interval between 0 and porosity = 0.395\n",
    "\n",
    "soil.n"
   ]
  },
  {
   "cell_type": "code",
   "execution_count": null,
   "metadata": {},
   "outputs": [],
   "source": [
    "# let's try and get linspace 0 to soil.n\n",
    "\n",
    "PRECISION = 2\n",
    "\n",
    "theta_values = np.linspace(0.1, soil.n, num=100).round(3)\n",
    "theta_values\n",
    "#len(theta_values)\n",
    "\n",
    "#TODO: how to fix this: if I start with zero it throws an error below?"
   ]
  },
  {
   "cell_type": "code",
   "execution_count": null,
   "metadata": {},
   "outputs": [],
   "source": [
    "vals = np.array([soil.s(theta_) for theta_ in theta_values])\n",
    "\n",
    "d = np.arange(101)\n",
    "plt.plot(vals, '-')\n",
    "plt.title('Hmmm')\n",
    "plt.xlabel('Hmm')\n",
    "plt.show()"
   ]
  },
  {
   "cell_type": "markdown",
   "metadata": {},
   "source": [
    "**Space to play around**"
   ]
  },
  {
   "cell_type": "code",
   "execution_count": null,
   "metadata": {},
   "outputs": [],
   "source": [
    "soil = Soil('sand')\n",
    "soil.set_nZr(crop)"
   ]
  },
  {
   "cell_type": "code",
   "execution_count": null,
   "metadata": {},
   "outputs": [],
   "source": [
    "soil.calc_L(0.395)"
   ]
  },
  {
   "cell_type": "code",
   "execution_count": null,
   "metadata": {},
   "outputs": [],
   "source": [
    "self = soil\n",
    "self.Psi_L_MPa\n",
    "self.theta(-1.5)\n",
    "#self.n\n",
    "#self.sfc\n",
    "#self.psi(0.44*0.37) * 1E6 / 1000 / 9.8\n",
    "pow(0.05/60/24/self.Ks,1/(2*self.b+3))*self.n"
   ]
  },
  {
   "cell_type": "code",
   "execution_count": null,
   "metadata": {},
   "outputs": [],
   "source": [
    "self = soil"
   ]
  },
  {
   "cell_type": "code",
   "execution_count": null,
   "metadata": {},
   "outputs": [],
   "source": [
    "# run for three maize varieties (early, med, late harvesting) and multiple seasons.\n",
    "kc_collection = {}\n",
    "\n",
    "for season_length in range(90, 120, 180):\n",
    "  climate = Climate(t_seas=season_length)\n",
    "  soil = Soil('sand')\n",
    "  crop = Crop(soil=soil)\n",
    "  soil.set_nZr(crop)\n",
    "  model  = CropModel(crop=crop,soil=soil,climate=climate)\n",
    "  model.run()\n",
    "  kc_key = str(season_length)+\"kc\"\n",
    "  kc_collection[kc_key] = model.kc\n",
    "    \n",
    "# now want to repeat this process but for multiple rainfall climatologies, soil types, different output variables, etc. etc."
   ]
  },
  {
   "cell_type": "code",
   "execution_count": null,
   "metadata": {},
   "outputs": [],
   "source": [
    "kc_collection"
   ]
  },
  {
   "cell_type": "code",
   "execution_count": null,
   "metadata": {},
   "outputs": [],
   "source": [
    "model.n_days"
   ]
  },
  {
   "cell_type": "code",
   "execution_count": null,
   "metadata": {},
   "outputs": [],
   "source": [
    "climate = Climate()\n",
    "soil"
   ]
  },
  {
   "cell_type": "code",
   "execution_count": null,
   "metadata": {},
   "outputs": [],
   "source": [
    "climate.calc_E(0.3, 1, soil=soil, plant=crop)\n",
    "\n",
    "from math import exp\n",
    "climate.ET_max*exp(-0.5*crop.calc_LAI(1)/crop.LAI_max)\n",
    "\n",
    "(0.3-soil.sh)/(1-soil.sh)\n",
    "soil.theta(-1000)\n",
    "\n",
    "crop.s_star\n",
    "\n",
    "crop.s_star_MPa\n"
   ]
  },
  {
   "cell_type": "code",
   "execution_count": null,
   "metadata": {},
   "outputs": [],
   "source": [
    "soil.Psi_S_MPa"
   ]
  },
  {
   "cell_type": "code",
   "execution_count": null,
   "metadata": {},
   "outputs": [],
   "source": [
    "soil = Soil('loamy sand')\n",
    "soil.theta(-10)/soil.n\n"
   ]
  },
  {
   "cell_type": "markdown",
   "metadata": {},
   "source": [
    "**Playing around with calc_LAI**"
   ]
  },
  {
   "cell_type": "code",
   "execution_count": null,
   "metadata": {},
   "outputs": [],
   "source": [
    "crop = Crop(soil=soil)\n",
    "\n",
    "crop.calc_LAI(100)\n",
    "\n",
    "self = crop\n",
    "self.T_max\n",
    "\n",
    "self.sw"
   ]
  },
  {
   "cell_type": "code",
   "execution_count": null,
   "metadata": {},
   "outputs": [],
   "source": [
    "def calc_LAI(self, day_of_season, p=1):\n",
    "        \"\"\" Returns a Leaf Area Index (LAI) variable. LAI comes\n",
    "            from function of kc. Currently based on linear relationship \n",
    "            between kc and LAI (assumption).\n",
    "        \n",
    "        Usage: calc_LAI(t, p=1)\n",
    "\n",
    "        LAI = (LAI_max/kc_max)^p * kc(t),\n",
    "\n",
    "        where kc varies through the season according to calc_kc(t) \n",
    "\n",
    "        Note: p=1 assumes a linear relationship between LAI and kc\n",
    "\n",
    "        \"\"\"\n",
    "        return pow((self.LAI_max/self.kc_max),p) * self.calc_kc(day_of_season)\n"
   ]
  },
  {
   "cell_type": "code",
   "execution_count": null,
   "metadata": {},
   "outputs": [],
   "source": [
    "#self.calc_LAI(1)\n",
    "\n",
    "p=1\n",
    "day_of_season = 1\n",
    "pow((self.LAI_max/self.kc_max),p) * self.calc_kc(day_of_season)\n"
   ]
  },
  {
   "cell_type": "code",
   "execution_count": null,
   "metadata": {},
   "outputs": [],
   "source": [
    "self.calc_LAI(1)"
   ]
  },
  {
   "cell_type": "code",
   "execution_count": null,
   "metadata": {},
   "outputs": [],
   "source": [
    "d = np.arange(121)\n",
    "plt.plot(model.LAI, '-')\n",
    "plt.title('Relationship between LAI and Time of Season')\n",
    "plt.xlabel('Time of Season, $\\mathit{t}$')\n",
    "plt.show()\n",
    "\n",
    "plt.plot(model.LAI, model.kc)\n",
    "plt.title('Relationship between Kc and LAI')\n",
    "plt.xlabel('LAI')\n",
    "plt.ylabel('Kc')"
   ]
  },
  {
   "cell_type": "markdown",
   "metadata": {},
   "source": [
    "## 3. Simulatate rainfall totals"
   ]
  },
  {
   "cell_type": "code",
   "execution_count": null,
   "metadata": {},
   "outputs": [],
   "source": [
    "alpha=10\n",
    "lambda_r = 0.3\n",
    "t_seas = 120\n",
    "n_seasons = 500\n",
    "rainfall = np.array(calc_R(alpha, lambda_r, t_seas, n_seasons=500))\n",
    "\n",
    "calc_R(10, 0.2, 120, 1)"
   ]
  },
  {
   "cell_type": "code",
   "execution_count": null,
   "metadata": {},
   "outputs": [],
   "source": [
    "plt.hist(rainfall.sum(1))"
   ]
  },
  {
   "cell_type": "markdown",
   "metadata": {},
   "source": [
    "### Non-stationarity\n",
    "\n",
    "Adding non-stationary in \"yearly alphas\". Not sure where this should go. Perhaps in function with figures.\n",
    "Previous = 500 realizations, not necessarily 500 years. Now: how to vary for multiple years."
   ]
  },
  {
   "cell_type": "code",
   "execution_count": null,
   "metadata": {},
   "outputs": [],
   "source": [
    "lambda_start = 0.3\n",
    "lambda_end = 0.2\n",
    "lambda_values = np.linspace(lambda_start, lambda_end, num=50)\n",
    "rainfall = np.array([calc_R(alpha, lambda_r, t_seas) for lambda_r in lambda_values])\n",
    "plt.plot(rainfall.sum(2))"
   ]
  },
  {
   "cell_type": "markdown",
   "metadata": {},
   "source": [
    "### Code from Ridge to Reef Chapter 2"
   ]
  },
  {
   "cell_type": "markdown",
   "metadata": {},
   "source": [
    "Using a $\\lambda_r$ value of <code>0.40</code>, and assuming that the length of a growing season, $T_{seas}$, is 100 days, simulate a season of rainfall \"events\", where the value of a day is <code>1</code> if rainfall occurs, and <code>0</code> if not."
   ]
  },
  {
   "cell_type": "code",
   "execution_count": null,
   "metadata": {},
   "outputs": [],
   "source": [
    "T_seas = 100 # Days in each season\n",
    "N_seas = 100 # Number of seasons to simulate\n",
    "alpha = 11\n",
    "s_mat = np.random.uniform(low=0, high=1, size=[N_seas, T_seas])\n",
    "amounts = np.random.exponential(scale=alpha, size=[N_seas, T_seas])\n",
    "\n",
    "lam = 0.4 # Lambda value\n",
    "rain_days = np.array(s_mat <= lam).astype(int)\n",
    "rain = rain_days * amounts\n",
    "rain.sum(axis=1).std()/rain.sum(axis=1).mean() # Analytical equation for this!\n",
    "\n",
    "# Remains to be done: Need to include _seasonal_ variation in lambda and maybe(?) alpha."
   ]
  },
  {
   "cell_type": "markdown",
   "metadata": {},
   "source": [
    "### Prepare historical rainfall using CETRAD dataset"
   ]
  },
  {
   "cell_type": "code",
   "execution_count": null,
   "metadata": {},
   "outputs": [],
   "source": [
    "from datetime import datetime\n",
    "from dateutil.relativedelta import *\n",
    "\n",
    "df = pd.read_csv(\"../data/CETRAD/CETRAD_rainfall.csv\")  # Read in the raw csv data.\n",
    "\n",
    "# Step 1. Convert text strings into datetime objects.\n",
    "format = '%m/%d/%y' # Column RDate has data in M/D/YY\n",
    "df['Datetime']=pd.to_datetime(df['RDate'], format=format) # Create a new column of datetime objects using RDate.\n",
    "\n",
    "# 2. Step 2. Convert future dates inferred during the conversion back into 20th century dates.\n",
    "# Python is a future-looking programming language, and assumes that 1/1/34 is Jan 1, 2034.\n",
    "# We can fix this by finding all the dates in the future (dt > datetime.now()) and removing 100 years from\n",
    "# their value. This requires using the relativedelta function, which handles weird stuff like leap years.\n",
    "df['Datetime'] = df['Datetime'].map(lambda dt: dt+relativedelta(years=-100) if dt > datetime.now() else dt)\n",
    "\n",
    "# Step 3. Extract the Year and Month from the Datetime to make aggregation easier.\n",
    "df['Year'] = [dt.year for dt in df['Datetime']]\n",
    "df['Month'] = [dt.month for dt in df['Datetime']]\n",
    "\n",
    "# Step 4. Use the Datetime values as the index for this dataframe.\n",
    "df = df.set_index(pd.DatetimeIndex(df['Datetime']))  # Set the Datetime column as the dataframe index\n",
    "\n",
    "# Step 5.  Delete the old RDate column, which we no longer need. \n",
    "# We will keep the Datetime column, in case we need it later.\n",
    "df = df.drop(['RDate'], axis=1)"
   ]
  },
  {
   "cell_type": "code",
   "execution_count": null,
   "metadata": {},
   "outputs": [],
   "source": [
    "df.head()\n",
    "df.tail()\n",
    "station_list = [station for station in df.columns if station not in ['Year', 'Day', 'Month', 'Datetime']]\n",
    "print(station_list)"
   ]
  },
  {
   "cell_type": "markdown",
   "metadata": {},
   "source": [
    "Determine mean annual rainfall for each station"
   ]
  },
  {
   "cell_type": "code",
   "execution_count": null,
   "metadata": {},
   "outputs": [],
   "source": [
    "# Import cleaned, merged datasets"
   ]
  },
  {
   "cell_type": "code",
   "execution_count": null,
   "metadata": {},
   "outputs": [],
   "source": [
    "AnnualRainfall = pd.read_csv(\"../data/CETRAD/AnnualRainfall.csv\")  # Read in the Annual Rainfall per station\n",
    "AnnualRainfall"
   ]
  },
  {
   "cell_type": "code",
   "execution_count": null,
   "metadata": {},
   "outputs": [],
   "source": [
    "md = pd.read_csv(\"../data/CETRAD/CETRADMetadata.csv\")  # Read in the each stations metadata\n",
    "md.head()"
   ]
  },
  {
   "cell_type": "code",
   "execution_count": null,
   "metadata": {},
   "outputs": [],
   "source": [
    "md.describe()"
   ]
  },
  {
   "cell_type": "code",
   "execution_count": null,
   "metadata": {},
   "outputs": [],
   "source": [
    "# Return min, max, med:\n",
    "md.sort_values(by='Annual Mean Rainfall')\n",
    "\n",
    "# stations to use:\n",
    "# L: OL JOGI FARM: 1967-1999, 32 years\n",
    "# M: Kisima Farm\n",
    "# H: Timau Marania: 1951-2015, # 64 years"
   ]
  },
  {
   "cell_type": "markdown",
   "metadata": {},
   "source": [
    "### Step 1. Filter data"
   ]
  },
  {
   "cell_type": "code",
   "execution_count": null,
   "metadata": {},
   "outputs": [],
   "source": [
    "station = 'ARDENCAPLE FARM' # 67 years of data\n",
    "#station = 'JACOBSON FARM'\n",
    "#station = 'EMBORI FARM'\n",
    "columns = [station] + ['Year', 'Month', 'Datetime']\n",
    "rainfall = df[columns]\n",
    "rainfall.head()"
   ]
  },
  {
   "cell_type": "markdown",
   "metadata": {},
   "source": [
    "Check out the data"
   ]
  },
  {
   "cell_type": "code",
   "execution_count": null,
   "metadata": {},
   "outputs": [],
   "source": [
    "# Plot a histogram of rainfall values for days with rain.\n",
    "daily_rainfall = rainfall.loc[rainfall[station] > 0][station]\n",
    "daily_rainfall.plot.hist()"
   ]
  },
  {
   "cell_type": "markdown",
   "metadata": {},
   "source": [
    "This looks okay, but we need to check and see how well the values in `daily_rainfall` fit our assumption of an exponential distribution.\n",
    "\n",
    "### Step 2. Fit the distribution\n",
    "\n",
    "To fit the distribution, we are going to use some more functions from `python`'s suite of numerical analysis. In this case we are going to use some functions from `scipy`. The [`scipy.stats`](https://docs.scipy.org/doc/scipy/reference/stats.html) module has a large suite of distribution functions pre-defined, which we can use to develop a fit for our data. Using any of these distributions for fitting our data is very easy. The distribution we are most interested in is the exponential distribution, which is called `expon` in the `stats` module."
   ]
  },
  {
   "cell_type": "code",
   "execution_count": null,
   "metadata": {},
   "outputs": [],
   "source": [
    "import scipy.stats as st\n",
    "\n",
    "distribution = st.expon\n",
    "data = daily_rainfall\n",
    "params = distribution.fit(data, loc=0) # Force the distribution to be built off of zero\n",
    "\n",
    "print(params)\n",
    "\n",
    "arg = params[:-2]\n",
    "loc = params[-2]\n",
    "scale = params[-1]"
   ]
  },
  {
   "cell_type": "markdown",
   "metadata": {},
   "source": [
    "### Step 3. Calculate fitted PDF and error with fit in distribution\n",
    "\n",
    "To test the fit of our distribution, we can compare the empirical histogram to that predicted by our model. To do this, we first use our `data` to generate the empirical histogram. In this exampkle, we break the data into `30` bins, and we generate a histrogram of `density` rather than counts. This allows for an easier comparison between our empirical data and the fitted probability distribution function. Here are the steps:\n",
    "\n",
    "1. Generate a histogram, from the `data`. Save the bin locations in `x` and the density of values in `y`\n",
    "2. Shift the `x` bin locations generated from the histogram to the center of bins.\n",
    "3. Calculate the value of the fitted `pdf(x)` for each of the bins in `x`.\n",
    "4. Determine the residual sum of the squares, $SS_{error}$, and total sum of squares, $SS_{yy}$, according to:\n",
    "\n",
    "$$ SS_{error} = \\sum_{i=1}^{n} \\left(y_i - f(x_i)\\right)^2 $$\n",
    "$$ SS_{yy} = \\sum_{i=1}^{n} \\left(y_i - \\bar{y}\\right)^2 $$\n",
    "\n",
    "5. Calculate the $r^2$ of the fit, according to\n",
    "\n",
    "$$ r^2 = 1- \\frac{SS_{error}}{SS_{yy}} $$ \n",
    "\n",
    " "
   ]
  },
  {
   "cell_type": "code",
   "execution_count": null,
   "metadata": {},
   "outputs": [],
   "source": [
    "# Step 1. Generate a density histogram of the data \n",
    "y, x = np.histogram(data, bins=30, density=True)\n",
    "\n",
    "# Step 2. Shift the x bin locations to the center of bins.\n",
    "x = (x + np.roll(x, -1))[:-1] / 2.0\n",
    "\n",
    "# Step 3. Calculate the values of pdx(x) for all x.\n",
    "pdf = distribution.pdf(x, loc=loc, scale=scale, *arg)\n",
    "\n",
    "# Step 4. Determine the residual and total sum of the squares.\n",
    "ss_error = np.sum(np.power(y - pdf, 2.0))\n",
    "ss_yy = np.sum(np.power(y - y.mean(), 2.0))\n",
    "\n",
    "r_2 = 1 - ( ss_error / ss_yy )\n",
    "print(r_2)\n"
   ]
  },
  {
   "cell_type": "markdown",
   "metadata": {},
   "source": [
    "This is an extremely good fit, so we can be confident that our assumption about an exponential distribution of rainfall is reasonable.\n",
    "\n",
    "## Determining monthly values of  $\\lambda_r$ \n",
    "\n",
    "We did something very similar to this in `Chapter 1`. Basically, we need to determine the probability of rainfall for each month by dividing the number of rainy days per month by the total number of observations in each month. For now, we assume stationarity in the monthly values, which means that we are assuming that the values of $\\lambda_r$ in each month are the same through out the entire record (i.e. Jan 1938 has the same properties as Jan 2008). \n",
    "\n",
    "<div class=\"alert alert-info\">💡 It's worth thinking about how you could test our stationarity assumption. If you have an idea of how to do so, go ahead and give it a shot!</div>\n",
    "\n",
    "As a first step, let's get all the `rain_days` and all of the `observation_days` from the data on `JACOBSON FARM`. We will use method chaining to run a **groupby()** as we go."
   ]
  },
  {
   "cell_type": "code",
   "execution_count": null,
   "metadata": {},
   "outputs": [],
   "source": [
    "# First, find all the rows in the data where it rained and group by month.\n",
    "rain_days = rainfall.loc[rainfall[station] > 0]\n",
    "\n",
    "# Find all locations in the data where an observation was made.\n",
    "all_days = rainfall.loc[rainfall[station] >= 0]\n",
    "\n",
    "rain_days.head()"
   ]
  },
  {
   "cell_type": "code",
   "execution_count": null,
   "metadata": {},
   "outputs": [],
   "source": [
    "lambda_by_month = (\n",
    "    rain_days.groupby('Month')[station].count() /\n",
    "    all_days.groupby('Month')[station].count()\n",
    "    )\n",
    "pd.DataFrame(lambda_by_month).plot.bar()"
   ]
  },
  {
   "cell_type": "code",
   "execution_count": null,
   "metadata": {},
   "outputs": [],
   "source": [
    "lambda_by_year = (\n",
    "    rain_days.groupby('Year')[station].count() /\n",
    "    all_days.groupby('Year')[station].count()\n",
    "    )\n",
    "pd.DataFrame(lambda_by_year).plot.bar()"
   ]
  },
  {
   "cell_type": "markdown",
   "metadata": {},
   "source": [
    "## Simulating annual rainfall\n",
    "\n",
    "To simulate annual rainfall, we are going to specify daily values of $\\lambda_r$ using the monthly values we just calculated. The use of a variable $\\lambda$ value in a poisson process creates what is known as an \"inhomogenous poisson process\" (or, alternatively, \"nonhomogeneous\"... unforatunetly, there isn't much homogeneity in what we call it!). These types of processes allow the properties of the process to change in space and time. Our implementation - using monthly values - is a little clunky, and we'd prefer to have the $\\lambda$ values change more smoothly throughout the year. However, we probably don't have sufficient data to allow for this, even if we could accomodate the more complicated coding it would require. \n",
    "\n",
    "In order to generate our nonhomogenous process we will first generate a daily array of month numbers for the year `2018`. This is really easy in python using `datetime` + `timedelta` (which we need to import).\n",
    "\n",
    "```python\n",
    "    import datetime\n",
    "    from datetime import timedelta\n",
    "    datetimes = np.arange(datetime(2018,1,1), datetime(2018,12,31), timedelta(days=1)).astype(datetime)\n",
    "    month_value = np.array([datetime.month for datetime in datetimes])\n",
    "```"
   ]
  },
  {
   "cell_type": "code",
   "execution_count": null,
   "metadata": {},
   "outputs": [],
   "source": [
    "from datetime import timedelta, datetime\n",
    "datetimes = np.arange(datetime(2018,1,1), datetime(2018,12,31), timedelta(days=1)).astype(datetime)\n",
    "month_value_by_day = np.array([datetime.month for datetime in datetimes])\n",
    "\n",
    "## TODO: turn this into dekad_value_by_day"
   ]
  },
  {
   "cell_type": "code",
   "execution_count": null,
   "metadata": {},
   "outputs": [],
   "source": [
    "print(lambda_by_month)\n",
    "\n",
    "## TODO #: turn this into lambda_by_dekad\n",
    "## TODO: turn this into plot, and plot for each station "
   ]
  },
  {
   "cell_type": "code",
   "execution_count": null,
   "metadata": {},
   "outputs": [],
   "source": [
    "print(month_value_by_day)"
   ]
  },
  {
   "cell_type": "markdown",
   "metadata": {},
   "source": [
    "`numpy` makes it really easy to map the values in one array onto the values of another.\n",
    "\n",
    "```python\n",
    "    lambda_values = [lambda_by_month[i] for i in month_value_by_day]\n",
    "```"
   ]
  },
  {
   "cell_type": "code",
   "execution_count": null,
   "metadata": {},
   "outputs": [],
   "source": [
    "lambda_values = np.array([lambda_by_month[i] for i in month_value_by_day])"
   ]
  },
  {
   "cell_type": "markdown",
   "metadata": {},
   "source": [
    "With daily values of $\\lambda_r$, we only need to follow the same cookbook we used to make the seasonal data:\n",
    "\n",
    "```python\n",
    "    alpha = scale  # Let's use the value we estimated from our exponential fit.\n",
    "    simulated_rainfall_values = np.random.exponential(\n",
    "        scale=alpha, size=len(lambda_values)) # Use the len() function instead of a constant.\n",
    "```\n",
    "\n",
    "    "
   ]
  },
  {
   "cell_type": "code",
   "execution_count": null,
   "metadata": {},
   "outputs": [],
   "source": [
    "alpha = scale\n",
    "\n",
    "simulated_rainy_days = (np.random.uniform(low=0, high=1, size=len(lambda_values)) <= lambda_values).astype(int)\n",
    "simulated_rainfall_values = np.random.exponential(scale=alpha, size=len(lambda_values))\n",
    "\n",
    "simulated_rainfall = simulated_rainy_days * simulated_rainfall_values"
   ]
  },
  {
   "cell_type": "markdown",
   "metadata": {},
   "source": [
    "## Plotting our simulated data\n",
    "\n",
    "We can easily plot our rainfall data using the `datetimes` object we already created as the basis of our x-axis."
   ]
  },
  {
   "cell_type": "code",
   "execution_count": null,
   "metadata": {},
   "outputs": [],
   "source": [
    "fig, ax = plt.subplots()\n",
    "\n",
    "ax.bar(datetimes, simulated_rainfall, align='center', alpha=0.5)"
   ]
  },
  {
   "cell_type": "markdown",
   "metadata": {},
   "source": [
    "<div class=\"alert alert-success\">✏️ <strong>DIY Coding</strong>: Play around with our simulation. Here are a couple of ideas:</div>\n",
    "\n",
    "1. Run 100 simulations of rainfall with our model for `JACOBSON FARM`. Compare the distribution of annual rainfall to the empirical distribution of annual rainfall.\n",
    "\n",
    "2. Run the model for the same number of years that are in the `JACOBSON FARM` record and compare the mean and standard deviations of annual rainfall between the simulation and the empirical data. How well do they match?\n",
    "\n",
    "2. Using the same simulations as in `2`, compare the mean and standard deviations of monthly rainfall between the simulation and the empirical data.\n",
    "\n",
    "3. We've made $\\lambda_r$ change every month, but we've used a constant $\\alpha$ value. Determine if the assumption of a constant $\\alpha$ is reasonable.\n",
    "\n",
    "4. Determine the model parameters for a different station, preferably one with much lower or higher rainfall. How do the values of $\\alpha$ and $\\lambda_r$ change between stations?\n",
    "\n",
    "5. Earlier I touched on the idea of non-stationarity in which the values of $\\lambda_r$ and/or $\\alpha$ may be changing over time. If you're up for it, see if you can come up with a way to investigate if our assumption of stationarity is valid.\n"
   ]
  },
  {
   "cell_type": "code",
   "execution_count": null,
   "metadata": {},
   "outputs": [],
   "source": []
  },
  {
   "cell_type": "markdown",
   "metadata": {},
   "source": [
    "## 4. Plotting"
   ]
  },
  {
   "cell_type": "code",
   "execution_count": null,
   "metadata": {},
   "outputs": [],
   "source": [
    "# Relationship between s and E\n",
    "N = 10\n",
    "y = np.zeros(N)\n",
    "rs = np.linspace(0, 1, N, endpoint=True); rs\n",
    "\n",
    "# Cacluate E_max before plotting calc_E\n",
    "# Currently E_max is set as 1 and 2: need to fix.\n",
    "calc_E_max(1,1)\n",
    "\n",
    "# plot calc_E\n",
    "plt.plot(rs, [calc_E(s,1) for s in rs], '-')\n",
    "plt.plot(rs, [calc_E(s,2) for s in rs], '--')\n",
    "plt.title('Effect of LAI on evaporation as a function of relative soil moisture')\n",
    "plt.xlabel('Relative soil moisture content, $\\mathit{s}$')\n",
    "plt.ylabel('Evaporation, $\\mathit{E}$')\n",
    "plt.legend(['LAI = 5','LAI = 0'])\n",
    "#plt.show()\n",
    "#plt.axhline(y=2, color='black', linewidth=1.5)\n",
    "\n",
    "#calc_E(4,1)"
   ]
  },
  {
   "cell_type": "code",
   "execution_count": null,
   "metadata": {},
   "outputs": [],
   "source": [
    "# Relationship between s and T\n",
    "calc_T(0.1,1)\n",
    "\n",
    "N = 100\n",
    "y = np.zeros(N)\n",
    "tr = np.linspace(0, 1, N, endpoint=True)\n",
    "\n",
    "# Calculate T_max (which requires E_max) before plotting calc_T\n",
    "plt.plot(tr, [calc_T(s,1) for s in tr], '-')\n",
    "plt.title('Relationship between relative soil water availability and transpiration')\n",
    "plt.xlabel('Relative soil moisture content, $\\mathit{s}$')\n",
    "plt.ylabel('Transpiration, $\\mathit{T(s)}$')\n",
    "#plt.show()"
   ]
  },
  {
   "cell_type": "code",
   "execution_count": null,
   "metadata": {},
   "outputs": [],
   "source": [
    "# Relationship between kc and DOY\n",
    "N = 120\n",
    "y = np.zeros(N)\n",
    "yx = np.linspace(0, 120, N, endpoint=False)\n",
    "\n",
    "plt.plot(yx, [calc_kc(x) for x in yx], '-')\n",
    "#plt.show()"
   ]
  }
 ],
 "metadata": {
  "kernelspec": {
   "display_name": "Python 3",
   "language": "python",
   "name": "python3"
  },
  "language_info": {
   "codemirror_mode": {
    "name": "ipython",
    "version": 3
   },
   "file_extension": ".py",
   "mimetype": "text/x-python",
   "name": "python",
   "nbconvert_exporter": "python",
   "pygments_lexer": "ipython3",
   "version": "3.7.3"
  }
 },
 "nbformat": 4,
 "nbformat_minor": 2
}
