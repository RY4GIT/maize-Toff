{
 "cells": [
  {
   "cell_type": "markdown",
   "metadata": {},
   "source": [
    "# Code Sandbox\n",
    "\n",
    "A place to test new code and functions"
   ]
  },
  {
   "cell_type": "code",
   "execution_count": 1,
   "metadata": {},
   "outputs": [],
   "source": [
    "# import packages and set working directory\n",
    "import numpy as np\n",
    "import pandas as pd\n",
    "import matplotlib.pyplot as plt\n",
    "import os\n",
    "from math import exp\n",
    "import seaborn as sns\n",
    "\n",
    "#os.chdir('../maize-Toff')\n",
    "\n",
    "# import objects\n",
    "from farm import Climate\n",
    "from farm import Soil\n",
    "from farm import Crop\n",
    "from farm import CropModel\n",
    "from farm.functions import *"
   ]
  },
  {
   "cell_type": "code",
   "execution_count": 2,
   "metadata": {},
   "outputs": [
    {
     "data": {
      "text/html": [
       "<div>\n",
       "<style scoped>\n",
       "    .dataframe tbody tr th:only-of-type {\n",
       "        vertical-align: middle;\n",
       "    }\n",
       "\n",
       "    .dataframe tbody tr th {\n",
       "        vertical-align: top;\n",
       "    }\n",
       "\n",
       "    .dataframe thead th {\n",
       "        text-align: right;\n",
       "    }\n",
       "</style>\n",
       "<table border=\"1\" class=\"dataframe\">\n",
       "  <thead>\n",
       "    <tr style=\"text-align: right;\">\n",
       "      <th></th>\n",
       "      <th>kc</th>\n",
       "      <th>LAI</th>\n",
       "      <th>stress</th>\n",
       "      <th>R</th>\n",
       "      <th>s</th>\n",
       "      <th>E</th>\n",
       "      <th>ET</th>\n",
       "      <th>T</th>\n",
       "      <th>L</th>\n",
       "      <th>dsdt</th>\n",
       "      <th>dos</th>\n",
       "      <th>doy</th>\n",
       "    </tr>\n",
       "  </thead>\n",
       "  <tbody>\n",
       "    <tr>\n",
       "      <th>0</th>\n",
       "      <td>0.3</td>\n",
       "      <td>0.750000</td>\n",
       "      <td>1.000000</td>\n",
       "      <td>0.458075</td>\n",
       "      <td>0.300000</td>\n",
       "      <td>0.099097</td>\n",
       "      <td>0.099097</td>\n",
       "      <td>0.000000</td>\n",
       "      <td>0.0</td>\n",
       "      <td>0.358978</td>\n",
       "      <td>0.0</td>\n",
       "      <td>79</td>\n",
       "    </tr>\n",
       "    <tr>\n",
       "      <th>1</th>\n",
       "      <td>0.3</td>\n",
       "      <td>0.750000</td>\n",
       "      <td>1.000000</td>\n",
       "      <td>0.000000</td>\n",
       "      <td>0.301592</td>\n",
       "      <td>0.103067</td>\n",
       "      <td>0.103067</td>\n",
       "      <td>0.000000</td>\n",
       "      <td>0.0</td>\n",
       "      <td>-0.103067</td>\n",
       "      <td>0.0</td>\n",
       "      <td>80</td>\n",
       "    </tr>\n",
       "    <tr>\n",
       "      <th>2</th>\n",
       "      <td>0.3</td>\n",
       "      <td>0.750000</td>\n",
       "      <td>1.000000</td>\n",
       "      <td>0.000000</td>\n",
       "      <td>0.301135</td>\n",
       "      <td>0.101922</td>\n",
       "      <td>0.101922</td>\n",
       "      <td>0.000000</td>\n",
       "      <td>0.0</td>\n",
       "      <td>-0.101922</td>\n",
       "      <td>0.0</td>\n",
       "      <td>81</td>\n",
       "    </tr>\n",
       "    <tr>\n",
       "      <th>3</th>\n",
       "      <td>0.3</td>\n",
       "      <td>0.750000</td>\n",
       "      <td>1.000000</td>\n",
       "      <td>0.000000</td>\n",
       "      <td>0.300683</td>\n",
       "      <td>0.100793</td>\n",
       "      <td>0.100793</td>\n",
       "      <td>0.000000</td>\n",
       "      <td>0.0</td>\n",
       "      <td>-0.100793</td>\n",
       "      <td>0.0</td>\n",
       "      <td>82</td>\n",
       "    </tr>\n",
       "    <tr>\n",
       "      <th>4</th>\n",
       "      <td>0.3</td>\n",
       "      <td>0.750000</td>\n",
       "      <td>1.000000</td>\n",
       "      <td>0.000000</td>\n",
       "      <td>0.300236</td>\n",
       "      <td>0.099682</td>\n",
       "      <td>0.099682</td>\n",
       "      <td>0.000000</td>\n",
       "      <td>0.0</td>\n",
       "      <td>-0.099682</td>\n",
       "      <td>0.0</td>\n",
       "      <td>83</td>\n",
       "    </tr>\n",
       "    <tr>\n",
       "      <th>...</th>\n",
       "      <td>...</td>\n",
       "      <td>...</td>\n",
       "      <td>...</td>\n",
       "      <td>...</td>\n",
       "      <td>...</td>\n",
       "      <td>...</td>\n",
       "      <td>...</td>\n",
       "      <td>...</td>\n",
       "      <td>...</td>\n",
       "      <td>...</td>\n",
       "      <td>...</td>\n",
       "      <td>...</td>\n",
       "    </tr>\n",
       "    <tr>\n",
       "      <th>203</th>\n",
       "      <td>0.6</td>\n",
       "      <td>2.066667</td>\n",
       "      <td>0.462244</td>\n",
       "      <td>0.000000</td>\n",
       "      <td>0.429236</td>\n",
       "      <td>0.287360</td>\n",
       "      <td>1.345872</td>\n",
       "      <td>1.058512</td>\n",
       "      <td>0.0</td>\n",
       "      <td>-1.345872</td>\n",
       "      <td>183.0</td>\n",
       "      <td>282</td>\n",
       "    </tr>\n",
       "    <tr>\n",
       "      <th>204</th>\n",
       "      <td>0.6</td>\n",
       "      <td>2.033333</td>\n",
       "      <td>0.488794</td>\n",
       "      <td>0.000000</td>\n",
       "      <td>0.423267</td>\n",
       "      <td>0.278476</td>\n",
       "      <td>1.257279</td>\n",
       "      <td>0.978803</td>\n",
       "      <td>0.0</td>\n",
       "      <td>-1.257279</td>\n",
       "      <td>184.0</td>\n",
       "      <td>283</td>\n",
       "    </tr>\n",
       "    <tr>\n",
       "      <th>205</th>\n",
       "      <td>0.6</td>\n",
       "      <td>2.000000</td>\n",
       "      <td>0.514267</td>\n",
       "      <td>0.000000</td>\n",
       "      <td>0.417692</td>\n",
       "      <td>0.270333</td>\n",
       "      <td>1.175537</td>\n",
       "      <td>0.905204</td>\n",
       "      <td>0.0</td>\n",
       "      <td>-1.175537</td>\n",
       "      <td>185.0</td>\n",
       "      <td>284</td>\n",
       "    </tr>\n",
       "    <tr>\n",
       "      <th>206</th>\n",
       "      <td>0.6</td>\n",
       "      <td>1.966667</td>\n",
       "      <td>0.538668</td>\n",
       "      <td>0.000000</td>\n",
       "      <td>0.412479</td>\n",
       "      <td>0.262869</td>\n",
       "      <td>1.100071</td>\n",
       "      <td>0.837202</td>\n",
       "      <td>0.0</td>\n",
       "      <td>-1.100071</td>\n",
       "      <td>186.0</td>\n",
       "      <td>285</td>\n",
       "    </tr>\n",
       "    <tr>\n",
       "      <th>207</th>\n",
       "      <td>0.6</td>\n",
       "      <td>1.933333</td>\n",
       "      <td>0.562015</td>\n",
       "      <td>33.995957</td>\n",
       "      <td>0.407600</td>\n",
       "      <td>0.256028</td>\n",
       "      <td>1.030361</td>\n",
       "      <td>0.774333</td>\n",
       "      <td>0.0</td>\n",
       "      <td>32.965596</td>\n",
       "      <td>187.0</td>\n",
       "      <td>286</td>\n",
       "    </tr>\n",
       "  </tbody>\n",
       "</table>\n",
       "<p>208 rows × 12 columns</p>\n",
       "</div>"
      ],
      "text/plain": [
       "      kc       LAI    stress          R         s         E        ET  \\\n",
       "0    0.3  0.750000  1.000000   0.458075  0.300000  0.099097  0.099097   \n",
       "1    0.3  0.750000  1.000000   0.000000  0.301592  0.103067  0.103067   \n",
       "2    0.3  0.750000  1.000000   0.000000  0.301135  0.101922  0.101922   \n",
       "3    0.3  0.750000  1.000000   0.000000  0.300683  0.100793  0.100793   \n",
       "4    0.3  0.750000  1.000000   0.000000  0.300236  0.099682  0.099682   \n",
       "..   ...       ...       ...        ...       ...       ...       ...   \n",
       "203  0.6  2.066667  0.462244   0.000000  0.429236  0.287360  1.345872   \n",
       "204  0.6  2.033333  0.488794   0.000000  0.423267  0.278476  1.257279   \n",
       "205  0.6  2.000000  0.514267   0.000000  0.417692  0.270333  1.175537   \n",
       "206  0.6  1.966667  0.538668   0.000000  0.412479  0.262869  1.100071   \n",
       "207  0.6  1.933333  0.562015  33.995957  0.407600  0.256028  1.030361   \n",
       "\n",
       "            T    L       dsdt    dos  doy  \n",
       "0    0.000000  0.0   0.358978    0.0   79  \n",
       "1    0.000000  0.0  -0.103067    0.0   80  \n",
       "2    0.000000  0.0  -0.101922    0.0   81  \n",
       "3    0.000000  0.0  -0.100793    0.0   82  \n",
       "4    0.000000  0.0  -0.099682    0.0   83  \n",
       "..        ...  ...        ...    ...  ...  \n",
       "203  1.058512  0.0  -1.345872  183.0  282  \n",
       "204  0.978803  0.0  -1.257279  184.0  283  \n",
       "205  0.905204  0.0  -1.175537  185.0  284  \n",
       "206  0.837202  0.0  -1.100071  186.0  285  \n",
       "207  0.774333  0.0  32.965596  187.0  286  \n",
       "\n",
       "[208 rows x 12 columns]"
      ]
     },
     "execution_count": 2,
     "metadata": {},
     "output_type": "execute_result"
    }
   ],
   "source": [
    "climate = Climate(station='OL JOGI FARM')\n",
    "\n",
    "soil = Soil(texture='loam')\n",
    "crop = Crop(soil=soil, lgp=180)\n",
    "soil.set_nZr(crop)\n",
    "\n",
    "model = CropModel(crop=crop, climate=climate, soil=soil)\n",
    "model.run()\n",
    "o = model.output() # This is the correct length\n",
    "o"
   ]
  },
  {
   "cell_type": "code",
   "execution_count": 13,
   "metadata": {},
   "outputs": [
    {
     "data": {
      "text/plain": [
       "Text(0, 0.5, 'Static Water Stress')"
      ]
     },
     "execution_count": 13,
     "metadata": {},
     "output_type": "execute_result"
    },
    {
     "data": {
      "image/png": "[encoded data removed]",
      "text/plain": [
       "<Figure size 432x288 with 2 Axes>"
      ]
     },
     "metadata": {
      "needs_background": "light"
     },
     "output_type": "display_data"
    }
   ],
   "source": [
    "# plot how potential yield changes over the course of the year based on water stress:\n",
    "\n",
    "#plt.plot([calc_yield(i) for i in o['stress']])\n",
    "\n",
    "#plt.plot(o['stress'])\n",
    "\n",
    "fig, ax = plt.subplots()\n",
    "\n",
    "ax.plot(o['doy'],[calc_yield(i) for i in o['stress']])\n",
    "ax.set_xlabel(\"Day of Year\")\n",
    "ax.set_ylabel(\"Yield (kg ha-1)\")\n",
    "\n",
    "ax2 = ax.twinx()\n",
    "ax2.plot(o['doy'],o['stress'], color='orange')\n",
    "ax2.set_ylabel(\"Static Water Stress\")\n",
    "\n",
    "fig.savefig('two_different_y_axis_for_single_python_plot_with_twinx.jpg',\n",
    "            format='jpeg',\n",
    "            dpi=100,\n",
    "            bbox_inches='tight')"
   ]
  },
  {
   "cell_type": "code",
   "execution_count": 28,
   "metadata": {},
   "outputs": [
    {
     "ename": "ValueError",
     "evalue": "static stress, -1 is less than 0",
     "output_type": "error",
     "traceback": [
      "\u001b[0;31m---------------------------------------------------------------------------\u001b[0m",
      "\u001b[0;31mValueError\u001b[0m                                Traceback (most recent call last)",
      "\u001b[0;32m<ipython-input-28-7647a58865e7>\u001b[0m in \u001b[0;36m<module>\u001b[0;34m\u001b[0m\n\u001b[1;32m     24\u001b[0m \u001b[0mplt\u001b[0m\u001b[0;34m.\u001b[0m\u001b[0mplot\u001b[0m\u001b[0;34m(\u001b[0m\u001b[0mlist_of_stress\u001b[0m\u001b[0;34m,\u001b[0m\u001b[0mdf\u001b[0m\u001b[0;34m)\u001b[0m\u001b[0;34m\u001b[0m\u001b[0;34m\u001b[0m\u001b[0m\n\u001b[1;32m     25\u001b[0m \u001b[0;34m\u001b[0m\u001b[0m\n\u001b[0;32m---> 26\u001b[0;31m \u001b[0mcalc_yield\u001b[0m\u001b[0;34m(\u001b[0m\u001b[0;34m-\u001b[0m\u001b[0;36m1\u001b[0m\u001b[0;34m)\u001b[0m\u001b[0;34m\u001b[0m\u001b[0;34m\u001b[0m\u001b[0m\n\u001b[0m",
      "\u001b[0;32m<ipython-input-28-7647a58865e7>\u001b[0m in \u001b[0;36mcalc_yield\u001b[0;34m(stress, max_yield)\u001b[0m\n\u001b[1;32m      9\u001b[0m \u001b[0;34m\u001b[0m\u001b[0m\n\u001b[1;32m     10\u001b[0m     \u001b[0;32mif\u001b[0m \u001b[0mstress\u001b[0m \u001b[0;34m<\u001b[0m \u001b[0;36m0\u001b[0m\u001b[0;34m:\u001b[0m\u001b[0;34m\u001b[0m\u001b[0;34m\u001b[0m\u001b[0m\n\u001b[0;32m---> 11\u001b[0;31m         raise ValueError(\"static stress, {stress} is less than 0\".format(\n\u001b[0m\u001b[1;32m     12\u001b[0m                 stress=stress))\n\u001b[1;32m     13\u001b[0m \u001b[0;34m\u001b[0m\u001b[0m\n",
      "\u001b[0;31mValueError\u001b[0m: static stress, -1 is less than 0"
     ]
    },
    {
     "data": {
      "image/png": "[encoded data removed]",
      "text/plain": [
       "<Figure size 432x288 with 1 Axes>"
      ]
     },
     "metadata": {
      "needs_background": "light"
     },
     "output_type": "display_data"
    }
   ],
   "source": [
    "# write function that converts stress to yield\n",
    "\n",
    "def calc_yield(stress=None, max_yield = 4680):\n",
    "    yield_kg_ha = -max_yield*stress + max_yield\n",
    "    \n",
    "    if stress > 1:\n",
    "        raise ValueError(\"static stress, {stress} is larger than 1\".format(\n",
    "                stress=stress))\n",
    "    if stress < 0:\n",
    "        raise ValueError(\"static stress, {stress} is less than 0\".format(\n",
    "                stress=stress))\n",
    "    \n",
    "    return yield_kg_ha\n",
    "\n",
    "calc_yield(0.4)\n",
    "\n",
    "# Write some tests based on this\n",
    "df = []\n",
    "list_of_stress = np.arange(0,1,0.01)\n",
    "for i in list_of_stress:\n",
    "    obj  = calc_yield(i)\n",
    "    df.append(obj)\n",
    "\n",
    "plt.plot(list_of_stress,df)\n",
    "\n",
    "calc_yield(-1)\n",
    "calc_yield(2)"
   ]
  },
  {
   "cell_type": "code",
   "execution_count": 3,
   "metadata": {},
   "outputs": [],
   "source": [
    "planting_date = 100\n",
    "s0_mean, s0_std = average_soil_moisture(model, n_sims=500, doy=planting_date)\n",
    "output = model.run(s0=s0_mean, planting_date=planting_date, do_output=True)\n",
    "#output # This just returns the length of average soil moisture calculation"
   ]
  },
  {
   "cell_type": "code",
   "execution_count": 4,
   "metadata": {},
   "outputs": [
    {
     "data": {
      "text/plain": [
       "(59    0.555472\n",
       " dtype: float64,\n",
       " 59    0.077929\n",
       " dtype: float64)"
      ]
     },
     "execution_count": 4,
     "metadata": {},
     "output_type": "execute_result"
    }
   ],
   "source": [
    "average_soil_moisture(model, n_sims=1000, doy=90)"
   ]
  },
  {
   "cell_type": "code",
   "execution_count": 5,
   "metadata": {},
   "outputs": [
    {
     "data": {
      "text/plain": [
       "array([[<matplotlib.axes._subplots.AxesSubplot object at 0x119bf1370>]],\n",
       "      dtype=object)"
      ]
     },
     "execution_count": 5,
     "metadata": {},
     "output_type": "execute_result"
    },
    {
     "data": {
      "image/png": "[encoded data removed]",
      "text/plain": [
       "<Figure size 432x288 with 1 Axes>"
      ]
     },
     "metadata": {
      "needs_background": "light"
     },
     "output_type": "display_data"
    }
   ],
   "source": [
    "n_sim = 1000\n",
    "models = [CropModel(crop=crop, climate=Climate(), soil=soil) for i in np.arange(n_sim)]\n",
    "\n",
    "planting_date = 10\n",
    "\n",
    "output = [model.run(do_output=True, planting_date=planting_date) for model in models]\n",
    "\n",
    "s_avg = pd.DataFrame([o['s'].mean() for o in output])\n",
    "s_avg.hist()"
   ]
  },
  {
   "cell_type": "code",
   "execution_count": null,
   "metadata": {},
   "outputs": [],
   "source": []
  }
 ],
 "metadata": {
  "kernelspec": {
   "display_name": "Python 3",
   "language": "python",
   "name": "python3"
  },
  "language_info": {
   "codemirror_mode": {
    "name": "ipython",
    "version": 3
   },
   "file_extension": ".py",
   "mimetype": "text/x-python",
   "name": "python",
   "nbconvert_exporter": "python",
   "pygments_lexer": "ipython3",
   "version": "3.8.2"
  }
 },
 "nbformat": 4,
 "nbformat_minor": 4
}
