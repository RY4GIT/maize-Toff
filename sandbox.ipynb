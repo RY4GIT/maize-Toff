{
 "cells": [
  {
   "cell_type": "markdown",
   "metadata": {},
   "source": [
    "# Code Sandbox\n",
    "\n",
    "A place to test new code and functions"
   ]
  },
  {
   "cell_type": "code",
   "execution_count": 1,
   "metadata": {},
   "outputs": [],
   "source": [
    "# import packages and set working directory\n",
    "import numpy as np\n",
    "import pandas as pd\n",
    "import matplotlib.pyplot as plt\n",
    "import os\n",
    "from math import exp\n",
    "#os.chdir('../maize-Toff')\n",
    "\n",
    "# import objects\n",
    "from farm import Climate\n",
    "from farm import Soil\n",
    "from farm import Crop\n",
    "from farm import CropModel\n",
    "from farm.functions import make_climate_parameters, average_soil_moisture"
   ]
  },
  {
   "cell_type": "code",
   "execution_count": 5,
   "metadata": {},
   "outputs": [],
   "source": [
    "climate = Climate()\n",
    "\n",
    "soil = Soil(texture='loam')\n",
    "crop = Crop(soil=soil)\n",
    "soil.set_nZr(crop)\n",
    "\n",
    "model = CropModel(crop=crop, climate=climate, soil=soil)"
   ]
  },
  {
   "cell_type": "code",
   "execution_count": 15,
   "metadata": {},
   "outputs": [],
   "source": [
    "planting_date = 100\n",
    "s0_mean, s0_std = average_soil_moisture(model, n_sims=1000, doy=planting_date)\n",
    "output = model.run(s0=s0_mean, planting_date=planting_date, do_output=True)"
   ]
  },
  {
   "cell_type": "code",
   "execution_count": null,
   "metadata": {},
   "outputs": [],
   "source": [
    "average_soil_moisture(model, n_sims=1000, doy=90)"
   ]
  },
  {
   "cell_type": "code",
   "execution_count": null,
   "metadata": {},
   "outputs": [],
   "source": []
  },
  {
   "cell_type": "code",
   "execution_count": null,
   "metadata": {},
   "outputs": [],
   "source": []
  },
  {
   "cell_type": "code",
   "execution_count": null,
   "metadata": {},
   "outputs": [],
   "source": [
    "n_sim = 100\n",
    "models = [CropModel(crop=crop, climate=Climate(), soil=soil) for i in np.arange(n_sim)]\n",
    "\n",
    "planting_date = 10\n",
    "\n",
    "output = [model.run(do_output=True, planting_date=planting_date) for model in models]\n",
    "\n",
    "s_avg = pd.DataFrame([o['s'].mean() for o in output])\n",
    "s_avg.hist()"
   ]
  },
  {
   "cell_type": "code",
   "execution_count": null,
   "metadata": {},
   "outputs": [],
   "source": [
    "output"
   ]
  },
  {
   "cell_type": "code",
   "execution_count": null,
   "metadata": {},
   "outputs": [],
   "source": [
    "# Plot Time Series\n",
    "\n",
    "def plot_ts(x, title, ylab):\n",
    "    #d = np.arange(181)\n",
    "    plt.plot(x, '-')\n",
    "    plt.title(title)\n",
    "    plt.xlabel('Time of Season, $\\mathit{t}$')\n",
    "    plt.ylabel(ylab)\n",
    "\f",
    "\n",
    "# S and time\n",
    "o = model.output()\n",
    "plot_ts(o['s'], 'Relative soil moisture in model.output', 'Relative soil moisture, $\\mathit{mm}$')"
   ]
  }
 ],
 "metadata": {
  "kernelspec": {
   "display_name": "Python 3",
   "language": "python",
   "name": "python3"
  },
  "language_info": {
   "codemirror_mode": {
    "name": "ipython",
    "version": 3
   },
   "file_extension": ".py",
   "mimetype": "text/x-python",
   "name": "python",
   "nbconvert_exporter": "python",
   "pygments_lexer": "ipython3",
   "version": "3.7.3"
  }
 },
 "nbformat": 4,
 "nbformat_minor": 4
}
