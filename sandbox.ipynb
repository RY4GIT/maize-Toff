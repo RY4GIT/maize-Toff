{
 "cells": [
  {
   "cell_type": "markdown",
   "metadata": {},
   "source": [
    "# Code Sandbox\n",
    "\n",
    "A place to test new code and functions"
   ]
  },
  {
   "cell_type": "code",
   "execution_count": 1,
   "metadata": {},
   "outputs": [],
   "source": [
    "# import packages and set working directory\n",
    "import numpy as np\n",
    "import pandas as pd\n",
    "import matplotlib.pyplot as plt\n",
    "import os\n",
    "from math import exp\n",
    "import seaborn as sns\n",
    "\n",
    "#os.chdir('../maize-Toff')\n",
    "\n",
    "# import objects\n",
    "from farm import Climate\n",
    "from farm import Soil\n",
    "from farm import Crop\n",
    "from farm import CropModel\n",
    "from farm.functions import *"
   ]
  },
  {
   "cell_type": "code",
   "execution_count": 11,
   "metadata": {},
   "outputs": [
    {
     "name": "stdout",
     "output_type": "stream",
     "text": [
      "0.42 0.82 0.78 0.53\n"
     ]
    }
   ],
   "source": [
    "climate = Climate(station='OL JOGI FARM')\n",
    "\n",
    "soil = Soil(texture='clay loam')\n",
    "crop = Crop(soil=soil, lgp=180)\n",
    "soil.set_nZr(crop)\n",
    "\n",
    "model = CropModel(crop=crop, climate=climate, soil=soil)\n",
    "model.run()\n",
    "o = model.output() # This is the correct length\n",
    "o.head(25)\n",
    "o_ = o.loc[o['dos'] >= 1]\n",
    "o_.head(20)\n",
    "print(soil.sh, soil.sfc,  crop.s_star, crop.sw)"
   ]
  },
  {
   "cell_type": "code",
   "execution_count": 34,
   "metadata": {},
   "outputs": [
    {
     "data": {
      "text/plain": [
       "0.5618054554391123"
      ]
     },
     "execution_count": 34,
     "metadata": {},
     "output_type": "execute_result"
    }
   ],
   "source": [
    "# playing around with dynamic stress\n",
    "\n",
    "KPAR_CROP = 0.5\n",
    "RPAR_CROP = 2\n",
    "TGRW_CROP = 180\n",
    "QPAR_CROP = 2\n",
    "\n",
    "INVL_SIMU = 1 # actually really not sure about this\n",
    "\n",
    "SWLT_SOIL = crop.sw\n",
    "SSTR_SOIL = crop.s_star\n",
    "\n",
    "## Define Function\n",
    "def calc_dstress(s, stress): #self,  add this\n",
    "    '''Calculates dyamic stress (theta) which is a measure of total water stress during the growing season\n",
    "    as proposed in Porporato et al. (2001).\n",
    "    \n",
    "    Usage: calc_dstress(s, stress):\n",
    "        s = relative saturation [0-1]\n",
    "        stress = static stress [0-1]\n",
    "        \n",
    "    Arguments:\n",
    "    average static stress = not sure about this: mstr_memb\n",
    "    stress point T = average duration of an excursion below stress point\n",
    "    n_star = number of excursions during the growing season\n",
    "    T_seas = length of the growing season: TGRW_CROP\n",
    "    k = fraction of growing season before crop fails = KPAR_CROP\n",
    "    r = effect of number of excurs below strss point = RPAR_CROP\n",
    "    '''\n",
    "    # Calculate average static stress\n",
    "    if len(stress) > 0:\n",
    "        # It's annoying but need to subset the time series so it's just the growing season\n",
    "        # Subset the growing period and get avg soil moisture\n",
    "        start = 21 \n",
    "        end = start + TGRW_CROP\n",
    "        stress_subset = stress[start:end]\n",
    "        mstr_memb = np.mean(stress_subset)\n",
    "    else:\n",
    "        mstr_memb = 0.\n",
    "\n",
    "    # Calculate Crossing Parameters\n",
    "    indx_memb = np.where(s >= SSTR_SOIL)\n",
    "    ccrs_memb = np.diff(np.append(0, np.append(indx_memb, INVL_SIMU * TGRW_CROP + 1))) - 1\n",
    "    ccrs_memb = ccrs_memb[ccrs_memb > 0]\n",
    "    ncrs_memb = len(ccrs_memb)  # dim\n",
    "    if ncrs_memb > 0:\n",
    "        mcrs_memb = np.mean(ccrs_memb) / INVL_SIMU # days\n",
    "    else:\n",
    "        mcrs_memb = 0.\n",
    "        \n",
    "    # Calculate dynamic stress\n",
    "    dstr_memb = ((mstr_memb * mcrs_memb) / (KPAR_CROP * TGRW_CROP))**(ncrs_memb**-RPAR_CROP)\n",
    "    if dstr_memb > 1.:\n",
    "        dstr_memb = 1.\n",
    "\n",
    "    return(dstr_memb)\n",
    "\n",
    "\n",
    "calc_dstress(s = o.s, stress = o.stress)\n",
    "\n",
    "# convert this into yield\n",
    "#4260*(calc_dstress(memb = o.s, stress = o.stress))\n"
   ]
  },
  {
   "cell_type": "code",
   "execution_count": 10,
   "metadata": {},
   "outputs": [
    {
     "data": {
      "text/plain": [
       "0.19388840256942838"
      ]
     },
     "execution_count": 10,
     "metadata": {},
     "output_type": "execute_result"
    }
   ],
   "source": [
    "# Use Drew's code to write a test\n",
    "\n",
    "SWLT_SOIL = crop.sw\n",
    "SSTR_SOIL = crop.s_star\n",
    "QPAR_CROP = 2\n",
    "\n",
    "    # i added this in    \n",
    "# Calculate Average Static Stress -- I think I already do this myself and can just import this average value\n",
    "sstr_memb = (SSTR_SOIL - o.s) / (SSTR_SOIL - SWLT_SOIL)  # dim\n",
    "sstr_memb = sstr_memb[sstr_memb > 0.]\n",
    "sstr_memb[sstr_memb > 1.] = 1.\n",
    "if len(sstr_memb) > 0:\n",
    "    mstr_memb = np.mean(sstr_memb**QPAR_CROP)  # dim\n",
    "else:\n",
    "    mstr_memb = 0.  # dim\n",
    "    \n",
    "    # Can write a test using Drew's code\n",
    "    # above is Drew's code. If I just want to use the stress function I already calculcated, do:\n",
    "    \n",
    "mstr_memb"
   ]
  },
  {
   "cell_type": "code",
   "execution_count": 4,
   "metadata": {},
   "outputs": [
    {
     "data": {
      "text/plain": [
       "(59    0.555472\n",
       " dtype: float64,\n",
       " 59    0.077929\n",
       " dtype: float64)"
      ]
     },
     "execution_count": 4,
     "metadata": {},
     "output_type": "execute_result"
    }
   ],
   "source": [
    "average_soil_moisture(model, n_sims=1000, doy=90)"
   ]
  }
 ],
 "metadata": {
  "kernelspec": {
   "display_name": "Python 3",
   "language": "python",
   "name": "python3"
  },
  "language_info": {
   "codemirror_mode": {
    "name": "ipython",
    "version": 3
   },
   "file_extension": ".py",
   "mimetype": "text/x-python",
   "name": "python",
   "nbconvert_exporter": "python",
   "pygments_lexer": "ipython3",
   "version": "3.8.2"
  }
 },
 "nbformat": 4,
 "nbformat_minor": 4
}
